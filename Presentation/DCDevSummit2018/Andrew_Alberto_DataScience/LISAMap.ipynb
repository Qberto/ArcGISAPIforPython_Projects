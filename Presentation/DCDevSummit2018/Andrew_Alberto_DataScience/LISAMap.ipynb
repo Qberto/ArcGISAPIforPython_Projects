{
 "cells": [
  {
   "cell_type": "markdown",
   "metadata": {},
   "source": [
    "# Creating Hot Spot Maps\n",
    "\n",
    "Local indicators of spatial association (LISAs) or hot spot maps is a common task used to explore spatial heterogeneity and locate areas of similar or dissimilar values.\n",
    "\n",
    "In this notebook, it will be shown how to leverage PySAL and the Python API's Spatial Dataframe to visualize and calculate custom LISA cluster maps.\n",
    "\n",
    "### Demo - Hotspots on Homicade Rates in 1990\n",
    "\n",
    "**1).** Load the libraries and setup the notebook."
   ]
  },
  {
   "cell_type": "code",
   "execution_count": 1,
   "metadata": {
    "collapsed": true
   },
   "outputs": [],
   "source": [
    "%matplotlib inline"
   ]
  },
  {
   "cell_type": "code",
   "execution_count": 2,
   "metadata": {
    "collapsed": true
   },
   "outputs": [],
   "source": [
    "from arcgis.gis import GIS\n",
    "from arcgis.features import SpatialDataFrame\n",
    "from arcgis.features import FeatureCollection\n",
    "import numpy as np\n",
    "import pysal as ps\n",
    "import pandas as pd"
   ]
  },
  {
   "cell_type": "markdown",
   "metadata": {},
   "source": [
    "**2).** PySAL has lots of built in datasets, the tutorial will leverage the 'NAT.shp' dataset.  \n",
    "\n",
    "- Get the path to the dataset\n",
    "- Display the dataset"
   ]
  },
  {
   "cell_type": "code",
   "execution_count": 3,
   "metadata": {
    "collapsed": true
   },
   "outputs": [],
   "source": [
    "fc = ps.examples.get_path('NAT.shp')"
   ]
  },
  {
   "cell_type": "code",
   "execution_count": 4,
   "metadata": {},
   "outputs": [
    {
     "data": {
      "text/html": [
       "<div>\n",
       "<style scoped>\n",
       "    .dataframe tbody tr th:only-of-type {\n",
       "        vertical-align: middle;\n",
       "    }\n",
       "\n",
       "    .dataframe tbody tr th {\n",
       "        vertical-align: top;\n",
       "    }\n",
       "\n",
       "    .dataframe thead th {\n",
       "        text-align: right;\n",
       "    }\n",
       "</style>\n",
       "<table border=\"1\" class=\"dataframe\">\n",
       "  <thead>\n",
       "    <tr style=\"text-align: right;\">\n",
       "      <th></th>\n",
       "      <th>FID</th>\n",
       "      <th>NAME</th>\n",
       "      <th>STATE_NAME</th>\n",
       "      <th>STATE_FIPS</th>\n",
       "      <th>CNTY_FIPS</th>\n",
       "      <th>FIPS</th>\n",
       "      <th>STFIPS</th>\n",
       "      <th>COFIPS</th>\n",
       "      <th>FIPSNO</th>\n",
       "      <th>SOUTH</th>\n",
       "      <th>...</th>\n",
       "      <th>BLK90</th>\n",
       "      <th>GI59</th>\n",
       "      <th>GI69</th>\n",
       "      <th>GI79</th>\n",
       "      <th>GI89</th>\n",
       "      <th>FH60</th>\n",
       "      <th>FH70</th>\n",
       "      <th>FH80</th>\n",
       "      <th>FH90</th>\n",
       "      <th>SHAPE</th>\n",
       "    </tr>\n",
       "  </thead>\n",
       "  <tbody>\n",
       "    <tr>\n",
       "      <th>0</th>\n",
       "      <td>0</td>\n",
       "      <td>Lake of the Woods</td>\n",
       "      <td>Minnesota</td>\n",
       "      <td>27</td>\n",
       "      <td>077</td>\n",
       "      <td>27077</td>\n",
       "      <td>27.0</td>\n",
       "      <td>77.0</td>\n",
       "      <td>27077.0</td>\n",
       "      <td>0</td>\n",
       "      <td>...</td>\n",
       "      <td>0.024534</td>\n",
       "      <td>0.285235</td>\n",
       "      <td>0.372336</td>\n",
       "      <td>0.342104</td>\n",
       "      <td>0.336455</td>\n",
       "      <td>11.279621</td>\n",
       "      <td>5.4</td>\n",
       "      <td>5.663881</td>\n",
       "      <td>9.515860</td>\n",
       "      <td>{'rings': [[[-95.34258270263672, 48.5467033386...</td>\n",
       "    </tr>\n",
       "    <tr>\n",
       "      <th>1</th>\n",
       "      <td>1</td>\n",
       "      <td>Ferry</td>\n",
       "      <td>Washington</td>\n",
       "      <td>53</td>\n",
       "      <td>019</td>\n",
       "      <td>53019</td>\n",
       "      <td>53.0</td>\n",
       "      <td>19.0</td>\n",
       "      <td>53019.0</td>\n",
       "      <td>0</td>\n",
       "      <td>...</td>\n",
       "      <td>0.317712</td>\n",
       "      <td>0.256158</td>\n",
       "      <td>0.360665</td>\n",
       "      <td>0.361928</td>\n",
       "      <td>0.360640</td>\n",
       "      <td>10.053476</td>\n",
       "      <td>2.6</td>\n",
       "      <td>10.079576</td>\n",
       "      <td>11.397059</td>\n",
       "      <td>{'rings': [[[-118.85050201416016, 47.949687957...</td>\n",
       "    </tr>\n",
       "    <tr>\n",
       "      <th>2</th>\n",
       "      <td>2</td>\n",
       "      <td>Stevens</td>\n",
       "      <td>Washington</td>\n",
       "      <td>53</td>\n",
       "      <td>065</td>\n",
       "      <td>53065</td>\n",
       "      <td>53.0</td>\n",
       "      <td>65.0</td>\n",
       "      <td>53065.0</td>\n",
       "      <td>0</td>\n",
       "      <td>...</td>\n",
       "      <td>0.210030</td>\n",
       "      <td>0.283999</td>\n",
       "      <td>0.394083</td>\n",
       "      <td>0.357566</td>\n",
       "      <td>0.369942</td>\n",
       "      <td>9.258437</td>\n",
       "      <td>5.6</td>\n",
       "      <td>6.812127</td>\n",
       "      <td>10.352015</td>\n",
       "      <td>{'rings': [[[-117.43777465820312, 48.044219970...</td>\n",
       "    </tr>\n",
       "    <tr>\n",
       "      <th>3</th>\n",
       "      <td>3</td>\n",
       "      <td>Okanogan</td>\n",
       "      <td>Washington</td>\n",
       "      <td>53</td>\n",
       "      <td>047</td>\n",
       "      <td>53047</td>\n",
       "      <td>53.0</td>\n",
       "      <td>47.0</td>\n",
       "      <td>53047.0</td>\n",
       "      <td>0</td>\n",
       "      <td>...</td>\n",
       "      <td>0.155922</td>\n",
       "      <td>0.258540</td>\n",
       "      <td>0.371218</td>\n",
       "      <td>0.381240</td>\n",
       "      <td>0.394519</td>\n",
       "      <td>9.039900</td>\n",
       "      <td>8.1</td>\n",
       "      <td>10.084926</td>\n",
       "      <td>12.840340</td>\n",
       "      <td>{'rings': [[[-118.97096252441406, 47.939277648...</td>\n",
       "    </tr>\n",
       "    <tr>\n",
       "      <th>4</th>\n",
       "      <td>4</td>\n",
       "      <td>Pend Oreille</td>\n",
       "      <td>Washington</td>\n",
       "      <td>53</td>\n",
       "      <td>051</td>\n",
       "      <td>53051</td>\n",
       "      <td>53.0</td>\n",
       "      <td>51.0</td>\n",
       "      <td>53051.0</td>\n",
       "      <td>0</td>\n",
       "      <td>...</td>\n",
       "      <td>0.134605</td>\n",
       "      <td>0.243263</td>\n",
       "      <td>0.365614</td>\n",
       "      <td>0.358706</td>\n",
       "      <td>0.387848</td>\n",
       "      <td>8.243930</td>\n",
       "      <td>4.1</td>\n",
       "      <td>7.557643</td>\n",
       "      <td>10.313002</td>\n",
       "      <td>{'rings': [[[-117.4375, 48.999996185302734], [...</td>\n",
       "    </tr>\n",
       "  </tbody>\n",
       "</table>\n",
       "<p>5 rows × 71 columns</p>\n",
       "</div>"
      ],
      "text/plain": [
       "   FID               NAME  STATE_NAME STATE_FIPS CNTY_FIPS   FIPS  STFIPS  \\\n",
       "0    0  Lake of the Woods   Minnesota         27       077  27077    27.0   \n",
       "1    1              Ferry  Washington         53       019  53019    53.0   \n",
       "2    2            Stevens  Washington         53       065  53065    53.0   \n",
       "3    3           Okanogan  Washington         53       047  53047    53.0   \n",
       "4    4       Pend Oreille  Washington         53       051  53051    53.0   \n",
       "\n",
       "   COFIPS   FIPSNO  SOUTH                        ...                          \\\n",
       "0    77.0  27077.0      0                        ...                           \n",
       "1    19.0  53019.0      0                        ...                           \n",
       "2    65.0  53065.0      0                        ...                           \n",
       "3    47.0  53047.0      0                        ...                           \n",
       "4    51.0  53051.0      0                        ...                           \n",
       "\n",
       "      BLK90      GI59      GI69      GI79      GI89       FH60  FH70  \\\n",
       "0  0.024534  0.285235  0.372336  0.342104  0.336455  11.279621   5.4   \n",
       "1  0.317712  0.256158  0.360665  0.361928  0.360640  10.053476   2.6   \n",
       "2  0.210030  0.283999  0.394083  0.357566  0.369942   9.258437   5.6   \n",
       "3  0.155922  0.258540  0.371218  0.381240  0.394519   9.039900   8.1   \n",
       "4  0.134605  0.243263  0.365614  0.358706  0.387848   8.243930   4.1   \n",
       "\n",
       "        FH80       FH90                                              SHAPE  \n",
       "0   5.663881   9.515860  {'rings': [[[-95.34258270263672, 48.5467033386...  \n",
       "1  10.079576  11.397059  {'rings': [[[-118.85050201416016, 47.949687957...  \n",
       "2   6.812127  10.352015  {'rings': [[[-117.43777465820312, 48.044219970...  \n",
       "3  10.084926  12.840340  {'rings': [[[-118.97096252441406, 47.939277648...  \n",
       "4   7.557643  10.313002  {'rings': [[[-117.4375, 48.999996185302734], [...  \n",
       "\n",
       "[5 rows x 71 columns]"
      ]
     },
     "execution_count": 4,
     "metadata": {},
     "output_type": "execute_result"
    }
   ],
   "source": [
    "from arcgis.features import FeatureSet\n",
    "sdf = SpatialDataFrame.from_featureclass(fc)\n",
    "sdf.head()"
   ]
  },
  {
   "cell_type": "code",
   "execution_count": 5,
   "metadata": {
    "collapsed": true
   },
   "outputs": [],
   "source": [
    "sdf['SHAPE'] = sdf.geometry.project_as(4326)"
   ]
  },
  {
   "cell_type": "code",
   "execution_count": 24,
   "metadata": {},
   "outputs": [
    {
     "data": {
      "application/vnd.jupyter.widget-view+json": {
       "model_id": "b0c0d7080db04154832222cc0cbc609e"
      }
     },
     "metadata": {},
     "output_type": "display_data"
    }
   ],
   "source": [
    "gis = GIS()\n",
    "m = gis.map('United States')\n",
    "m"
   ]
  },
  {
   "cell_type": "code",
   "execution_count": 25,
   "metadata": {
    "collapsed": true
   },
   "outputs": [],
   "source": [
    "m.center = [42.877742, -97.380979]"
   ]
  },
  {
   "cell_type": "code",
   "execution_count": 26,
   "metadata": {
    "collapsed": true
   },
   "outputs": [],
   "source": [
    "m.zoom = 3"
   ]
  },
  {
   "cell_type": "code",
   "execution_count": 27,
   "metadata": {},
   "outputs": [
    {
     "data": {
      "text/plain": [
       "True"
      ]
     },
     "execution_count": 27,
     "metadata": {},
     "output_type": "execute_result"
    }
   ],
   "source": [
    "sdf.plot(kind='map', map_widget=m, \n",
    "         line_width=.75,\n",
    "        outline_color='Greens_r')"
   ]
  },
  {
   "cell_type": "markdown",
   "metadata": {
    "collapsed": true
   },
   "source": [
    "**3).** Perform the LISA using PySAL\n"
   ]
  },
  {
   "cell_type": "code",
   "execution_count": 10,
   "metadata": {
    "collapsed": true
   },
   "outputs": [],
   "source": [
    "w = ps.weights.Queen.from_dataframe(sdf, geom_col='SHAPE')\n",
    "hr90 = sdf['HR90']\n",
    "lisa = ps.Moran_Local(hr90, w, permutations=9999)"
   ]
  },
  {
   "cell_type": "markdown",
   "metadata": {},
   "source": [
    "**4).** Make some nice labels from the results and add it to the Spatial DataFrame "
   ]
  },
  {
   "cell_type": "code",
   "execution_count": 11,
   "metadata": {
    "collapsed": true
   },
   "outputs": [],
   "source": [
    "lisa_lbls = {1: 'HH', \n",
    "             2: 'LH', \n",
    "             3: 'LL', \n",
    "             4: 'HL', \n",
    "             0: 'Non-significant'}\n",
    "sign = lisa.p_sim < 0.05\n",
    "quadS = lisa.q * sign\n",
    "labels = pd.Series(quadS).map(lisa_lbls).values\n",
    "sdf['LISALABELS'] = labels\n",
    "sdf['LISAVALUES'] = pd.Series(quadS).values"
   ]
  },
  {
   "cell_type": "markdown",
   "metadata": {},
   "source": [
    "### Examine the Results\n",
    "\n",
    "As expected, most locations have no significant clustering, but we do have (dis)similarity within the dataset. "
   ]
  },
  {
   "cell_type": "code",
   "execution_count": 12,
   "metadata": {},
   "outputs": [
    {
     "data": {
      "text/plain": [
       "<matplotlib.axes._subplots.AxesSubplot at 0x1ead2c40a20>"
      ]
     },
     "execution_count": 12,
     "metadata": {},
     "output_type": "execute_result"
    },
    {
     "data": {
      "image/png": "[encoded data removed]",
      "text/plain": [
       "<matplotlib.figure.Figure at 0x1ead2c50278>"
      ]
     },
     "metadata": {},
     "output_type": "display_data"
    }
   ],
   "source": [
    "sdf.LISALABELS.value_counts().plot('bar')"
   ]
  },
  {
   "cell_type": "markdown",
   "metadata": {
    "collapsed": true
   },
   "source": [
    "**5). ** Showing the Results\n",
    "\n",
    "Once the Spatial DataFrame is updated, it can be saved or displayed on a map. "
   ]
  },
  {
   "cell_type": "code",
   "execution_count": 13,
   "metadata": {},
   "outputs": [
    {
     "data": {
      "text/html": [
       "<div class=\"item_container\" style=\"height: auto; overflow: hidden; border: 1px solid #cfcfcf; border-radius: 2px; background: #f6fafa; line-height: 1.21429em; padding: 10px;\">\n",
       "                    <div class=\"item_left\" style=\"width: 210px; float: left;\">\n",
       "                       <a href='https://www.arcgis.com/home/item.html?id=192a1923c2274af890645c5465184d35' target='_blank'>\n",
       "                        <img src='https://www.arcgis.com/sharing/rest//content/items/192a1923c2274af890645c5465184d35/info/thumbnail/ago_downloaded.png' class=\"itemThumbnail\">\n",
       "                       </a>\n",
       "                    </div>\n",
       "\n",
       "                    <div class=\"item_right\"     style=\"float: none; width: auto; overflow: hidden;\">\n",
       "                        <a href='https://www.arcgis.com/home/item.html?id=192a1923c2274af890645c5465184d35' target='_blank'><b>1990 Homicide Map (Creating Using Python API)</b>\n",
       "                        </a>\n",
       "                        <br/>TutorialMap<img src='https://www.arcgis.com/home/js/jsapi/esri/css/images/item_type_icons/maps16.png' style=\"vertical-align:middle;\">Web Map by AndrewSolutions\n",
       "                        <br/>Last Modified: January 03, 2018\n",
       "                        <br/>0 comments, 0 views\n",
       "                    </div>\n",
       "                </div>\n",
       "                "
      ],
      "text/plain": [
       "<Item title:\"1990 Homicide Map (Creating Using Python API)\" type:Web Map owner:AndrewSolutions>"
      ]
     },
     "execution_count": 13,
     "metadata": {},
     "output_type": "execute_result"
    }
   ],
   "source": [
    "item = gis.content.search(\"id: 192a1923c2274af890645c5465184d35\")[0]\n",
    "item"
   ]
  },
  {
   "cell_type": "code",
   "execution_count": 21,
   "metadata": {},
   "outputs": [
    {
     "data": {
      "application/vnd.jupyter.widget-view+json": {
       "model_id": "a8804132413b479ea464fa0c5f5bec44"
      }
     },
     "metadata": {},
     "output_type": "display_data"
    }
   ],
   "source": [
    "m = gis.map(\"United States\")\n",
    "m"
   ]
  },
  {
   "cell_type": "code",
   "execution_count": 19,
   "metadata": {
    "collapsed": true
   },
   "outputs": [],
   "source": [
    "m.zoom = 3"
   ]
  },
  {
   "cell_type": "code",
   "execution_count": 20,
   "metadata": {
    "collapsed": true
   },
   "outputs": [],
   "source": [
    "m.center = [42.877742, -97.380979]"
   ]
  },
  {
   "cell_type": "code",
   "execution_count": 22,
   "metadata": {},
   "outputs": [
    {
     "data": {
      "text/plain": [
       "True"
      ]
     },
     "execution_count": 22,
     "metadata": {},
     "output_type": "execute_result"
    }
   ],
   "source": [
    "q = sdf['LISALABELS'] == 'HH'\n",
    "hh_sdf = sdf[q].copy()\n",
    "hh_sdf.reset_index(inplace=True, drop=True)\n",
    "hh_sdf.plot(map_widget=m, kind='map', line_width=.1,  pallette='Reds_r', alpha=.5)"
   ]
  },
  {
   "cell_type": "code",
   "execution_count": 23,
   "metadata": {},
   "outputs": [
    {
     "data": {
      "text/plain": [
       "True"
      ]
     },
     "execution_count": 23,
     "metadata": {},
     "output_type": "execute_result"
    }
   ],
   "source": [
    "q = sdf['LISALABELS'] == 'LL'\n",
    "hh_sdf = sdf[q].copy()\n",
    "hh_sdf.reset_index(inplace=True, drop=True)\n",
    "hh_sdf.plot(map_widget=m, kind='map', line_width=.1,  pallette='Blues_r', alpha=.5)"
   ]
  }
 ],
 "metadata": {
  "kernelspec": {
   "display_name": "Python 3",
   "language": "python",
   "name": "python3"
  },
  "language_info": {
   "codemirror_mode": {
    "name": "ipython",
    "version": 3
   },
   "file_extension": ".py",
   "mimetype": "text/x-python",
   "name": "python",
   "nbconvert_exporter": "python",
   "pygments_lexer": "ipython3",
   "version": "3.6.1"
  },
  "widgets": {
   "state": {
    "6e388060f1d3487fb496555baf6aa824": {
     "views": [
      {
       "cell_index": 7
      }
     ]
    },
    "74ec5064b4494b8088089670468b74d2": {
     "views": [
      {
       "cell_index": 17
      }
     ]
    }
   },
   "version": "1.2.0"
  }
 },
 "nbformat": 4,
 "nbformat_minor": 2
}
