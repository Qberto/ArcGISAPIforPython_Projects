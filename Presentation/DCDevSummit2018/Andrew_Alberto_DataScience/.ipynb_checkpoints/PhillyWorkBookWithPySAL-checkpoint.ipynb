{
 "cells": [
  {
   "cell_type": "code",
   "execution_count": 1,
   "metadata": {
    "collapsed": false,
    "slideshow": {
     "slide_type": "skip"
    }
   },
   "outputs": [
    {
     "data": {
      "text/html": [
       "<style>.container { width:75% !important; }</style>"
      ],
      "text/plain": [
       "<IPython.core.display.HTML object>"
      ]
     },
     "metadata": {},
     "output_type": "display_data"
    }
   ],
   "source": [
    "from IPython.core.display import display, HTML\n",
    "display(HTML(\"<style>.container { width:75% !important; }</style>\"))"
   ]
  },
  {
   "cell_type": "code",
   "execution_count": 2,
   "metadata": {
    "collapsed": false,
    "slideshow": {
     "slide_type": "skip"
    }
   },
   "outputs": [],
   "source": [
    "%matplotlib inline \n",
    "from arcgis.gis import GIS\n",
    "from arcgis.features import SpatialDataFrame\n",
    "import pandas as pd\n",
    "import numpy as np"
   ]
  },
  {
   "cell_type": "markdown",
   "metadata": {
    "slideshow": {
     "slide_type": "slide"
    }
   },
   "source": [
    "# Machine Learning with the Python API\n",
    "\n"
   ]
  },
  {
   "cell_type": "markdown",
   "metadata": {
    "slideshow": {
     "slide_type": "slide"
    }
   },
   "source": [
    "### Getting Started with GIS\n",
    "\n",
    "- GIS is the entry point into the Portal or ArcGIS Online"
   ]
  },
  {
   "cell_type": "code",
   "execution_count": 3,
   "metadata": {
    "collapsed": false,
    "slideshow": {
     "slide_type": "fragment"
    }
   },
   "outputs": [],
   "source": [
    "gis = GIS(username=\"AndrewSolutions\", password=\"fujiFUJI1\")"
   ]
  },
  {
   "cell_type": "markdown",
   "metadata": {
    "slideshow": {
     "slide_type": "subslide"
    }
   },
   "source": [
    "### Find Content and Use Content\n",
    "\n",
    "- Python API works with:\n",
    "    - Feature Classes\n",
    "    - Services"
   ]
  },
  {
   "cell_type": "code",
   "execution_count": 4,
   "metadata": {
    "collapsed": false,
    "slideshow": {
     "slide_type": "fragment"
    }
   },
   "outputs": [
    {
     "data": {
      "text/html": [
       "<div class=\"item_container\" style=\"height: auto; overflow: hidden; border: 1px solid #cfcfcf; border-radius: 2px; background: #f6fafa; line-height: 1.21429em; padding: 10px;\">\n",
       "                    <div class=\"item_left\" style=\"width: 210px; float: left;\">\n",
       "                       <a href='https://arcgissolutions.maps.arcgis.com/home/item.html?id=03990c6a58f647dbb92fa3ce981c4013' target='_blank'>\n",
       "                        <img src='data:image/png;base64,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' width='200' height='133' class=\"itemThumbnail\">\n",
       "                       </a>\n",
       "                    </div>\n",
       "\n",
       "                    <div class=\"item_right\"     style=\"float: none; width: auto; overflow: hidden;\">\n",
       "                        <a href='https://arcgissolutions.maps.arcgis.com/home/item.html?id=03990c6a58f647dbb92fa3ce981c4013' target='_blank'><b>Census_Block_Groups_2010</b>\n",
       "                        </a>\n",
       "                        <br/><img src='https://arcgissolutions.maps.arcgis.com/home/js/jsapi/esri/css/images/item_type_icons/featureshosted16.png' style=\"vertical-align:middle;\">Feature Layer Collection by AndrewSolutions\n",
       "                        <br/>Last Modified: November 28, 2017\n",
       "                        <br/>0 comments, 10 views\n",
       "                    </div>\n",
       "                </div>\n",
       "                "
      ],
      "text/plain": [
       "<Item title:\"Census_Block_Groups_2010\" type:Feature Layer Collection owner:AndrewSolutions>"
      ]
     },
     "execution_count": 4,
     "metadata": {},
     "output_type": "execute_result"
    }
   ],
   "source": [
    "item = gis.content.search(\"id: 03990c6a58f647dbb92fa3ce981c4013\")[0]\n",
    "item"
   ]
  },
  {
   "cell_type": "markdown",
   "metadata": {
    "slideshow": {
     "slide_type": "subslide"
    }
   },
   "source": [
    "### Access the Data from the Layer\n"
   ]
  },
  {
   "cell_type": "code",
   "execution_count": 5,
   "metadata": {
    "collapsed": true
   },
   "outputs": [],
   "source": [
    "sdf = SpatialDataFrame.from_layer(item.layers[0])"
   ]
  },
  {
   "cell_type": "code",
   "execution_count": 6,
   "metadata": {
    "collapsed": false,
    "slideshow": {
     "slide_type": "fragment"
    }
   },
   "outputs": [
    {
     "data": {
      "text/plain": [
       "{'rings': [[[-8368211.59576728, 4856114.40656772],\n",
       "   [-8368241.42938242, 4855936.7158117],\n",
       "   [-8368303.32315225, 4855947.16815879],\n",
       "   [-8368356.31122459, 4855955.87833762],\n",
       "   [-8368416.64640104, 4855966.18557372],\n",
       "   [-8368386.70147526, 4856142.71551113],\n",
       "   [-8368376.12611922, 4856206.59217668],\n",
       "   [-8368367.22058379, 4856263.065385],\n",
       "   [-8368357.53573914, 4856321.2810492],\n",
       "   [-8368349.96594995, 4856373.68995924],\n",
       "   [-8368328.25864514, 4856498.54322978],\n",
       "   [-8368266.69904389, 4856486.05778193],\n",
       "   [-8368214.37885977, 4856478.65372247],\n",
       "   [-8368152.26255139, 4856468.20089027],\n",
       "   [-8368182.09617526, 4856289.92302445],\n",
       "   [-8368211.59576728, 4856114.40656772]]],\n",
       " 'spatialReference': {'latestWkid': 3857, 'wkid': 102100}}"
      ]
     },
     "execution_count": 6,
     "metadata": {},
     "output_type": "execute_result"
    }
   ],
   "source": [
    "sdf.geometry[0]"
   ]
  },
  {
   "cell_type": "markdown",
   "metadata": {
    "slideshow": {
     "slide_type": "slide"
    }
   },
   "source": [
    "## How to Add Additional Facts about the Location?"
   ]
  },
  {
   "cell_type": "markdown",
   "metadata": {
    "slideshow": {
     "slide_type": "subslide"
    }
   },
   "source": [
    "# GeoEnrichment"
   ]
  },
  {
   "cell_type": "markdown",
   "metadata": {
    "slideshow": {
     "slide_type": "fragment"
    }
   },
   "source": [
    "- Gets Facts about a location\n",
    "- Service enables you to answer questions about locations"
   ]
  },
  {
   "cell_type": "markdown",
   "metadata": {
    "slideshow": {
     "slide_type": "fragment"
    }
   },
   "source": [
    "- Use Enrichment to add additional information\n",
    "- Limited to 100 Features per call\n",
    "- **uses credits!**"
   ]
  },
  {
   "cell_type": "code",
   "execution_count": 7,
   "metadata": {
    "collapsed": false,
    "slideshow": {
     "slide_type": "subslide"
    }
   },
   "outputs": [],
   "source": [
    "from arcgis.geoenrichment import enrich\n",
    "variables = [\"populationtotals.POPDENS10\",\n",
    "             \"Age_by_Sex_by_Race_Profile_rep.TOTPOP10\",\n",
    "             \"Age_by_Sex_by_Race_Profile_rep.TOTPOP_CY\",\n",
    "             \"AtRisk.ACSHHBPOV\",\n",
    "             \"AtRisk.AVGHINC_CY\",\n",
    "             \"KeyUSFacts.TOTHU_CY\",\n",
    "             \"KeyGlobalFacts.TOTHH\",\n",
    "             \"KeyUSFacts.VACANT_CY\",\n",
    "             \"5yearincrements.MAL21UP10\",\n",
    "             \"5yearincrements.FEM21UP10\",\n",
    "             \"5yearincrements.MALES_CY\",\n",
    "             \"5yearincrements.FEMALES_CY\"]\n",
    "parts = []\n",
    "df = enrich(study_areas=sdf, \n",
    "                        return_geometry=False, \n",
    "                        analysis_variables=variables,\n",
    "                        gis=gis)\n",
    "census_df = sdf.merge(df)"
   ]
  },
  {
   "cell_type": "code",
   "execution_count": 7,
   "metadata": {
    "collapsed": false
   },
   "outputs": [
    {
     "data": {
      "text/html": [
       "<div>\n",
       "<style scoped>\n",
       "    .dataframe tbody tr th:only-of-type {\n",
       "        vertical-align: middle;\n",
       "    }\n",
       "\n",
       "    .dataframe tbody tr th {\n",
       "        vertical-align: top;\n",
       "    }\n",
       "\n",
       "    .dataframe thead th {\n",
       "        text-align: right;\n",
       "    }\n",
       "</style>\n",
       "<table border=\"1\" class=\"dataframe\">\n",
       "  <thead>\n",
       "    <tr style=\"text-align: right;\">\n",
       "      <th></th>\n",
       "      <th>ACSHHBPOV</th>\n",
       "      <th>ALAND10</th>\n",
       "      <th>AVGHINC_CY</th>\n",
       "      <th>AWATER10</th>\n",
       "      <th>BLKGRPCE10</th>\n",
       "      <th>COUNTYFP10</th>\n",
       "      <th>FEM21UP10</th>\n",
       "      <th>FEMALES_CY</th>\n",
       "      <th>FUNCSTAT10</th>\n",
       "      <th>GEOID10</th>\n",
       "      <th>...</th>\n",
       "      <th>Shape__Len</th>\n",
       "      <th>Shape__Length</th>\n",
       "      <th>TOTHH</th>\n",
       "      <th>TOTHU_CY</th>\n",
       "      <th>TOTPOP10</th>\n",
       "      <th>TOTPOP_CY</th>\n",
       "      <th>TRACTCE10</th>\n",
       "      <th>VACANT_CY</th>\n",
       "      <th>aggregationMethod</th>\n",
       "      <th>sourceCountry</th>\n",
       "    </tr>\n",
       "  </thead>\n",
       "  <tbody>\n",
       "    <tr>\n",
       "      <th>0</th>\n",
       "      <td>74</td>\n",
       "      <td>56333</td>\n",
       "      <td>35070</td>\n",
       "      <td>0</td>\n",
       "      <td>3</td>\n",
       "      <td>101</td>\n",
       "      <td>246</td>\n",
       "      <td>414</td>\n",
       "      <td>S</td>\n",
       "      <td>421010030023</td>\n",
       "      <td>...</td>\n",
       "      <td>0.010682</td>\n",
       "      <td>1434.899381</td>\n",
       "      <td>304</td>\n",
       "      <td>408</td>\n",
       "      <td>625</td>\n",
       "      <td>767</td>\n",
       "      <td>003002</td>\n",
       "      <td>104</td>\n",
       "      <td>BlockApportionment:US.BlockGroups</td>\n",
       "      <td>US</td>\n",
       "    </tr>\n",
       "    <tr>\n",
       "      <th>1</th>\n",
       "      <td>49</td>\n",
       "      <td>48136</td>\n",
       "      <td>41002</td>\n",
       "      <td>0</td>\n",
       "      <td>3</td>\n",
       "      <td>101</td>\n",
       "      <td>446</td>\n",
       "      <td>644</td>\n",
       "      <td>S</td>\n",
       "      <td>421010030013</td>\n",
       "      <td>...</td>\n",
       "      <td>0.009081</td>\n",
       "      <td>1176.433246</td>\n",
       "      <td>414</td>\n",
       "      <td>461</td>\n",
       "      <td>1107</td>\n",
       "      <td>1184</td>\n",
       "      <td>003001</td>\n",
       "      <td>47</td>\n",
       "      <td>BlockApportionment:US.BlockGroups</td>\n",
       "      <td>US</td>\n",
       "    </tr>\n",
       "    <tr>\n",
       "      <th>2</th>\n",
       "      <td>25</td>\n",
       "      <td>52169</td>\n",
       "      <td>55636</td>\n",
       "      <td>0</td>\n",
       "      <td>2</td>\n",
       "      <td>101</td>\n",
       "      <td>328</td>\n",
       "      <td>453</td>\n",
       "      <td>S</td>\n",
       "      <td>421010030012</td>\n",
       "      <td>...</td>\n",
       "      <td>0.009420</td>\n",
       "      <td>1214.747521</td>\n",
       "      <td>326</td>\n",
       "      <td>359</td>\n",
       "      <td>778</td>\n",
       "      <td>855</td>\n",
       "      <td>003001</td>\n",
       "      <td>33</td>\n",
       "      <td>BlockApportionment:US.BlockGroups</td>\n",
       "      <td>US</td>\n",
       "    </tr>\n",
       "    <tr>\n",
       "      <th>3</th>\n",
       "      <td>116</td>\n",
       "      <td>50802</td>\n",
       "      <td>34651</td>\n",
       "      <td>0</td>\n",
       "      <td>4</td>\n",
       "      <td>101</td>\n",
       "      <td>476</td>\n",
       "      <td>684</td>\n",
       "      <td>S</td>\n",
       "      <td>421010030014</td>\n",
       "      <td>...</td>\n",
       "      <td>0.009301</td>\n",
       "      <td>1200.987342</td>\n",
       "      <td>428</td>\n",
       "      <td>465</td>\n",
       "      <td>1266</td>\n",
       "      <td>1309</td>\n",
       "      <td>003001</td>\n",
       "      <td>37</td>\n",
       "      <td>BlockApportionment:US.BlockGroups</td>\n",
       "      <td>US</td>\n",
       "    </tr>\n",
       "    <tr>\n",
       "      <th>4</th>\n",
       "      <td>135</td>\n",
       "      <td>49611</td>\n",
       "      <td>32903</td>\n",
       "      <td>0</td>\n",
       "      <td>2</td>\n",
       "      <td>101</td>\n",
       "      <td>364</td>\n",
       "      <td>533</td>\n",
       "      <td>S</td>\n",
       "      <td>421010030022</td>\n",
       "      <td>...</td>\n",
       "      <td>0.009264</td>\n",
       "      <td>1196.001395</td>\n",
       "      <td>451</td>\n",
       "      <td>496</td>\n",
       "      <td>808</td>\n",
       "      <td>969</td>\n",
       "      <td>003002</td>\n",
       "      <td>45</td>\n",
       "      <td>BlockApportionment:US.BlockGroups</td>\n",
       "      <td>US</td>\n",
       "    </tr>\n",
       "  </tbody>\n",
       "</table>\n",
       "<p>5 rows × 34 columns</p>\n",
       "</div>"
      ],
      "text/plain": [
       "   ACSHHBPOV  ALAND10  AVGHINC_CY  AWATER10 BLKGRPCE10 COUNTYFP10  FEM21UP10  \\\n",
       "0         74    56333       35070         0          3        101        246   \n",
       "1         49    48136       41002         0          3        101        446   \n",
       "2         25    52169       55636         0          2        101        328   \n",
       "3        116    50802       34651         0          4        101        476   \n",
       "4        135    49611       32903         0          2        101        364   \n",
       "\n",
       "   FEMALES_CY FUNCSTAT10       GEOID10      ...        Shape__Len  \\\n",
       "0         414          S  421010030023      ...          0.010682   \n",
       "1         644          S  421010030013      ...          0.009081   \n",
       "2         453          S  421010030012      ...          0.009420   \n",
       "3         684          S  421010030014      ...          0.009301   \n",
       "4         533          S  421010030022      ...          0.009264   \n",
       "\n",
       "  Shape__Length TOTHH TOTHU_CY  TOTPOP10  TOTPOP_CY TRACTCE10 VACANT_CY  \\\n",
       "0   1434.899381   304      408       625        767    003002       104   \n",
       "1   1176.433246   414      461      1107       1184    003001        47   \n",
       "2   1214.747521   326      359       778        855    003001        33   \n",
       "3   1200.987342   428      465      1266       1309    003001        37   \n",
       "4   1196.001395   451      496       808        969    003002        45   \n",
       "\n",
       "                   aggregationMethod  sourceCountry  \n",
       "0  BlockApportionment:US.BlockGroups             US  \n",
       "1  BlockApportionment:US.BlockGroups             US  \n",
       "2  BlockApportionment:US.BlockGroups             US  \n",
       "3  BlockApportionment:US.BlockGroups             US  \n",
       "4  BlockApportionment:US.BlockGroups             US  \n",
       "\n",
       "[5 rows x 34 columns]"
      ]
     },
     "execution_count": 7,
     "metadata": {},
     "output_type": "execute_result"
    }
   ],
   "source": [
    "df.head()"
   ]
  },
  {
   "cell_type": "code",
   "execution_count": 8,
   "metadata": {
    "collapsed": false
   },
   "outputs": [],
   "source": [
    "#census_df = sdf.merge(df)\n",
    "#census_df.geometry = census_df.geometry.project_as(3857)"
   ]
  },
  {
   "cell_type": "code",
   "execution_count": 9,
   "metadata": {
    "collapsed": false
   },
   "outputs": [
    {
     "data": {
      "text/plain": [
       "{'rings': [[[-8368211.59576728, 4856114.40656772],\n",
       "   [-8368241.42938242, 4855936.7158117],\n",
       "   [-8368303.32315225, 4855947.16815879],\n",
       "   [-8368356.31122459, 4855955.87833762],\n",
       "   [-8368416.64640104, 4855966.18557372],\n",
       "   [-8368386.70147526, 4856142.71551113],\n",
       "   [-8368376.12611922, 4856206.59217668],\n",
       "   [-8368367.22058379, 4856263.065385],\n",
       "   [-8368357.53573914, 4856321.2810492],\n",
       "   [-8368349.96594995, 4856373.68995924],\n",
       "   [-8368328.25864514, 4856498.54322978],\n",
       "   [-8368266.69904389, 4856486.05778193],\n",
       "   [-8368214.37885977, 4856478.65372247],\n",
       "   [-8368152.26255139, 4856468.20089027],\n",
       "   [-8368182.09617526, 4856289.92302445],\n",
       "   [-8368211.59576728, 4856114.40656772]]],\n",
       " 'spatialReference': {'latestWkid': 3857, 'wkid': 102100}}"
      ]
     },
     "execution_count": 9,
     "metadata": {},
     "output_type": "execute_result"
    }
   ],
   "source": [
    "census_df.geometry[0]"
   ]
  },
  {
   "cell_type": "code",
   "execution_count": 42,
   "metadata": {
    "collapsed": false,
    "slideshow": {
     "slide_type": "subslide"
    }
   },
   "outputs": [
    {
     "data": {
      "text/plain": [
       "arcgis.features._data.geodataset.geodataframe.SpatialDataFrame"
      ]
     },
     "execution_count": 42,
     "metadata": {},
     "output_type": "execute_result"
    }
   ],
   "source": [
    "sdf.join(df, lsuffix='_l', rsuffix='_r')"
   ]
  },
  {
   "cell_type": "code",
   "execution_count": 15,
   "metadata": {
    "collapsed": false,
    "slideshow": {
     "slide_type": "skip"
    }
   },
   "outputs": [
    {
     "data": {
      "text/plain": [
       "Index(['ALAND10', 'AWATER10', 'BLKGRPCE10', 'COUNTYFP10', 'FID', 'FUNCSTAT10',\n",
       "       'GEOID10', 'INTPTLAT10', 'INTPTLON10', 'MTFCC10', 'NAMELSAD10',\n",
       "       'OBJECTID', 'STATEFP10', 'Shape__Are', 'Shape__Area', 'Shape__Len',\n",
       "       'Shape__Length', 'TRACTCE10', 'SHAPE', 'ACSHHBPOV', 'AVGHINC_CY',\n",
       "       'FEM21UP10', 'FEMALES_CY', 'HasData', 'ID', 'MAL21UP10', 'MALES_CY',\n",
       "       'OBJECTID_0', 'POPDENS10', 'TOTHH', 'TOTHU_CY', 'TOTPOP10', 'TOTPOP_CY',\n",
       "       'VACANT_CY', 'aggregationMethod', 'sourceCountry'],\n",
       "      dtype='object')"
      ]
     },
     "execution_count": 15,
     "metadata": {},
     "output_type": "execute_result"
    }
   ],
   "source": [
    "census_df.columns"
   ]
  },
  {
   "cell_type": "code",
   "execution_count": 14,
   "metadata": {
    "collapsed": false,
    "slideshow": {
     "slide_type": "skip"
    }
   },
   "outputs": [
    {
     "data": {
      "text/html": [
       "<div>\n",
       "<style scoped>\n",
       "    .dataframe tbody tr th:only-of-type {\n",
       "        vertical-align: middle;\n",
       "    }\n",
       "\n",
       "    .dataframe tbody tr th {\n",
       "        vertical-align: top;\n",
       "    }\n",
       "\n",
       "    .dataframe thead th {\n",
       "        text-align: right;\n",
       "    }\n",
       "</style>\n",
       "<table border=\"1\" class=\"dataframe\">\n",
       "  <thead>\n",
       "    <tr style=\"text-align: right;\">\n",
       "      <th></th>\n",
       "      <th>GEOID10</th>\n",
       "      <th>TOTHU_CY</th>\n",
       "    </tr>\n",
       "  </thead>\n",
       "  <tbody>\n",
       "    <tr>\n",
       "      <th>0</th>\n",
       "      <td>421010030023</td>\n",
       "      <td>408</td>\n",
       "    </tr>\n",
       "    <tr>\n",
       "      <th>1</th>\n",
       "      <td>421010030013</td>\n",
       "      <td>461</td>\n",
       "    </tr>\n",
       "    <tr>\n",
       "      <th>2</th>\n",
       "      <td>421010030012</td>\n",
       "      <td>359</td>\n",
       "    </tr>\n",
       "    <tr>\n",
       "      <th>3</th>\n",
       "      <td>421010030014</td>\n",
       "      <td>465</td>\n",
       "    </tr>\n",
       "    <tr>\n",
       "      <th>4</th>\n",
       "      <td>421010030022</td>\n",
       "      <td>496</td>\n",
       "    </tr>\n",
       "  </tbody>\n",
       "</table>\n",
       "</div>"
      ],
      "text/plain": [
       "        GEOID10  TOTHU_CY\n",
       "0  421010030023       408\n",
       "1  421010030013       461\n",
       "2  421010030012       359\n",
       "3  421010030014       465\n",
       "4  421010030022       496"
      ]
     },
     "execution_count": 14,
     "metadata": {},
     "output_type": "execute_result"
    }
   ],
   "source": [
    "census_df[['GEOID10', 'TOTHU_CY']].head()"
   ]
  },
  {
   "cell_type": "code",
   "execution_count": 10,
   "metadata": {
    "collapsed": false,
    "slideshow": {
     "slide_type": "subslide"
    }
   },
   "outputs": [
    {
     "data": {
      "text/html": [
       "<div>\n",
       "<style scoped>\n",
       "    .dataframe tbody tr th:only-of-type {\n",
       "        vertical-align: middle;\n",
       "    }\n",
       "\n",
       "    .dataframe tbody tr th {\n",
       "        vertical-align: top;\n",
       "    }\n",
       "\n",
       "    .dataframe thead th {\n",
       "        text-align: right;\n",
       "    }\n",
       "</style>\n",
       "<table border=\"1\" class=\"dataframe\">\n",
       "  <thead>\n",
       "    <tr style=\"text-align: right;\">\n",
       "      <th></th>\n",
       "      <th>ALAND10</th>\n",
       "      <th>AWATER10</th>\n",
       "      <th>BLKGRPCE10</th>\n",
       "      <th>COUNTYFP10</th>\n",
       "      <th>FID</th>\n",
       "      <th>FUNCSTAT10</th>\n",
       "      <th>GEOID10</th>\n",
       "      <th>INTPTLAT10</th>\n",
       "      <th>INTPTLON10</th>\n",
       "      <th>MTFCC10</th>\n",
       "      <th>...</th>\n",
       "      <th>MALES_CY</th>\n",
       "      <th>OBJECTID_0</th>\n",
       "      <th>POPDENS10</th>\n",
       "      <th>TOTHH</th>\n",
       "      <th>TOTHU_CY</th>\n",
       "      <th>TOTPOP10</th>\n",
       "      <th>TOTPOP_CY</th>\n",
       "      <th>VACANT_CY</th>\n",
       "      <th>aggregationMethod</th>\n",
       "      <th>sourceCountry</th>\n",
       "    </tr>\n",
       "  </thead>\n",
       "  <tbody>\n",
       "    <tr>\n",
       "      <th>0</th>\n",
       "      <td>56333</td>\n",
       "      <td>0</td>\n",
       "      <td>3</td>\n",
       "      <td>101</td>\n",
       "      <td>1</td>\n",
       "      <td>S</td>\n",
       "      <td>421010030023</td>\n",
       "      <td>+39.9330383</td>\n",
       "      <td>-075.1735775</td>\n",
       "      <td>G5030</td>\n",
       "      <td>...</td>\n",
       "      <td>353</td>\n",
       "      <td>1</td>\n",
       "      <td>28669.7</td>\n",
       "      <td>304</td>\n",
       "      <td>408</td>\n",
       "      <td>625</td>\n",
       "      <td>767</td>\n",
       "      <td>104</td>\n",
       "      <td>BlockApportionment:US.BlockGroups</td>\n",
       "      <td>US</td>\n",
       "    </tr>\n",
       "    <tr>\n",
       "      <th>1</th>\n",
       "      <td>48136</td>\n",
       "      <td>0</td>\n",
       "      <td>3</td>\n",
       "      <td>101</td>\n",
       "      <td>2</td>\n",
       "      <td>S</td>\n",
       "      <td>421010030013</td>\n",
       "      <td>+39.9284555</td>\n",
       "      <td>-075.1721526</td>\n",
       "      <td>G5030</td>\n",
       "      <td>...</td>\n",
       "      <td>540</td>\n",
       "      <td>2</td>\n",
       "      <td>59516.1</td>\n",
       "      <td>414</td>\n",
       "      <td>461</td>\n",
       "      <td>1107</td>\n",
       "      <td>1184</td>\n",
       "      <td>47</td>\n",
       "      <td>BlockApportionment:US.BlockGroups</td>\n",
       "      <td>US</td>\n",
       "    </tr>\n",
       "    <tr>\n",
       "      <th>2</th>\n",
       "      <td>52169</td>\n",
       "      <td>0</td>\n",
       "      <td>2</td>\n",
       "      <td>101</td>\n",
       "      <td>3</td>\n",
       "      <td>S</td>\n",
       "      <td>421010030012</td>\n",
       "      <td>+39.9281881</td>\n",
       "      <td>-075.1700469</td>\n",
       "      <td>G5030</td>\n",
       "      <td>...</td>\n",
       "      <td>402</td>\n",
       "      <td>3</td>\n",
       "      <td>38706.5</td>\n",
       "      <td>326</td>\n",
       "      <td>359</td>\n",
       "      <td>778</td>\n",
       "      <td>855</td>\n",
       "      <td>33</td>\n",
       "      <td>BlockApportionment:US.BlockGroups</td>\n",
       "      <td>US</td>\n",
       "    </tr>\n",
       "    <tr>\n",
       "      <th>3</th>\n",
       "      <td>50802</td>\n",
       "      <td>0</td>\n",
       "      <td>4</td>\n",
       "      <td>101</td>\n",
       "      <td>4</td>\n",
       "      <td>S</td>\n",
       "      <td>421010030014</td>\n",
       "      <td>+39.9287264</td>\n",
       "      <td>-075.1742272</td>\n",
       "      <td>G5030</td>\n",
       "      <td>...</td>\n",
       "      <td>625</td>\n",
       "      <td>4</td>\n",
       "      <td>64591.8</td>\n",
       "      <td>428</td>\n",
       "      <td>465</td>\n",
       "      <td>1266</td>\n",
       "      <td>1309</td>\n",
       "      <td>37</td>\n",
       "      <td>BlockApportionment:US.BlockGroups</td>\n",
       "      <td>US</td>\n",
       "    </tr>\n",
       "  </tbody>\n",
       "</table>\n",
       "<p>4 rows × 36 columns</p>\n",
       "</div>"
      ],
      "text/plain": [
       "   ALAND10  AWATER10 BLKGRPCE10 COUNTYFP10  FID FUNCSTAT10       GEOID10  \\\n",
       "0    56333         0          3        101    1          S  421010030023   \n",
       "1    48136         0          3        101    2          S  421010030013   \n",
       "2    52169         0          2        101    3          S  421010030012   \n",
       "3    50802         0          4        101    4          S  421010030014   \n",
       "\n",
       "    INTPTLAT10    INTPTLON10 MTFCC10      ...       MALES_CY  OBJECTID_0  \\\n",
       "0  +39.9330383  -075.1735775   G5030      ...            353           1   \n",
       "1  +39.9284555  -075.1721526   G5030      ...            540           2   \n",
       "2  +39.9281881  -075.1700469   G5030      ...            402           3   \n",
       "3  +39.9287264  -075.1742272   G5030      ...            625           4   \n",
       "\n",
       "  POPDENS10  TOTHH  TOTHU_CY  TOTPOP10  TOTPOP_CY VACANT_CY  \\\n",
       "0   28669.7    304       408       625        767       104   \n",
       "1   59516.1    414       461      1107       1184        47   \n",
       "2   38706.5    326       359       778        855        33   \n",
       "3   64591.8    428       465      1266       1309        37   \n",
       "\n",
       "                   aggregationMethod  sourceCountry  \n",
       "0  BlockApportionment:US.BlockGroups             US  \n",
       "1  BlockApportionment:US.BlockGroups             US  \n",
       "2  BlockApportionment:US.BlockGroups             US  \n",
       "3  BlockApportionment:US.BlockGroups             US  \n",
       "\n",
       "[4 rows x 36 columns]"
      ]
     },
     "execution_count": 10,
     "metadata": {},
     "output_type": "execute_result"
    }
   ],
   "source": [
    "census_df.head(4)"
   ]
  },
  {
   "cell_type": "markdown",
   "metadata": {
    "slideshow": {
     "slide_type": "slide"
    }
   },
   "source": [
    "## Consuming 3rd Party Data\n",
    "\n",
    "\n",
    "\n",
    "<center><img src=\"./img/consuming.gif\" alt=\"consume\"> </center>"
   ]
  },
  {
   "cell_type": "markdown",
   "metadata": {
    "slideshow": {
     "slide_type": "fragment"
    }
   },
   "source": [
    "- vast amount of data sources\n",
    "- Pandas and Spatial DataFrame multiple ingestion tools\n"
   ]
  },
  {
   "cell_type": "code",
   "execution_count": 11,
   "metadata": {
    "collapsed": true,
    "slideshow": {
     "slide_type": "fragment"
    }
   },
   "outputs": [],
   "source": [
    "liquor_df = pd.read_csv(\n",
    "    \"http://data-phl.opendata.arcgis.com/datasets/d948bb607bb942b39817a1ef98eebb12_0.csv\",\n",
    "    index_col=None, infer_datetime_format=True)"
   ]
  },
  {
   "cell_type": "code",
   "execution_count": 12,
   "metadata": {
    "collapsed": false,
    "slideshow": {
     "slide_type": "fragment"
    }
   },
   "outputs": [],
   "source": [
    "crime_sdf = SpatialDataFrame.from_featureclass(r\"./data/philadelphia/drunkenness_crime.shp\")\n",
    "q = (crime_sdf['point_x'] != 0) & (crime_sdf['point_y'] != 0)\n",
    "crime_sdf = crime_sdf[q].copy()\n",
    "crime_sdf.reset_index(inplace=True, drop=True)"
   ]
  },
  {
   "cell_type": "code",
   "execution_count": 13,
   "metadata": {
    "collapsed": false,
    "slideshow": {
     "slide_type": "fragment"
    }
   },
   "outputs": [
    {
     "data": {
      "text/html": [
       "<div>\n",
       "<style scoped>\n",
       "    .dataframe tbody tr th:only-of-type {\n",
       "        vertical-align: middle;\n",
       "    }\n",
       "\n",
       "    .dataframe tbody tr th {\n",
       "        vertical-align: top;\n",
       "    }\n",
       "\n",
       "    .dataframe thead th {\n",
       "        text-align: right;\n",
       "    }\n",
       "</style>\n",
       "<table border=\"1\" class=\"dataframe\">\n",
       "  <thead>\n",
       "    <tr style=\"text-align: right;\">\n",
       "      <th></th>\n",
       "      <th>LICENSEES_NAME_1</th>\n",
       "      <th>LIC_TYP_NME</th>\n",
       "      <th>SHAPE</th>\n",
       "    </tr>\n",
       "  </thead>\n",
       "  <tbody>\n",
       "    <tr>\n",
       "      <th>0</th>\n",
       "      <td>JACK DUGGAN'S PHL  INC.</td>\n",
       "      <td>AIRPORT RESTAURANT LIQUOR</td>\n",
       "      <td>{'x': -75.2288233586, 'y': 39.8941367717, 'spa...</td>\n",
       "    </tr>\n",
       "  </tbody>\n",
       "</table>\n",
       "</div>"
      ],
      "text/plain": [
       "          LICENSEES_NAME_1                LIC_TYP_NME  \\\n",
       "0  JACK DUGGAN'S PHL  INC.  AIRPORT RESTAURANT LIQUOR   \n",
       "\n",
       "                                               SHAPE  \n",
       "0  {'x': -75.2288233586, 'y': 39.8941367717, 'spa...  "
      ]
     },
     "execution_count": 13,
     "metadata": {},
     "output_type": "execute_result"
    }
   ],
   "source": [
    "from arcgis.geometry import Point\n",
    "geoms = [Point({'x': x, 'y': y, 'spatialReference' : {'wkid' : 4326}}) \\\n",
    "         for x,y in liquor_df[['X','Y']].to_records(index=False)]\n",
    "liquor_sdf = SpatialDataFrame(data=liquor_df, geometry=geoms)\n",
    "liquor_sdf[['LICENSEES_NAME_1','LIC_TYP_NME', 'SHAPE']].head(1)"
   ]
  },
  {
   "cell_type": "markdown",
   "metadata": {
    "collapsed": true,
    "slideshow": {
     "slide_type": "slide"
    }
   },
   "source": [
    "## Convert a DataFrame to a Spatial DataFrame\n",
    "\n",
    "- query out what we need\n",
    "- convert coordinates to geometries\n"
   ]
  },
  {
   "cell_type": "code",
   "execution_count": 14,
   "metadata": {
    "collapsed": true,
    "slideshow": {
     "slide_type": "skip"
    }
   },
   "outputs": [],
   "source": [
    "#crime_sdf = SpatialDataFrame.from_featureclass(r\"./data/philadelphia/drunkenness_crime.shp\")\n",
    "#q = (crime_sdf['point_x'] != 0) & (crime_sdf['point_y'] != 0)\n",
    "#crime_sdf = crime_sdf[q].copy()\n",
    "#crime_sdf.reset_index(inplace=True, drop=True)"
   ]
  },
  {
   "cell_type": "code",
   "execution_count": 15,
   "metadata": {
    "collapsed": false,
    "slideshow": {
     "slide_type": "skip"
    }
   },
   "outputs": [],
   "source": [
    "#q = (crime_sdf['point_x'] != 0) & (crime_sdf['point_y'] != 0)\n",
    "#vc = crime_sdf[q]['hour_'].value_counts(ascending=True)\n",
    "#vc.sort_index(inplace=True)\n",
    "#vc.plot('bar')"
   ]
  },
  {
   "cell_type": "code",
   "execution_count": 16,
   "metadata": {
    "collapsed": false,
    "slideshow": {
     "slide_type": "subslide"
    }
   },
   "outputs": [
    {
     "data": {
      "text/plain": [
       "DRIVING UNDER THE INFLUENCE    55065\n",
       "Public Drunkenness              4693\n",
       "Name: text_gener, dtype: int64"
      ]
     },
     "execution_count": 16,
     "metadata": {},
     "output_type": "execute_result"
    }
   ],
   "source": [
    "crime_sdf['text_gener'].value_counts()\n"
   ]
  },
  {
   "cell_type": "markdown",
   "metadata": {},
   "source": [
    "## Spatial Joins\n",
    "\n",
    "- affixes data from one feature layer's attribute table to another from a spatial perspective"
   ]
  },
  {
   "cell_type": "code",
   "execution_count": null,
   "metadata": {
    "collapsed": true,
    "slideshow": {
     "slide_type": "skip"
    }
   },
   "outputs": [],
   "source": []
  },
  {
   "cell_type": "markdown",
   "metadata": {
    "slideshow": {
     "slide_type": "subslide"
    }
   },
   "source": [
    "### Demo: Spatial Join Census Data with the Liquor and Crime Locations\n",
    "\n",
    "- Assign the GEOID10 by location"
   ]
  },
  {
   "cell_type": "code",
   "execution_count": 17,
   "metadata": {
    "collapsed": false,
    "slideshow": {
     "slide_type": "fragment"
    }
   },
   "outputs": [],
   "source": [
    "#sdf.geometry = sdf.project_as(4326)\n",
    "from arcgis.geometry._types import SpatialReference\n",
    "census_df.geometry = census_df.geometry.project_as(4326)\n",
    "\n",
    "census_df.sr = SpatialReference({'wkid' : 4326})"
   ]
  },
  {
   "cell_type": "code",
   "execution_count": 19,
   "metadata": {
    "collapsed": false
   },
   "outputs": [
    {
     "data": {
      "text/plain": [
       "(48096, 60697)"
      ]
     },
     "execution_count": 19,
     "metadata": {},
     "output_type": "execute_result"
    }
   ],
   "source": [
    "census_df.size, liquor_sdf.size\n",
    "#q = census_df.geometry.disjoint(liquor_sdf)\n",
    "#res = spatial_join(liquor_sdf, census_df)"
   ]
  },
  {
   "cell_type": "code",
   "execution_count": 20,
   "metadata": {
    "collapsed": false
   },
   "outputs": [
    {
     "data": {
      "text/plain": [
       "'c:\\\\temp\\\\scratch.gdb\\\\asdfasdg33dfds'"
      ]
     },
     "execution_count": 20,
     "metadata": {},
     "output_type": "execute_result"
    }
   ],
   "source": [
    "census_df.to_featureclass(out_location=r\"c:\\temp\\scratch.gdb\", out_name=\"asdfasdg33dfds\")"
   ]
  },
  {
   "cell_type": "code",
   "execution_count": null,
   "metadata": {
    "collapsed": true
   },
   "outputs": [],
   "source": [
    "fc = 'c:\\\\temp\\\\scratch.gdb\\\\asdfasdg33dfds'"
   ]
  },
  {
   "cell_type": "code",
   "execution_count": 21,
   "metadata": {
    "collapsed": false,
    "slideshow": {
     "slide_type": "fragment"
    }
   },
   "outputs": [
    {
     "name": "stderr",
     "output_type": "stream",
     "text": [
      "d:\\svn\\git_hub\\arcgis\\geosaurus_achapkowski_master\\src\\arcgis\\features\\_data\\geodataset\\geodataframe.py:1129: UserWarning: Boolean Series key will be reindexed to match DataFrame index.\n",
      "  result = super(SpatialDataFrame, self).__getitem__(key)\n"
     ]
    }
   ],
   "source": [
    "from arcgis.features._data.geodataset.tools import spatial_join\n",
    "joined_liquor = spatial_join(df2=census_df, df1=liquor_sdf)\n",
    "joined_crime = spatial_join(df2=census_df, df1=crime_sdf[q])"
   ]
  },
  {
   "cell_type": "code",
   "execution_count": 22,
   "metadata": {
    "collapsed": false
   },
   "outputs": [
    {
     "data": {
      "text/plain": [
       "(138138, 3115711, 48096)"
      ]
     },
     "execution_count": 22,
     "metadata": {},
     "output_type": "execute_result"
    }
   ],
   "source": [
    "joined_liquor.size, joined_crime.size, census_df.size"
   ]
  },
  {
   "cell_type": "markdown",
   "metadata": {
    "slideshow": {
     "slide_type": "subslide"
    }
   },
   "source": [
    "## Join the Counts to the Census Boundaries"
   ]
  },
  {
   "cell_type": "code",
   "execution_count": 23,
   "metadata": {
    "collapsed": false,
    "slideshow": {
     "slide_type": "fragment"
    }
   },
   "outputs": [],
   "source": [
    "vc_crime = joined_crime['GEOID10'].value_counts()\n",
    "vc_crime.name = \"DRUNK_COUNT\"\n",
    "vc_df = vc_crime.to_frame()\n",
    "vc_df.reset_index(inplace=True, drop=False)\n",
    "sdf1 = sdf.merge(vc_df, how='outer', \n",
    "                 left_on=\"GEOID10\", right_on=\"index\")\n",
    "del sdf1['index']\n",
    "sdf1['DRUNK_COUNT'].fillna(sdf1['DRUNK_COUNT'].mean(), inplace=True)"
   ]
  },
  {
   "cell_type": "code",
   "execution_count": 24,
   "metadata": {
    "collapsed": false,
    "slideshow": {
     "slide_type": "subslide"
    }
   },
   "outputs": [
    {
     "data": {
      "text/plain": [
       "array([ nan,   2.,   1.,   4.,   3.,  20.,  55.,  22.,   8.,   6.,   7.,\n",
       "         5.,  15.,  11.,  29.,  13.,   9.,  26.,  16.,  17.,  30.,  19.,\n",
       "        25.,  12.,  49.,  14.,  50.,  44.,  10.])"
      ]
     },
     "execution_count": 24,
     "metadata": {},
     "output_type": "execute_result"
    }
   ],
   "source": [
    "vc_liquor = joined_liquor['GEOID10'].value_counts()\n",
    "vc_liquor.name = \"LIQUOR_COUNT\"\n",
    "vc_df = vc_liquor.to_frame()\n",
    "vc_df.reset_index(inplace=True, drop=False)\n",
    "sdf_counts = sdf1.merge(vc_df, how='outer', \n",
    "                 left_on=\"GEOID10\", right_on=\"index\")\n",
    "sdf_counts['LIQUOR_COUNT'].unique()\n"
   ]
  },
  {
   "cell_type": "code",
   "execution_count": 40,
   "metadata": {
    "collapsed": false,
    "slideshow": {
     "slide_type": "skip"
    }
   },
   "outputs": [],
   "source": [
    "#len(sdf_counts['LIQUOR_COUNT'].unique().tolist()), len(vc_df['LIQUOR_COUNT'].unique().tolist()), \n",
    "#sdf_counts['LIQUOR_COUNT'].fillna(sdf_counts['LIQUOR_COUNT'].mean())\n",
    "mean_stores = sdf_counts['LIQUOR_COUNT'].mean()\n",
    "mean_drunk = sdf_counts['DRUNK_COUNT'].mean()\n",
    "sdf_counts.DRUNK_COUNT.value_counts().unique()\n",
    "sdf_counts.LIQUOR_COUNT.fillna(mean_stores, inplace=True)"
   ]
  },
  {
   "cell_type": "markdown",
   "metadata": {
    "slideshow": {
     "slide_type": "subslide"
    }
   },
   "source": [
    "## Join Census Data with Census Blocks"
   ]
  },
  {
   "cell_type": "code",
   "execution_count": 52,
   "metadata": {
    "collapsed": false
   },
   "outputs": [
    {
     "data": {
      "text/plain": [
       "['ALAND10',\n",
       " 'AWATER10',\n",
       " 'BLKGRPCE10',\n",
       " 'COUNTYFP10',\n",
       " 'FID',\n",
       " 'FUNCSTAT10',\n",
       " 'GEOID10',\n",
       " 'INTPTLAT10',\n",
       " 'INTPTLON10',\n",
       " 'MTFCC10',\n",
       " 'NAMELSAD10',\n",
       " 'OBJECTID',\n",
       " 'STATEFP10',\n",
       " 'Shape__Are',\n",
       " 'Shape__Area',\n",
       " 'Shape__Len',\n",
       " 'Shape__Length',\n",
       " 'TRACTCE10',\n",
       " 'SHAPE',\n",
       " 'ACSHHBPOV',\n",
       " 'AVGHINC_CY',\n",
       " 'FEM21UP10',\n",
       " 'FEMALES_CY',\n",
       " 'HasData',\n",
       " 'ID',\n",
       " 'MAL21UP10',\n",
       " 'MALES_CY',\n",
       " 'OBJECTID_0',\n",
       " 'POPDENS10',\n",
       " 'TOTHH',\n",
       " 'TOTHU_CY',\n",
       " 'TOTPOP10',\n",
       " 'TOTPOP_CY',\n",
       " 'VACANT_CY',\n",
       " 'aggregationMethod',\n",
       " 'sourceCountry',\n",
       " 'DRUNK_COUNT',\n",
       " 'LIQUOR_COUNT',\n",
       " 'DP1K']"
      ]
     },
     "execution_count": 52,
     "metadata": {},
     "output_type": "execute_result"
    }
   ],
   "source": [
    "ss = sdf_counts[['GEOID10', 'DRUNK_COUNT', 'LIQUOR_COUNT']]\n",
    "ss.head()\n",
    "analysis_df = census_df.merge(ss)\n",
    "analysis_df.columns.tolist()\n",
    "analysis_df['DP1K'] = (analysis_df['DRUNK_COUNT'] / analysis_df['TOTPOP10'] ) * 1000\n",
    "analysis_df.columns.tolist()"
   ]
  },
  {
   "cell_type": "markdown",
   "metadata": {
    "collapsed": true,
    "slideshow": {
     "slide_type": "slide"
    }
   },
   "source": [
    "## Using PySAL\n",
    "\n",
    "- open source library that performs spatial analysis\n",
    "- The package has multiple analytics\n",
    "    - Exploratory Spatial Data Analysis\n",
    "    - Clustering\n",
    "    - Regression\n",
    "\n",
    "It starts by importing the library:"
   ]
  },
  {
   "cell_type": "code",
   "execution_count": 53,
   "metadata": {
    "collapsed": true,
    "slideshow": {
     "slide_type": "fragment"
    }
   },
   "outputs": [],
   "source": [
    "import pysal as ps\n",
    "import numpy as np\n"
   ]
  },
  {
   "cell_type": "markdown",
   "metadata": {
    "slideshow": {
     "slide_type": "subslide"
    }
   },
   "source": [
    "### Exploring the Data\n",
    "\n",
    "1. Perform Row Standardized Weighting\n",
    "2. "
   ]
  },
  {
   "cell_type": "code",
   "execution_count": 56,
   "metadata": {
    "collapsed": false,
    "slideshow": {
     "slide_type": "subslide"
    }
   },
   "outputs": [
    {
     "name": "stdout",
     "output_type": "stream",
     "text": [
      "y = 3.27681713184x +5.71709240372e+12\n"
     ]
    },
    {
     "data": {
      "image/png": "[encoded data removed]",
      "text/plain": [
       "<matplotlib.figure.Figure at 0x13fcf5b0320>"
      ]
     },
     "metadata": {},
     "output_type": "display_data"
    }
   ],
   "source": [
    "import matplotlib.pyplot as plt\n",
    "plt.figure(figsize=(10,10))\n",
    "x = analysis_df.LIQUOR_COUNT / analysis_df.geometry.get_area(\"PLANAR\", \"SQUAREMILES\")\n",
    "y = analysis_df.DRUNK_COUNT / analysis_df.geometry.get_area(\"PLANAR\", \"SQUAREMILES\")\n",
    "m, b = np.polyfit(x,y,1)\n",
    "\n",
    "ax = plt.plot(x, y, '.')\n",
    "f = plt.plot(x, m*x + b, '-')\n",
    "\n",
    "plt.ylabel('Drunk Incidents per Square Mile')\n",
    "plt.xlabel('Bars per Square Mile')\n",
    "\n",
    "formula='y = '+str(m)+'x +'+str(b.round(2))\n",
    "#plt.text(200, 35, formula)\n",
    "\n",
    "title=plt.title('Bar and Drunk Incident Relationship')\n",
    "print (formula)"
   ]
  },
  {
   "cell_type": "code",
   "execution_count": 57,
   "metadata": {
    "collapsed": true,
    "slideshow": {
     "slide_type": "fragment"
    }
   },
   "outputs": [],
   "source": [
    "w = ps.weights.Queen.from_dataframe(analysis_df, geom_col=\"SHAPE\")\n",
    "w.transform = 'r'"
   ]
  },
  {
   "cell_type": "code",
   "execution_count": 59,
   "metadata": {
    "collapsed": false,
    "slideshow": {
     "slide_type": "subslide"
    }
   },
   "outputs": [
    {
     "data": {
      "text/html": [
       "<div>\n",
       "<style scoped>\n",
       "    .dataframe tbody tr th:only-of-type {\n",
       "        vertical-align: middle;\n",
       "    }\n",
       "\n",
       "    .dataframe tbody tr th {\n",
       "        vertical-align: top;\n",
       "    }\n",
       "\n",
       "    .dataframe thead th {\n",
       "        text-align: right;\n",
       "    }\n",
       "</style>\n",
       "<table border=\"1\" class=\"dataframe\">\n",
       "  <thead>\n",
       "    <tr style=\"text-align: right;\">\n",
       "      <th></th>\n",
       "      <th>IncPSqMi</th>\n",
       "      <th>HHpSqMi</th>\n",
       "      <th>BarPSqMi</th>\n",
       "      <th>MpSqMi</th>\n",
       "      <th>VACpSqMi</th>\n",
       "      <th>MAL21UP10</th>\n",
       "    </tr>\n",
       "  </thead>\n",
       "  <tbody>\n",
       "    <tr>\n",
       "      <th>IncPSqMi</th>\n",
       "      <td>1.000000</td>\n",
       "      <td>0.210847</td>\n",
       "      <td>0.292325</td>\n",
       "      <td>0.303239</td>\n",
       "      <td>0.403004</td>\n",
       "      <td>-0.107444</td>\n",
       "    </tr>\n",
       "    <tr>\n",
       "      <th>HHpSqMi</th>\n",
       "      <td>0.210847</td>\n",
       "      <td>1.000000</td>\n",
       "      <td>0.530027</td>\n",
       "      <td>0.869615</td>\n",
       "      <td>0.521133</td>\n",
       "      <td>0.025773</td>\n",
       "    </tr>\n",
       "    <tr>\n",
       "      <th>BarPSqMi</th>\n",
       "      <td>0.292325</td>\n",
       "      <td>0.530027</td>\n",
       "      <td>1.000000</td>\n",
       "      <td>0.454096</td>\n",
       "      <td>0.343564</td>\n",
       "      <td>-0.041933</td>\n",
       "    </tr>\n",
       "    <tr>\n",
       "      <th>MpSqMi</th>\n",
       "      <td>0.303239</td>\n",
       "      <td>0.869615</td>\n",
       "      <td>0.454096</td>\n",
       "      <td>1.000000</td>\n",
       "      <td>0.494871</td>\n",
       "      <td>0.004426</td>\n",
       "    </tr>\n",
       "    <tr>\n",
       "      <th>VACpSqMi</th>\n",
       "      <td>0.403004</td>\n",
       "      <td>0.521133</td>\n",
       "      <td>0.343564</td>\n",
       "      <td>0.494871</td>\n",
       "      <td>1.000000</td>\n",
       "      <td>-0.198368</td>\n",
       "    </tr>\n",
       "    <tr>\n",
       "      <th>MAL21UP10</th>\n",
       "      <td>-0.107444</td>\n",
       "      <td>0.025773</td>\n",
       "      <td>-0.041933</td>\n",
       "      <td>0.004426</td>\n",
       "      <td>-0.198368</td>\n",
       "      <td>1.000000</td>\n",
       "    </tr>\n",
       "  </tbody>\n",
       "</table>\n",
       "</div>"
      ],
      "text/plain": [
       "           IncPSqMi   HHpSqMi  BarPSqMi    MpSqMi  VACpSqMi  MAL21UP10\n",
       "IncPSqMi   1.000000  0.210847  0.292325  0.303239  0.403004  -0.107444\n",
       "HHpSqMi    0.210847  1.000000  0.530027  0.869615  0.521133   0.025773\n",
       "BarPSqMi   0.292325  0.530027  1.000000  0.454096  0.343564  -0.041933\n",
       "MpSqMi     0.303239  0.869615  0.454096  1.000000  0.494871   0.004426\n",
       "VACpSqMi   0.403004  0.521133  0.343564  0.494871  1.000000  -0.198368\n",
       "MAL21UP10 -0.107444  0.025773 -0.041933  0.004426 -0.198368   1.000000"
      ]
     },
     "execution_count": 59,
     "metadata": {},
     "output_type": "execute_result"
    }
   ],
   "source": [
    "#sdf_merged[['GEOID10', 'MALES_CY']]\n",
    "analysis_df['BarPSqMi'] = analysis_df.LIQUOR_COUNT / analysis_df.geometry.get_area(\"PLANAR\", \"SQUAREMILES\")\n",
    "analysis_df['IncPSqMi'] = analysis_df.DRUNK_COUNT / analysis_df.geometry.get_area(\"PLANAR\", \"SQUAREMILES\")\n",
    "analysis_df['HHpSqMi'] = analysis_df.TOTHH / analysis_df.geometry.get_area(\"PLANAR\", \"SQUAREMILES\")\n",
    "analysis_df['MpSqMi'] = analysis_df['MALES_CY'] / analysis_df.geometry.get_area(\"PLANAR\", \"SQUAREMILES\")\n",
    "analysis_df['VACpSqMi'] = analysis_df['VACANT_CY'] / analysis_df.geometry.get_area(\"PLANAR\", \"SQUAREMILES\")\n",
    "YVar='IncPSqMi'\n",
    "XVars=['HHpSqMi','BarPSqMi','MpSqMi','VACpSqMi', 'MAL21UP10']\n",
    "analysis_df[[YVar]+XVars].corr() "
   ]
  },
  {
   "cell_type": "code",
   "execution_count": 60,
   "metadata": {
    "collapsed": false,
    "slideshow": {
     "slide_type": "subslide"
    }
   },
   "outputs": [
    {
     "data": {
      "text/plain": [
       "Morans I     0.511870\n",
       "Z-Score     32.415048\n",
       "P-Value      0.000000\n",
       "dtype: float64"
      ]
     },
     "execution_count": 60,
     "metadata": {},
     "output_type": "execute_result"
    }
   ],
   "source": [
    "mi = ps.Moran(y, w)\n",
    "pd.Series(index=['Morans I','Z-Score','P-Value'],\n",
    "          data=[mi.I, mi.z_norm, mi.p_norm])"
   ]
  },
  {
   "cell_type": "code",
   "execution_count": 63,
   "metadata": {
    "collapsed": false
   },
   "outputs": [
    {
     "name": "stdout",
     "output_type": "stream",
     "text": [
      "REGRESSION\n",
      "----------\n",
      "SUMMARY OF OUTPUT: ORDINARY LEAST SQUARES\n",
      "-----------------------------------------\n",
      "Data set            :     unknown\n",
      "Weights matrix      :     unknown\n",
      "Dependent Variable  :    IncPSqMi                Number of Observations:        1336\n",
      "Mean dependent var  :7533741395118.2480                Number of Variables   :           6\n",
      "S.D. dependent var  :7852045680068.9795                Degrees of Freedom    :        1330\n",
      "R-squared           :      0.2418\n",
      "Adjusted R-squared  :      0.2390\n",
      "\n",
      "------------------------------------------------------------------------------------\n",
      "            Variable     Coefficient       Std.Error     t-Statistic     Probability\n",
      "------------------------------------------------------------------------------------\n",
      "            CONSTANT    2687533574824.8359375    494096916576.3672485       5.4392842       0.0000001\n",
      "             HHpSqMi      -0.0561077       0.0062147      -9.0281507       0.0000000\n",
      "            BarPSqMi       2.4762361       0.3174093       7.8013967       0.0000000\n",
      "              MpSqMi       0.0553489       0.0061650       8.9779609       0.0000000\n",
      "            VACpSqMi       0.2773447       0.0229489      12.0853198       0.0000000\n",
      "           MAL21UP10    -601802679.6149430    812970676.5283469      -0.7402514       0.4592781\n",
      "------------------------------------------------------------------------------------\n",
      "\n",
      "DIAGNOSTICS FOR SPATIAL DEPENDENCE\n",
      "TEST                           MI/DF       VALUE           PROB\n",
      "Lagrange Multiplier (lag)         1         583.843           0.0000\n",
      "Robust LM (lag)                   1         160.959           0.0000\n",
      "Lagrange Multiplier (error)       1         430.545           0.0000\n",
      "Robust LM (error)                 1           7.661           0.0056\n",
      "Lagrange Multiplier (SARMA)       2         591.505           0.0000\n",
      "\n",
      "================================ END OF REPORT =====================================\n"
     ]
    },
    {
     "data": {
      "text/plain": [
       "Morans I     0.328931\n",
       "Z-Score     20.847082\n",
       "P-Value      0.000000\n",
       "dtype: float64"
      ]
     },
     "execution_count": 63,
     "metadata": {},
     "output_type": "execute_result"
    }
   ],
   "source": [
    "Y=analysis_df[YVar].as_matrix().reshape((len(analysis_df),1))\n",
    "X=analysis_df[XVars].as_matrix()\n",
    "\n",
    "ols=ps.spreg.OLS(Y,X, \n",
    "                 w=w,\n",
    "                 name_y=YVar, \n",
    "                 name_x=XVars,\n",
    "                 nonspat_diag=False, spat_diag=True)\n",
    "print (ols.summary)\n",
    "\n",
    "mi = ps.Moran(ols.u, w, two_tailed=False)\n",
    "pd.Series(index=['Morans I','Z-Score','P-Value'],\n",
    "          data=[mi.I, mi.z_norm, mi.p_norm])"
   ]
  },
  {
   "cell_type": "markdown",
   "metadata": {
    "collapsed": true,
    "slideshow": {
     "slide_type": "slide"
    }
   },
   "source": [
    "- Morans I is positive, some clustering occuring.\n"
   ]
  },
  {
   "cell_type": "code",
   "execution_count": null,
   "metadata": {
    "collapsed": true
   },
   "outputs": [],
   "source": []
  },
  {
   "cell_type": "code",
   "execution_count": null,
   "metadata": {
    "collapsed": false,
    "slideshow": {
     "slide_type": "subslide"
    }
   },
   "outputs": [],
   "source": [
    "lag=ps.spreg.ML_Lag(Y, X, w, name_y=YVar, name_x=XVars)\n",
    "print (lag.summary)\n",
    "mi = ps.Moran(lag.u, w, two_tailed=False)\n",
    "pd.Series(index=['Morans I','Z-Score','P-Value'],data=[mi.I, mi.z_norm, mi.p_norm])"
   ]
  },
  {
   "cell_type": "markdown",
   "metadata": {
    "slideshow": {
     "slide_type": "fragment"
    }
   },
   "source": [
    "# Questions?"
   ]
  }
 ],
 "metadata": {
  "celltoolbar": "Slideshow",
  "kernelspec": {
   "display_name": "Python 3",
   "language": "python",
   "name": "python3"
  },
  "language_info": {
   "codemirror_mode": {
    "name": "ipython",
    "version": 3
   },
   "file_extension": ".py",
   "mimetype": "text/x-python",
   "name": "python",
   "nbconvert_exporter": "python",
   "pygments_lexer": "ipython3",
   "version": "3.5.4"
  }
 },
 "nbformat": 4,
 "nbformat_minor": 2
}
