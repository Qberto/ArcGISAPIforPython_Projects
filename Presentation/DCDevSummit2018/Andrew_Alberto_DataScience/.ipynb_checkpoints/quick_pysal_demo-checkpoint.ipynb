{
 "cells": [
  {
   "cell_type": "code",
   "execution_count": 80,
   "metadata": {
    "collapsed": false,
    "slideshow": {
     "slide_type": "skip"
    }
   },
   "outputs": [
    {
     "data": {
      "text/html": [
       "<style>.container { width:75% !important; }</style>"
      ],
      "text/plain": [
       "<IPython.core.display.HTML object>"
      ]
     },
     "metadata": {},
     "output_type": "display_data"
    }
   ],
   "source": [
    "from IPython.core.display import display, HTML\n",
    "display(HTML(\"<style>.container { width:75% !important; }</style>\"))"
   ]
  },
  {
   "cell_type": "code",
   "execution_count": 3,
   "metadata": {
    "collapsed": false,
    "slideshow": {
     "slide_type": "skip"
    }
   },
   "outputs": [],
   "source": [
    "ds1 = r\"D:\\ipython_working_folder\\feddevsummit_2017\\machinelearning\\data\\philadelphia\\drunkenness_crime.shp\"\n",
    "census_ds = r\"D:\\ipython_working_folder\\feddevsummit_2017\\machinelearning\\data\\philadelphia\\census.gdb\\census\"\n",
    "%matplotlib inline \n",
    "from arcgis.gis import GIS\n",
    "from arcgis.features import SpatialDataFrame\n",
    "from arcgis.features._data.geodataset.tools import spatial_join\n",
    "import pandas as pd\n",
    "import numpy as np\n",
    "crime = SpatialDataFrame.from_featureclass(ds1)\n",
    "census = SpatialDataFrame.from_featureclass(census_ds)"
   ]
  },
  {
   "cell_type": "markdown",
   "metadata": {
    "slideshow": {
     "slide_type": "slide"
    }
   },
   "source": [
    "# Spatial DataFrame \n",
    "\n",
    "- Loading data Improvements\n",
    "- Integration with geoprocessing\n",
    "- Integration with pysal"
   ]
  },
  {
   "cell_type": "markdown",
   "metadata": {
    "slideshow": {
     "slide_type": "slide"
    }
   },
   "source": [
    "# Data Loading Improvements\n",
    "\n",
    "- improved load times for all data sources"
   ]
  },
  {
   "cell_type": "markdown",
   "metadata": {
    "slideshow": {
     "slide_type": "subslide"
    }
   },
   "source": [
    "<img src=\"img/metrics.jpg\"/>"
   ]
  },
  {
   "cell_type": "markdown",
   "metadata": {
    "slideshow": {
     "slide_type": "slide"
    }
   },
   "source": [
    "# PySAL Integration\n",
    "\n",
    "<img src=\"https://avatars2.githubusercontent.com/u/3769919?s=200&v=4\"/>\n",
    "\n",
    "- PySAL is an open source library of spatial analysis functions\n",
    "- Aim at Spatial analysts who may be carrying out research projects \n",
    "- Allows for extensive simulation analysis"
   ]
  },
  {
   "cell_type": "markdown",
   "metadata": {
    "slideshow": {
     "slide_type": "slide"
    }
   },
   "source": [
    "# Hand and Hand With the Platform\n",
    "\n",
    "- GeoEnrichment + PySAL = Analysis"
   ]
  },
  {
   "cell_type": "code",
   "execution_count": 4,
   "metadata": {
    "collapsed": false,
    "slideshow": {
     "slide_type": "skip"
    }
   },
   "outputs": [
    {
     "name": "stdout",
     "output_type": "stream",
     "text": [
      "Enter password: ········\n"
     ]
    }
   ],
   "source": [
    "gis = GIS(username=\"AndrewSolutions\")"
   ]
  },
  {
   "cell_type": "code",
   "execution_count": 6,
   "metadata": {
    "collapsed": false,
    "slideshow": {
     "slide_type": "slide"
    }
   },
   "outputs": [],
   "source": [
    "from arcgis.geoenrichment import enrich\n",
    "variables = [\"populationtotals.POPDENS10\",\n",
    "             \"Age_by_Sex_by_Race_Profile_rep.TOTPOP10\",\n",
    "             \"Age_by_Sex_by_Race_Profile_rep.TOTPOP_CY\",\n",
    "             \"AtRisk.ACSHHBPOV\",\n",
    "             \"AtRisk.AVGHINC_CY\",\n",
    "             \"KeyUSFacts.TOTHU_CY\",\n",
    "             \"KeyGlobalFacts.TOTHH\",\n",
    "             \"KeyUSFacts.VACANT_CY\",\n",
    "             \"5yearincrements.MAL21UP10\",\n",
    "             \"5yearincrements.FEM21UP10\",\n",
    "             \"5yearincrements.MALES_CY\",\n",
    "             \"5yearincrements.FEMALES_CY\"]\n",
    "parts = []\n",
    "df = enrich(study_areas=census[['GEOID10', 'SHAPE']], \n",
    "                        return_geometry=False, \n",
    "                        analysis_variables=variables,\n",
    "                        gis=gis)"
   ]
  },
  {
   "cell_type": "code",
   "execution_count": 7,
   "metadata": {
    "collapsed": false,
    "slideshow": {
     "slide_type": "subslide"
    }
   },
   "outputs": [
    {
     "data": {
      "text/html": [
       "<div>\n",
       "<style scoped>\n",
       "    .dataframe tbody tr th:only-of-type {\n",
       "        vertical-align: middle;\n",
       "    }\n",
       "\n",
       "    .dataframe tbody tr th {\n",
       "        vertical-align: top;\n",
       "    }\n",
       "\n",
       "    .dataframe thead th {\n",
       "        text-align: right;\n",
       "    }\n",
       "</style>\n",
       "<table border=\"1\" class=\"dataframe\">\n",
       "  <thead>\n",
       "    <tr style=\"text-align: right;\">\n",
       "      <th></th>\n",
       "      <th>ACSHHBPOV</th>\n",
       "      <th>AVGHINC_CY</th>\n",
       "      <th>FEM21UP10</th>\n",
       "      <th>FEMALES_CY</th>\n",
       "      <th>GEOID10</th>\n",
       "      <th>HasData</th>\n",
       "      <th>ID</th>\n",
       "      <th>MAL21UP10</th>\n",
       "      <th>MALES_CY</th>\n",
       "      <th>POPDENS10</th>\n",
       "      <th>TOTHH</th>\n",
       "      <th>TOTHU_CY</th>\n",
       "      <th>TOTPOP10</th>\n",
       "      <th>TOTPOP_CY</th>\n",
       "      <th>VACANT_CY</th>\n",
       "      <th>aggregationMethod</th>\n",
       "      <th>sourceCountry</th>\n",
       "    </tr>\n",
       "  </thead>\n",
       "  <tbody>\n",
       "    <tr>\n",
       "      <th>0</th>\n",
       "      <td>74</td>\n",
       "      <td>35070</td>\n",
       "      <td>246</td>\n",
       "      <td>414</td>\n",
       "      <td>421010030023</td>\n",
       "      <td>1</td>\n",
       "      <td>0</td>\n",
       "      <td>185</td>\n",
       "      <td>353</td>\n",
       "      <td>28669.7</td>\n",
       "      <td>304</td>\n",
       "      <td>408</td>\n",
       "      <td>625</td>\n",
       "      <td>767</td>\n",
       "      <td>104</td>\n",
       "      <td>BlockApportionment:US.BlockGroups</td>\n",
       "      <td>US</td>\n",
       "    </tr>\n",
       "    <tr>\n",
       "      <th>1</th>\n",
       "      <td>49</td>\n",
       "      <td>41002</td>\n",
       "      <td>446</td>\n",
       "      <td>644</td>\n",
       "      <td>421010030013</td>\n",
       "      <td>1</td>\n",
       "      <td>1</td>\n",
       "      <td>366</td>\n",
       "      <td>540</td>\n",
       "      <td>59516.1</td>\n",
       "      <td>414</td>\n",
       "      <td>461</td>\n",
       "      <td>1107</td>\n",
       "      <td>1184</td>\n",
       "      <td>47</td>\n",
       "      <td>BlockApportionment:US.BlockGroups</td>\n",
       "      <td>US</td>\n",
       "    </tr>\n",
       "    <tr>\n",
       "      <th>2</th>\n",
       "      <td>25</td>\n",
       "      <td>55636</td>\n",
       "      <td>328</td>\n",
       "      <td>453</td>\n",
       "      <td>421010030012</td>\n",
       "      <td>1</td>\n",
       "      <td>2</td>\n",
       "      <td>298</td>\n",
       "      <td>402</td>\n",
       "      <td>38706.5</td>\n",
       "      <td>326</td>\n",
       "      <td>359</td>\n",
       "      <td>778</td>\n",
       "      <td>855</td>\n",
       "      <td>33</td>\n",
       "      <td>BlockApportionment:US.BlockGroups</td>\n",
       "      <td>US</td>\n",
       "    </tr>\n",
       "    <tr>\n",
       "      <th>3</th>\n",
       "      <td>116</td>\n",
       "      <td>34651</td>\n",
       "      <td>476</td>\n",
       "      <td>684</td>\n",
       "      <td>421010030014</td>\n",
       "      <td>1</td>\n",
       "      <td>3</td>\n",
       "      <td>414</td>\n",
       "      <td>625</td>\n",
       "      <td>64591.8</td>\n",
       "      <td>428</td>\n",
       "      <td>465</td>\n",
       "      <td>1266</td>\n",
       "      <td>1309</td>\n",
       "      <td>37</td>\n",
       "      <td>BlockApportionment:US.BlockGroups</td>\n",
       "      <td>US</td>\n",
       "    </tr>\n",
       "    <tr>\n",
       "      <th>4</th>\n",
       "      <td>135</td>\n",
       "      <td>32903</td>\n",
       "      <td>364</td>\n",
       "      <td>533</td>\n",
       "      <td>421010030022</td>\n",
       "      <td>1</td>\n",
       "      <td>4</td>\n",
       "      <td>286</td>\n",
       "      <td>436</td>\n",
       "      <td>42083.3</td>\n",
       "      <td>451</td>\n",
       "      <td>496</td>\n",
       "      <td>808</td>\n",
       "      <td>969</td>\n",
       "      <td>45</td>\n",
       "      <td>BlockApportionment:US.BlockGroups</td>\n",
       "      <td>US</td>\n",
       "    </tr>\n",
       "  </tbody>\n",
       "</table>\n",
       "</div>"
      ],
      "text/plain": [
       "   ACSHHBPOV  AVGHINC_CY  FEM21UP10  FEMALES_CY       GEOID10  HasData ID  \\\n",
       "0         74       35070        246         414  421010030023        1  0   \n",
       "1         49       41002        446         644  421010030013        1  1   \n",
       "2         25       55636        328         453  421010030012        1  2   \n",
       "3        116       34651        476         684  421010030014        1  3   \n",
       "4        135       32903        364         533  421010030022        1  4   \n",
       "\n",
       "   MAL21UP10  MALES_CY  POPDENS10  TOTHH  TOTHU_CY  TOTPOP10  TOTPOP_CY  \\\n",
       "0        185       353    28669.7    304       408       625        767   \n",
       "1        366       540    59516.1    414       461      1107       1184   \n",
       "2        298       402    38706.5    326       359       778        855   \n",
       "3        414       625    64591.8    428       465      1266       1309   \n",
       "4        286       436    42083.3    451       496       808        969   \n",
       "\n",
       "   VACANT_CY                  aggregationMethod sourceCountry  \n",
       "0        104  BlockApportionment:US.BlockGroups            US  \n",
       "1         47  BlockApportionment:US.BlockGroups            US  \n",
       "2         33  BlockApportionment:US.BlockGroups            US  \n",
       "3         37  BlockApportionment:US.BlockGroups            US  \n",
       "4         45  BlockApportionment:US.BlockGroups            US  "
      ]
     },
     "execution_count": 7,
     "metadata": {},
     "output_type": "execute_result"
    }
   ],
   "source": [
    "df.head()"
   ]
  },
  {
   "cell_type": "code",
   "execution_count": 10,
   "metadata": {
    "collapsed": false,
    "slideshow": {
     "slide_type": "subslide"
    }
   },
   "outputs": [
    {
     "data": {
      "text/html": [
       "<div>\n",
       "<style scoped>\n",
       "    .dataframe tbody tr th:only-of-type {\n",
       "        vertical-align: middle;\n",
       "    }\n",
       "\n",
       "    .dataframe tbody tr th {\n",
       "        vertical-align: top;\n",
       "    }\n",
       "\n",
       "    .dataframe thead th {\n",
       "        text-align: right;\n",
       "    }\n",
       "</style>\n",
       "<table border=\"1\" class=\"dataframe\">\n",
       "  <thead>\n",
       "    <tr style=\"text-align: right;\">\n",
       "      <th></th>\n",
       "      <th>OBJECTID</th>\n",
       "      <th>ALAND10</th>\n",
       "      <th>AWATER10</th>\n",
       "      <th>BLKGRPCE10</th>\n",
       "      <th>COUNTYFP10</th>\n",
       "      <th>FUNCSTAT10</th>\n",
       "      <th>GEOID10</th>\n",
       "      <th>INTPTLAT10</th>\n",
       "      <th>INTPTLON10</th>\n",
       "      <th>MTFCC10</th>\n",
       "      <th>...</th>\n",
       "      <th>MAL21UP10</th>\n",
       "      <th>MALES_CY</th>\n",
       "      <th>POPDENS10</th>\n",
       "      <th>TOTHH</th>\n",
       "      <th>TOTHU_CY</th>\n",
       "      <th>TOTPOP10</th>\n",
       "      <th>TOTPOP_CY</th>\n",
       "      <th>VACANT_CY</th>\n",
       "      <th>aggregationMethod</th>\n",
       "      <th>sourceCountry</th>\n",
       "    </tr>\n",
       "  </thead>\n",
       "  <tbody>\n",
       "    <tr>\n",
       "      <th>0</th>\n",
       "      <td>1</td>\n",
       "      <td>56333.0</td>\n",
       "      <td>0.0</td>\n",
       "      <td>3</td>\n",
       "      <td>101</td>\n",
       "      <td>S</td>\n",
       "      <td>421010030023</td>\n",
       "      <td>+39.9330383</td>\n",
       "      <td>-075.1735775</td>\n",
       "      <td>G5030</td>\n",
       "      <td>...</td>\n",
       "      <td>185</td>\n",
       "      <td>353</td>\n",
       "      <td>28669.7</td>\n",
       "      <td>304</td>\n",
       "      <td>408</td>\n",
       "      <td>625</td>\n",
       "      <td>767</td>\n",
       "      <td>104</td>\n",
       "      <td>BlockApportionment:US.BlockGroups</td>\n",
       "      <td>US</td>\n",
       "    </tr>\n",
       "    <tr>\n",
       "      <th>1</th>\n",
       "      <td>2</td>\n",
       "      <td>48136.0</td>\n",
       "      <td>0.0</td>\n",
       "      <td>3</td>\n",
       "      <td>101</td>\n",
       "      <td>S</td>\n",
       "      <td>421010030013</td>\n",
       "      <td>+39.9284555</td>\n",
       "      <td>-075.1721526</td>\n",
       "      <td>G5030</td>\n",
       "      <td>...</td>\n",
       "      <td>366</td>\n",
       "      <td>540</td>\n",
       "      <td>59516.1</td>\n",
       "      <td>414</td>\n",
       "      <td>461</td>\n",
       "      <td>1107</td>\n",
       "      <td>1184</td>\n",
       "      <td>47</td>\n",
       "      <td>BlockApportionment:US.BlockGroups</td>\n",
       "      <td>US</td>\n",
       "    </tr>\n",
       "    <tr>\n",
       "      <th>2</th>\n",
       "      <td>3</td>\n",
       "      <td>52169.0</td>\n",
       "      <td>0.0</td>\n",
       "      <td>2</td>\n",
       "      <td>101</td>\n",
       "      <td>S</td>\n",
       "      <td>421010030012</td>\n",
       "      <td>+39.9281881</td>\n",
       "      <td>-075.1700469</td>\n",
       "      <td>G5030</td>\n",
       "      <td>...</td>\n",
       "      <td>298</td>\n",
       "      <td>402</td>\n",
       "      <td>38706.5</td>\n",
       "      <td>326</td>\n",
       "      <td>359</td>\n",
       "      <td>778</td>\n",
       "      <td>855</td>\n",
       "      <td>33</td>\n",
       "      <td>BlockApportionment:US.BlockGroups</td>\n",
       "      <td>US</td>\n",
       "    </tr>\n",
       "    <tr>\n",
       "      <th>3</th>\n",
       "      <td>4</td>\n",
       "      <td>50802.0</td>\n",
       "      <td>0.0</td>\n",
       "      <td>4</td>\n",
       "      <td>101</td>\n",
       "      <td>S</td>\n",
       "      <td>421010030014</td>\n",
       "      <td>+39.9287264</td>\n",
       "      <td>-075.1742272</td>\n",
       "      <td>G5030</td>\n",
       "      <td>...</td>\n",
       "      <td>414</td>\n",
       "      <td>625</td>\n",
       "      <td>64591.8</td>\n",
       "      <td>428</td>\n",
       "      <td>465</td>\n",
       "      <td>1266</td>\n",
       "      <td>1309</td>\n",
       "      <td>37</td>\n",
       "      <td>BlockApportionment:US.BlockGroups</td>\n",
       "      <td>US</td>\n",
       "    </tr>\n",
       "    <tr>\n",
       "      <th>4</th>\n",
       "      <td>5</td>\n",
       "      <td>49611.0</td>\n",
       "      <td>0.0</td>\n",
       "      <td>2</td>\n",
       "      <td>101</td>\n",
       "      <td>S</td>\n",
       "      <td>421010030022</td>\n",
       "      <td>+39.9334004</td>\n",
       "      <td>-075.1716147</td>\n",
       "      <td>G5030</td>\n",
       "      <td>...</td>\n",
       "      <td>286</td>\n",
       "      <td>436</td>\n",
       "      <td>42083.3</td>\n",
       "      <td>451</td>\n",
       "      <td>496</td>\n",
       "      <td>808</td>\n",
       "      <td>969</td>\n",
       "      <td>45</td>\n",
       "      <td>BlockApportionment:US.BlockGroups</td>\n",
       "      <td>US</td>\n",
       "    </tr>\n",
       "  </tbody>\n",
       "</table>\n",
       "<p>5 rows × 34 columns</p>\n",
       "</div>"
      ],
      "text/plain": [
       "   OBJECTID  ALAND10  AWATER10 BLKGRPCE10 COUNTYFP10 FUNCSTAT10       GEOID10  \\\n",
       "0         1  56333.0       0.0          3        101          S  421010030023   \n",
       "1         2  48136.0       0.0          3        101          S  421010030013   \n",
       "2         3  52169.0       0.0          2        101          S  421010030012   \n",
       "3         4  50802.0       0.0          4        101          S  421010030014   \n",
       "4         5  49611.0       0.0          2        101          S  421010030022   \n",
       "\n",
       "    INTPTLAT10    INTPTLON10 MTFCC10      ...       MAL21UP10 MALES_CY  \\\n",
       "0  +39.9330383  -075.1735775   G5030      ...             185      353   \n",
       "1  +39.9284555  -075.1721526   G5030      ...             366      540   \n",
       "2  +39.9281881  -075.1700469   G5030      ...             298      402   \n",
       "3  +39.9287264  -075.1742272   G5030      ...             414      625   \n",
       "4  +39.9334004  -075.1716147   G5030      ...             286      436   \n",
       "\n",
       "   POPDENS10  TOTHH  TOTHU_CY  TOTPOP10 TOTPOP_CY VACANT_CY  \\\n",
       "0    28669.7    304       408       625       767       104   \n",
       "1    59516.1    414       461      1107      1184        47   \n",
       "2    38706.5    326       359       778       855        33   \n",
       "3    64591.8    428       465      1266      1309        37   \n",
       "4    42083.3    451       496       808       969        45   \n",
       "\n",
       "                   aggregationMethod  sourceCountry  \n",
       "0  BlockApportionment:US.BlockGroups             US  \n",
       "1  BlockApportionment:US.BlockGroups             US  \n",
       "2  BlockApportionment:US.BlockGroups             US  \n",
       "3  BlockApportionment:US.BlockGroups             US  \n",
       "4  BlockApportionment:US.BlockGroups             US  \n",
       "\n",
       "[5 rows x 34 columns]"
      ]
     },
     "execution_count": 10,
     "metadata": {},
     "output_type": "execute_result"
    }
   ],
   "source": [
    "census_enriched = census.merge(df)\n",
    "census_enriched.head()"
   ]
  },
  {
   "cell_type": "code",
   "execution_count": 11,
   "metadata": {
    "collapsed": true,
    "slideshow": {
     "slide_type": "subslide"
    }
   },
   "outputs": [],
   "source": [
    "liquor_df = pd.read_csv(\"http://data-phl.opendata.arcgis.com/datasets/d948bb607bb942b39817a1ef98eebb12_0.csv\",\n",
    "                       index_col=None, infer_datetime_format=True)"
   ]
  },
  {
   "cell_type": "code",
   "execution_count": 12,
   "metadata": {
    "collapsed": false,
    "slideshow": {
     "slide_type": "fragment"
    }
   },
   "outputs": [
    {
     "data": {
      "text/html": [
       "<div>\n",
       "<style scoped>\n",
       "    .dataframe tbody tr th:only-of-type {\n",
       "        vertical-align: middle;\n",
       "    }\n",
       "\n",
       "    .dataframe tbody tr th {\n",
       "        vertical-align: top;\n",
       "    }\n",
       "\n",
       "    .dataframe thead th {\n",
       "        text-align: right;\n",
       "    }\n",
       "</style>\n",
       "<table border=\"1\" class=\"dataframe\">\n",
       "  <thead>\n",
       "    <tr style=\"text-align: right;\">\n",
       "      <th></th>\n",
       "      <th>LICENSEES_NAME_1</th>\n",
       "      <th>LIC_TYP_NME</th>\n",
       "      <th>SHAPE</th>\n",
       "    </tr>\n",
       "  </thead>\n",
       "  <tbody>\n",
       "    <tr>\n",
       "      <th>0</th>\n",
       "      <td>JACK DUGGAN'S PHL  INC.</td>\n",
       "      <td>AIRPORT RESTAURANT LIQUOR</td>\n",
       "      <td>{'y': 39.8941367717, 'spatialReference': {'wki...</td>\n",
       "    </tr>\n",
       "  </tbody>\n",
       "</table>\n",
       "</div>"
      ],
      "text/plain": [
       "          LICENSEES_NAME_1                LIC_TYP_NME  \\\n",
       "0  JACK DUGGAN'S PHL  INC.  AIRPORT RESTAURANT LIQUOR   \n",
       "\n",
       "                                               SHAPE  \n",
       "0  {'y': 39.8941367717, 'spatialReference': {'wki...  "
      ]
     },
     "execution_count": 12,
     "metadata": {},
     "output_type": "execute_result"
    }
   ],
   "source": [
    "from arcgis.geometry import Point\n",
    "geoms = [Point({'x': x, 'y': y, 'spatialReference' : {'wkid' : 4326}}) \\\n",
    "         for x,y in liquor_df[['X','Y']].to_records(index=False)]\n",
    "liquor_sdf = SpatialDataFrame(data=liquor_df, geometry=geoms)"
   ]
  },
  {
   "cell_type": "markdown",
   "metadata": {
    "slideshow": {
     "slide_type": "subslide"
    }
   },
   "source": [
    "# Assign GEOID10 to Data\n",
    "\n",
    "- leverage spatial joins"
   ]
  },
  {
   "cell_type": "code",
   "execution_count": null,
   "metadata": {
    "collapsed": true,
    "slideshow": {
     "slide_type": "fragment"
    }
   },
   "outputs": [],
   "source": [
    "liquor_joined = spatial_join(liquor_sdf, census_enriched, keep_all=False)"
   ]
  },
  {
   "cell_type": "code",
   "execution_count": 29,
   "metadata": {
    "collapsed": false,
    "slideshow": {
     "slide_type": "skip"
    }
   },
   "outputs": [
    {
     "data": {
      "text/plain": [
       "'Point'"
      ]
     },
     "execution_count": 29,
     "metadata": {},
     "output_type": "execute_result"
    }
   ],
   "source": [
    "liquor_joined.geometry_type"
   ]
  },
  {
   "cell_type": "code",
   "execution_count": null,
   "metadata": {
    "collapsed": true,
    "slideshow": {
     "slide_type": "skip"
    }
   },
   "outputs": [],
   "source": [
    "# Assign GeoID10 to Crime Data"
   ]
  },
  {
   "cell_type": "code",
   "execution_count": 30,
   "metadata": {
    "collapsed": false,
    "slideshow": {
     "slide_type": "fragment"
    }
   },
   "outputs": [],
   "source": [
    "crime_joined = spatial_join(crime, census_enriched, keep_all=False)"
   ]
  },
  {
   "cell_type": "code",
   "execution_count": 33,
   "metadata": {
    "collapsed": false,
    "slideshow": {
     "slide_type": "fragment"
    }
   },
   "outputs": [],
   "source": [
    "vc_crime = crime_joined['GEOID10'].value_counts()\n",
    "vc_liquor = liquor_joined.GEOID10.value_counts()"
   ]
  },
  {
   "cell_type": "code",
   "execution_count": 39,
   "metadata": {
    "collapsed": false,
    "slideshow": {
     "slide_type": "skip"
    }
   },
   "outputs": [],
   "source": [
    "vc_crime.name = \"DRUNK_COUNT\"\n",
    "vc_df1 = vc_crime.to_frame()\n",
    "vc_df1.reset_index(inplace=True, drop=False)\n",
    "vc_liquor.name = \"LIQUOR_COUNT\"\n",
    "vc_df2 = vc_liquor.to_frame()\n",
    "vc_df2.reset_index(inplace=True, drop=False)"
   ]
  },
  {
   "cell_type": "code",
   "execution_count": 37,
   "metadata": {
    "collapsed": false,
    "slideshow": {
     "slide_type": "skip"
    }
   },
   "outputs": [],
   "source": [
    "census_enriched = census_enriched[['GEOID10', 'SHAPE', 'ACSHHBPOV', 'AVGHINC_CY',\n",
    "                                   'FEM21UP10', 'FEMALES_CY', 'HasData', 'ID', 'MAL21UP10', 'MALES_CY',\n",
    "                                   'POPDENS10', 'TOTHH', 'TOTHU_CY', 'TOTPOP10', 'TOTPOP_CY', 'VACANT_CY']].copy()"
   ]
  },
  {
   "cell_type": "code",
   "execution_count": null,
   "metadata": {
    "collapsed": true,
    "slideshow": {
     "slide_type": "subslide"
    }
   },
   "outputs": [],
   "source": [
    "sdf1 = census_enriched.merge(vc_df1, how='outer', \n",
    "                     left_on=\"GEOID10\", right_on=\"index\")\n",
    "sdf2 = sdf1.merge(vc_df2, how='outer', \n",
    "                    left_on=\"GEOID10\", right_on=\"index\")\n",
    "del sdf2['index_x']\n",
    "del sdf2['index_y']"
   ]
  },
  {
   "cell_type": "code",
   "execution_count": 46,
   "metadata": {
    "collapsed": false,
    "slideshow": {
     "slide_type": "skip"
    }
   },
   "outputs": [],
   "source": [
    "sdf_merged = sdf2"
   ]
  },
  {
   "cell_type": "markdown",
   "metadata": {
    "slideshow": {
     "slide_type": "slide"
    }
   },
   "source": [
    "# Using PySAL for Analysis\n",
    "\n",
    "- OLS\n",
    "- Morans I\n",
    "- Gamma statistics \n",
    "- Geary's C \n",
    "- Getis-Ord \n",
    "\n",
    "#### much much more....."
   ]
  },
  {
   "cell_type": "code",
   "execution_count": 53,
   "metadata": {
    "collapsed": false,
    "slideshow": {
     "slide_type": "skip"
    }
   },
   "outputs": [],
   "source": [
    "sdf_merged['DrunksP1K'] = sdf_merged.DRUNK_COUNT / sdf_merged.TOTPOP10 * 1000\n",
    "sdf_mean = sdf_merged.fillna(sdf_merged.mean())\n"
   ]
  },
  {
   "cell_type": "code",
   "execution_count": 54,
   "metadata": {
    "collapsed": true,
    "slideshow": {
     "slide_type": "skip"
    }
   },
   "outputs": [],
   "source": [
    "import pysal as ps\n",
    "import numpy as np"
   ]
  },
  {
   "cell_type": "code",
   "execution_count": 82,
   "metadata": {
    "collapsed": false,
    "slideshow": {
     "slide_type": "skip"
    }
   },
   "outputs": [
    {
     "data": {
      "text/plain": [
       "<matplotlib.figure.Figure at 0x2aa216b0198>"
      ]
     },
     "metadata": {},
     "output_type": "display_data"
    }
   ],
   "source": [
    "import matplotlib.pyplot as plt\n",
    "plt.figure(figsize=(10,10))\n",
    "x = sdf_mean.LIQUOR_COUNT / sdf_mean.geometry.get_area(\"PLANAR\", \"SQUAREMILES\")\n",
    "y = sdf_mean.DRUNK_COUNT / sdf_mean.geometry.get_area(\"PLANAR\", \"SQUAREMILES\")\n",
    "m, b = np.polyfit(x,y,1)\n"
   ]
  },
  {
   "cell_type": "code",
   "execution_count": 87,
   "metadata": {
    "collapsed": false,
    "slideshow": {
     "slide_type": "subslide"
    }
   },
   "outputs": [
    {
     "data": {
      "image/png": "[encoded data removed]",
      "text/plain": [
       "<matplotlib.figure.Figure at 0x2aa1ec6a048>"
      ]
     },
     "metadata": {},
     "output_type": "display_data"
    }
   ],
   "source": [
    "plt.figure(figsize=(10,6))\n",
    "plt.ylabel('Drunk Incidents per Square Mile')\n",
    "plt.xlabel('Bars per Square Mile')\n",
    "title=plt.title('# Bars vs Drunk Incidents')\n",
    "ax = plt.plot(x, y, '.')\n",
    "f = plt.plot(x, m*x + b, '-')"
   ]
  },
  {
   "cell_type": "code",
   "execution_count": 62,
   "metadata": {
    "collapsed": false,
    "slideshow": {
     "slide_type": "subslide"
    }
   },
   "outputs": [
    {
     "data": {
      "text/html": [
       "<div>\n",
       "<style scoped>\n",
       "    .dataframe tbody tr th:only-of-type {\n",
       "        vertical-align: middle;\n",
       "    }\n",
       "\n",
       "    .dataframe tbody tr th {\n",
       "        vertical-align: top;\n",
       "    }\n",
       "\n",
       "    .dataframe thead th {\n",
       "        text-align: right;\n",
       "    }\n",
       "</style>\n",
       "<table border=\"1\" class=\"dataframe\">\n",
       "  <thead>\n",
       "    <tr style=\"text-align: right;\">\n",
       "      <th></th>\n",
       "      <th>IncPSqMi</th>\n",
       "      <th>HHpSqMi</th>\n",
       "      <th>BarPSqMi</th>\n",
       "      <th>MpSqMi</th>\n",
       "      <th>VACpSqMi</th>\n",
       "      <th>MAL21UP10</th>\n",
       "    </tr>\n",
       "  </thead>\n",
       "  <tbody>\n",
       "    <tr>\n",
       "      <th>IncPSqMi</th>\n",
       "      <td>1.000000</td>\n",
       "      <td>0.117048</td>\n",
       "      <td>0.371136</td>\n",
       "      <td>0.186869</td>\n",
       "      <td>0.176475</td>\n",
       "      <td>0.128908</td>\n",
       "    </tr>\n",
       "    <tr>\n",
       "      <th>HHpSqMi</th>\n",
       "      <td>0.117048</td>\n",
       "      <td>1.000000</td>\n",
       "      <td>0.268588</td>\n",
       "      <td>0.630201</td>\n",
       "      <td>0.092167</td>\n",
       "      <td>0.635180</td>\n",
       "    </tr>\n",
       "    <tr>\n",
       "      <th>BarPSqMi</th>\n",
       "      <td>0.371136</td>\n",
       "      <td>0.268588</td>\n",
       "      <td>1.000000</td>\n",
       "      <td>0.166383</td>\n",
       "      <td>0.085456</td>\n",
       "      <td>0.189032</td>\n",
       "    </tr>\n",
       "    <tr>\n",
       "      <th>MpSqMi</th>\n",
       "      <td>0.186869</td>\n",
       "      <td>0.630201</td>\n",
       "      <td>0.166383</td>\n",
       "      <td>1.000000</td>\n",
       "      <td>0.047616</td>\n",
       "      <td>0.944997</td>\n",
       "    </tr>\n",
       "    <tr>\n",
       "      <th>VACpSqMi</th>\n",
       "      <td>0.176475</td>\n",
       "      <td>0.092167</td>\n",
       "      <td>0.085456</td>\n",
       "      <td>0.047616</td>\n",
       "      <td>1.000000</td>\n",
       "      <td>0.033747</td>\n",
       "    </tr>\n",
       "    <tr>\n",
       "      <th>MAL21UP10</th>\n",
       "      <td>0.128908</td>\n",
       "      <td>0.635180</td>\n",
       "      <td>0.189032</td>\n",
       "      <td>0.944997</td>\n",
       "      <td>0.033747</td>\n",
       "      <td>1.000000</td>\n",
       "    </tr>\n",
       "  </tbody>\n",
       "</table>\n",
       "</div>"
      ],
      "text/plain": [
       "           IncPSqMi   HHpSqMi  BarPSqMi    MpSqMi  VACpSqMi  MAL21UP10\n",
       "IncPSqMi   1.000000  0.117048  0.371136  0.186869  0.176475   0.128908\n",
       "HHpSqMi    0.117048  1.000000  0.268588  0.630201  0.092167   0.635180\n",
       "BarPSqMi   0.371136  0.268588  1.000000  0.166383  0.085456   0.189032\n",
       "MpSqMi     0.186869  0.630201  0.166383  1.000000  0.047616   0.944997\n",
       "VACpSqMi   0.176475  0.092167  0.085456  0.047616  1.000000   0.033747\n",
       "MAL21UP10  0.128908  0.635180  0.189032  0.944997  0.033747   1.000000"
      ]
     },
     "execution_count": 62,
     "metadata": {},
     "output_type": "execute_result"
    }
   ],
   "source": [
    "sdf_merged['BarPSqMi'] = sdf_mean.LIQUOR_COUNT \n",
    "sdf_merged['IncPSqMi'] = sdf_mean.DRUNK_COUNT\n",
    "sdf_merged['HHpSqMi'] = sdf_mean.TOTHH\n",
    "sdf_merged['MpSqMi'] = sdf_mean['MALES_CY'] \n",
    "sdf_merged['VACpSqMi'] = sdf_mean['VACANT_CY']\n",
    "YVar='IncPSqMi'\n",
    "XVars=['HHpSqMi','BarPSqMi','MpSqMi','VACpSqMi', 'MAL21UP10']\n",
    "sdf_merged[[YVar]+XVars].corr() "
   ]
  },
  {
   "cell_type": "code",
   "execution_count": 63,
   "metadata": {
    "collapsed": false,
    "slideshow": {
     "slide_type": "subslide"
    }
   },
   "outputs": [
    {
     "data": {
      "text/plain": [
       "Morans I     0.510953\n",
       "Z-Score     32.357087\n",
       "P-Value      0.000000\n",
       "dtype: float64"
      ]
     },
     "execution_count": 63,
     "metadata": {},
     "output_type": "execute_result"
    }
   ],
   "source": [
    "w = ps.weights.Queen.from_dataframe(sdf_mean, geom_col=\"SHAPE\")\n",
    "w.transform = 'r'\n",
    "mi = ps.Moran(y, w)\n",
    "pd.Series(index=['Morans I','Z-Score','P-Value'],\n",
    "          data=[mi.I, mi.z_norm, mi.p_norm])"
   ]
  },
  {
   "cell_type": "code",
   "execution_count": null,
   "metadata": {
    "collapsed": true,
    "slideshow": {
     "slide_type": "subslide"
    }
   },
   "outputs": [],
   "source": [
    "Y=sdf_merged[YVar].as_matrix().reshape((len(sdf_mean),1))\n",
    "X=sdf_merged[XVars].as_matrix()\n",
    "\n",
    "ols=ps.spreg.OLS(Y,X, \n",
    "                 w=w,\n",
    "                 name_y=YVar, \n",
    "                 name_x=XVars,\n",
    "                 nonspat_diag=False, spat_diag=True)"
   ]
  },
  {
   "cell_type": "code",
   "execution_count": 67,
   "metadata": {
    "collapsed": false,
    "slideshow": {
     "slide_type": "subslide"
    }
   },
   "outputs": [
    {
     "name": "stdout",
     "output_type": "stream",
     "text": [
      "REGRESSION\n",
      "----------\n",
      "SUMMARY OF OUTPUT: ORDINARY LEAST SQUARES\n",
      "-----------------------------------------\n",
      "Data set            :     unknown\n",
      "Weights matrix      :     unknown\n",
      "Dependent Variable  :    IncPSqMi                Number of Observations:        1336\n",
      "Mean dependent var  :     44.7723                Number of Variables   :           6\n",
      "S.D. dependent var  :     56.6163                Degrees of Freedom    :        1330\n",
      "R-squared           :      0.2081\n",
      "Adjusted R-squared  :      0.2051\n",
      "\n",
      "------------------------------------------------------------------------------------\n",
      "            Variable     Coefficient       Std.Error     t-Statistic     Probability\n",
      "------------------------------------------------------------------------------------\n",
      "            CONSTANT       7.9007963       3.5927768       2.1990780       0.0280440\n",
      "             HHpSqMi      -0.0206724       0.0081914      -2.5236837       0.0117289\n",
      "            BarPSqMi       6.0058282       0.4139411      14.5088940       0.0000000\n",
      "              MpSqMi       0.1217059       0.0140438       8.6661782       0.0000000\n",
      "            VACpSqMi       0.1338123       0.0237354       5.6376717       0.0000000\n",
      "           MAL21UP10      -0.1212244       0.0180036      -6.7333556       0.0000000\n",
      "------------------------------------------------------------------------------------\n",
      "\n",
      "DIAGNOSTICS FOR SPATIAL DEPENDENCE\n",
      "TEST                           MI/DF       VALUE           PROB\n",
      "Lagrange Multiplier (lag)         1         156.341           0.0000\n",
      "Robust LM (lag)                   1          24.886           0.0000\n",
      "Lagrange Multiplier (error)       1         133.595           0.0000\n",
      "Robust LM (error)                 1           2.140           0.1435\n",
      "Lagrange Multiplier (SARMA)       2         158.481           0.0000\n",
      "\n",
      "================================ END OF REPORT =====================================\n"
     ]
    }
   ],
   "source": [
    "print (ols.summary)"
   ]
  },
  {
   "cell_type": "code",
   "execution_count": 64,
   "metadata": {
    "collapsed": false,
    "slideshow": {
     "slide_type": "skip"
    }
   },
   "outputs": [
    {
     "name": "stdout",
     "output_type": "stream",
     "text": [
      "REGRESSION\n",
      "----------\n",
      "SUMMARY OF OUTPUT: ORDINARY LEAST SQUARES\n",
      "-----------------------------------------\n",
      "Data set            :     unknown\n",
      "Weights matrix      :     unknown\n",
      "Dependent Variable  :    IncPSqMi                Number of Observations:        1336\n",
      "Mean dependent var  :     44.7723                Number of Variables   :           6\n",
      "S.D. dependent var  :     56.6163                Degrees of Freedom    :        1330\n",
      "R-squared           :      0.2081\n",
      "Adjusted R-squared  :      0.2051\n",
      "\n",
      "------------------------------------------------------------------------------------\n",
      "            Variable     Coefficient       Std.Error     t-Statistic     Probability\n",
      "------------------------------------------------------------------------------------\n",
      "            CONSTANT       7.9007963       3.5927768       2.1990780       0.0280440\n",
      "             HHpSqMi      -0.0206724       0.0081914      -2.5236837       0.0117289\n",
      "            BarPSqMi       6.0058282       0.4139411      14.5088940       0.0000000\n",
      "              MpSqMi       0.1217059       0.0140438       8.6661782       0.0000000\n",
      "            VACpSqMi       0.1338123       0.0237354       5.6376717       0.0000000\n",
      "           MAL21UP10      -0.1212244       0.0180036      -6.7333556       0.0000000\n",
      "------------------------------------------------------------------------------------\n",
      "\n",
      "DIAGNOSTICS FOR SPATIAL DEPENDENCE\n",
      "TEST                           MI/DF       VALUE           PROB\n",
      "Lagrange Multiplier (lag)         1         156.341           0.0000\n",
      "Robust LM (lag)                   1          24.886           0.0000\n",
      "Lagrange Multiplier (error)       1         133.595           0.0000\n",
      "Robust LM (error)                 1           2.140           0.1435\n",
      "Lagrange Multiplier (SARMA)       2         158.481           0.0000\n",
      "\n",
      "================================ END OF REPORT =====================================\n"
     ]
    },
    {
     "data": {
      "text/plain": [
       "Morans I     0.183228\n",
       "Z-Score     11.633629\n",
       "P-Value      0.000000\n",
       "dtype: float64"
      ]
     },
     "execution_count": 64,
     "metadata": {},
     "output_type": "execute_result"
    }
   ],
   "source": [
    "mi = ps.Moran(ols.u, w, two_tailed=False)\n",
    "pd.Series(index=['Morans I','Z-Score','P-Value'],\n",
    "          data=[mi.I, mi.z_norm, mi.p_norm])"
   ]
  },
  {
   "cell_type": "code",
   "execution_count": 65,
   "metadata": {
    "collapsed": false,
    "slideshow": {
     "slide_type": "skip"
    }
   },
   "outputs": [
    {
     "name": "stderr",
     "output_type": "stream",
     "text": [
      "C:\\Program Files\\ArcGIS\\Pro\\bin\\Python\\envs\\arcgispro-py3\\lib\\site-packages\\scipy\\optimize\\_minimize.py:599: RuntimeWarning: Method 'bounded' does not support relative tolerance in x; defaulting to absolute tolerance.\n",
      "  \"defaulting to absolute tolerance.\", RuntimeWarning)\n"
     ]
    },
    {
     "name": "stdout",
     "output_type": "stream",
     "text": [
      "REGRESSION\n",
      "----------\n",
      "SUMMARY OF OUTPUT: MAXIMUM LIKELIHOOD SPATIAL LAG (METHOD = FULL)\n",
      "-----------------------------------------------------------------\n",
      "Data set            :     unknown\n",
      "Weights matrix      :     unknown\n",
      "Dependent Variable  :    IncPSqMi                Number of Observations:        1336\n",
      "Mean dependent var  :     44.7723                Number of Variables   :           7\n",
      "S.D. dependent var  :     56.6163                Degrees of Freedom    :        1329\n",
      "Pseudo R-squared    :      0.2696\n",
      "Spatial Pseudo R-squared:  0.2215\n",
      "Sigma-square ML     :    2340.778                Log likelihood        :   -7087.228\n",
      "S.E of regression   :      48.382                Akaike info criterion :   14188.456\n",
      "                                                 Schwarz criterion     :   14224.838\n",
      "\n",
      "------------------------------------------------------------------------------------\n",
      "            Variable     Coefficient       Std.Error     z-Statistic     Probability\n",
      "------------------------------------------------------------------------------------\n",
      "            CONSTANT      -2.6531592       3.6236236      -0.7321840       0.4640563\n",
      "             HHpSqMi      -0.0226095       0.0078547      -2.8784821       0.0039959\n",
      "            BarPSqMi       5.4023288       0.4027503      13.4135949       0.0000000\n",
      "              MpSqMi       0.1039498       0.0134890       7.7062778       0.0000000\n",
      "            VACpSqMi       0.1046198       0.0227661       4.5954208       0.0000043\n",
      "           MAL21UP10      -0.0966070       0.0172874      -5.5882834       0.0000000\n",
      "          W_IncPSqMi       0.2798702       0.0362175       7.7274825       0.0000000\n",
      "------------------------------------------------------------------------------------\n",
      "================================ END OF REPORT =====================================\n"
     ]
    },
    {
     "data": {
      "text/plain": [
       "Morans I   -0.014461\n",
       "Z-Score    -0.867052\n",
       "P-Value     0.192957\n",
       "dtype: float64"
      ]
     },
     "execution_count": 65,
     "metadata": {},
     "output_type": "execute_result"
    }
   ],
   "source": [
    "lag=ps.spreg.ML_Lag(Y, X, w, name_y=YVar, name_x=XVars)\n",
    "print (lag.summary)"
   ]
  },
  {
   "cell_type": "code",
   "execution_count": 66,
   "metadata": {
    "collapsed": false,
    "slideshow": {
     "slide_type": "skip"
    }
   },
   "outputs": [
    {
     "data": {
      "text/plain": [
       "Morans I   -0.014461\n",
       "Z-Score    -0.867052\n",
       "P-Value     0.192957\n",
       "dtype: float64"
      ]
     },
     "execution_count": 66,
     "metadata": {},
     "output_type": "execute_result"
    }
   ],
   "source": [
    "mi = ps.Moran(lag.u, w, two_tailed=False)\n",
    "pd.Series(index=['Morans I','Z-Score','P-Value'],data=[mi.I, mi.z_norm, mi.p_norm])"
   ]
  },
  {
   "cell_type": "markdown",
   "metadata": {
    "slideshow": {
     "slide_type": "slide"
    }
   },
   "source": [
    "# Why is all this Important"
   ]
  },
  {
   "cell_type": "markdown",
   "metadata": {
    "slideshow": {
     "slide_type": "fragment"
    }
   },
   "source": [
    "- Attracts open source users\n",
    "- No custom analysis code\n",
    "- Keeps users in comfort level"
   ]
  },
  {
   "cell_type": "markdown",
   "metadata": {
    "slideshow": {
     "slide_type": "slide"
    }
   },
   "source": [
    "# Questions"
   ]
  }
 ],
 "metadata": {
  "celltoolbar": "Slideshow",
  "kernelspec": {
   "display_name": "Python 3",
   "language": "python",
   "name": "python3"
  },
  "language_info": {
   "codemirror_mode": {
    "name": "ipython",
    "version": 3
   },
   "file_extension": ".py",
   "mimetype": "text/x-python",
   "name": "python",
   "nbconvert_exporter": "python",
   "pygments_lexer": "ipython3",
   "version": "3.5.4"
  }
 },
 "nbformat": 4,
 "nbformat_minor": 2
}
