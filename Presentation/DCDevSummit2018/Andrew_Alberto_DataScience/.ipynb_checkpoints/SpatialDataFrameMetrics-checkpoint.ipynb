{
 "cells": [
  {
   "cell_type": "markdown",
   "metadata": {},
   "source": [
    "\n",
    "Testing SpatialDataFrame Ingestion Rates\n",
    "- 5000 features\n",
    "- 10000 features\n",
    "- 50000 features\n",
    "- 100000 features\n"
   ]
  },
  {
   "cell_type": "code",
   "execution_count": 4,
   "metadata": {
    "collapsed": true
   },
   "outputs": [],
   "source": [
    "import time\n",
    "import datetime\n",
    "from arcgis.features import SpatialDataFrame\n",
    "from arcgis.gis import GIS\n",
    "import pandas as pd"
   ]
  },
  {
   "cell_type": "markdown",
   "metadata": {},
   "source": [
    "# from_featureclass Load Time Metrics"
   ]
  },
  {
   "cell_type": "code",
   "execution_count": 5,
   "metadata": {
    "collapsed": true
   },
   "outputs": [],
   "source": [
    "fc = r\"D:\\GIS\\random_points.gdb\\random_pts\"\n",
    "queries = [\"OID < 5001\",\n",
    "           \"OID < 10001\",\n",
    "           \"OID < 50001\",\n",
    "           \"OID < 100001\",\n",
    "           None\n",
    "           ]\n",
    "counts = [\n",
    "    5000,\n",
    "    10000,\n",
    "    50000,\n",
    "    100000,\n",
    "    200000\n",
    "]"
   ]
  },
  {
   "cell_type": "code",
   "execution_count": 15,
   "metadata": {
    "collapsed": true
   },
   "outputs": [],
   "source": [
    "logs = []\n",
    "for q in queries:\n",
    "    start = datetime.datetime.now()\n",
    "    sdf = SpatialDataFrame.from_featureclass(fc, where_clause=q)\n",
    "    end = datetime.datetime.now()\n",
    "    logs.append([\"%s (s)\" % ((end-start).microseconds * 1e-6), \n",
    "                 q,\n",
    "                 len(sdf)\n",
    "                ])"
   ]
  },
  {
   "cell_type": "code",
   "execution_count": 16,
   "metadata": {
    "collapsed": false
   },
   "outputs": [
    {
     "data": {
      "text/html": [
       "<div>\n",
       "<style scoped>\n",
       "    .dataframe tbody tr th:only-of-type {\n",
       "        vertical-align: middle;\n",
       "    }\n",
       "\n",
       "    .dataframe tbody tr th {\n",
       "        vertical-align: top;\n",
       "    }\n",
       "\n",
       "    .dataframe thead th {\n",
       "        text-align: right;\n",
       "    }\n",
       "</style>\n",
       "<table border=\"1\" class=\"dataframe\">\n",
       "  <thead>\n",
       "    <tr style=\"text-align: right;\">\n",
       "      <th></th>\n",
       "      <th>Time (S)</th>\n",
       "      <th>Query</th>\n",
       "      <th>Size</th>\n",
       "    </tr>\n",
       "  </thead>\n",
       "  <tbody>\n",
       "    <tr>\n",
       "      <th>0</th>\n",
       "      <td>0.687062 (s)</td>\n",
       "      <td>OID &lt; 5001</td>\n",
       "      <td>5000</td>\n",
       "    </tr>\n",
       "    <tr>\n",
       "      <th>1</th>\n",
       "      <td>0.920951 (s)</td>\n",
       "      <td>OID &lt; 10001</td>\n",
       "      <td>10000</td>\n",
       "    </tr>\n",
       "    <tr>\n",
       "      <th>2</th>\n",
       "      <td>0.519927 (s)</td>\n",
       "      <td>OID &lt; 50001</td>\n",
       "      <td>50000</td>\n",
       "    </tr>\n",
       "    <tr>\n",
       "      <th>3</th>\n",
       "      <td>0.8962199999999999 (s)</td>\n",
       "      <td>OID &lt; 100001</td>\n",
       "      <td>100000</td>\n",
       "    </tr>\n",
       "    <tr>\n",
       "      <th>4</th>\n",
       "      <td>0.485875 (s)</td>\n",
       "      <td>None</td>\n",
       "      <td>200000</td>\n",
       "    </tr>\n",
       "  </tbody>\n",
       "</table>\n",
       "</div>"
      ],
      "text/plain": [
       "                 Time (S)         Query    Size\n",
       "0            0.687062 (s)    OID < 5001    5000\n",
       "1            0.920951 (s)   OID < 10001   10000\n",
       "2            0.519927 (s)   OID < 50001   50000\n",
       "3  0.8962199999999999 (s)  OID < 100001  100000\n",
       "4            0.485875 (s)          None  200000"
      ]
     },
     "execution_count": 16,
     "metadata": {},
     "output_type": "execute_result"
    }
   ],
   "source": [
    "pd.DataFrame(logs, columns=['Time (S)', 'Query', 'Size'])"
   ]
  },
  {
   "cell_type": "markdown",
   "metadata": {
    "collapsed": true
   },
   "source": [
    "\n",
    "# SpatialDataFrame Creation Times"
   ]
  },
  {
   "cell_type": "code",
   "execution_count": 6,
   "metadata": {
    "collapsed": true
   },
   "outputs": [],
   "source": [
    "def generate_random_df(ncols=4, nrows=10, random_text=False):\n",
    "    \"\"\"\n",
    "    generates an row x col dataframe with randoms data\n",
    "    \"\"\"\n",
    "    import string\n",
    "    import random\n",
    "    import numpy as np\n",
    "    if ncols > len(string.ascii_letters):\n",
    "        ncols = len(string.ascii_letters)\n",
    "    col_names = string.ascii_letters[:ncols]\n",
    "    df = pd.DataFrame(np.random.randint(0, 10000,size=(nrows, len(col_names))),\n",
    "                      columns=list(col_names))\n",
    "    if random_text:\n",
    "\n",
    "        for i in range(random.randint(0, ncols)):\n",
    "            col = random.choice(list(col_names))\n",
    "            df[col] = df[col].apply(lambda x: ''.join(random.choice(\n",
    "                string.ascii_uppercase + string.digits) for _ in range(random.randint(1, 255))))\n",
    "    return df"
   ]
  },
  {
   "cell_type": "code",
   "execution_count": 7,
   "metadata": {
    "collapsed": true
   },
   "outputs": [],
   "source": [
    "def generate_random_geometry(count=10, geom_type=\"polyline\",\n",
    "                             xmin=-90, xmax=90, ymin=-90, ymax=90,\n",
    "                             sr=4326):\n",
    "    import random\n",
    "    from arcgis.geometry._types import Geometry, SpatialReference\n",
    "    geom_type = geom_type.lower()\n",
    "    pts = 1\n",
    "    if geom_type == \"polyline\":\n",
    "        pts = random.randint(2,5)\n",
    "    elif geom_type == \"polygon\":\n",
    "        pts = random.randint(3,5)\n",
    "    elif geom_type == \"point\":\n",
    "        pts = 1\n",
    "    else:\n",
    "        geom_type = \"polyline\"\n",
    "        pts = random.randint(2,5)\n",
    "    g = []\n",
    "    t='arcgis'\n",
    "    sr = SpatialReference({'wkid' : sr})\n",
    "    for i in range(count):\n",
    "        coords = []\n",
    "        for pt in range(pts):\n",
    "            coords.append([random.randint(xmin, xmax),\n",
    "                           random.randint(ymin, ymax)])\n",
    "        if geom_type == \"polyline\":\n",
    "            g.append(Geometry({\"paths\":[coords],\"spatialReference\":sr}))\n",
    "        elif geom_type == \"point\":\n",
    "            g.append(Geometry({\"x\":coords[0][0], \"y\": coords[0][1],\n",
    "                               \"spatialReference\":sr}))\n",
    "        else: # polygon\n",
    "            g.append(Geometry({\"rings\":[coords],\"spatialReference\":sr}))\n",
    "\n",
    "    return g"
   ]
  },
  {
   "cell_type": "code",
   "execution_count": 17,
   "metadata": {
    "collapsed": false
   },
   "outputs": [
    {
     "data": {
      "text/html": [
       "<div>\n",
       "<style scoped>\n",
       "    .dataframe tbody tr th:only-of-type {\n",
       "        vertical-align: middle;\n",
       "    }\n",
       "\n",
       "    .dataframe tbody tr th {\n",
       "        vertical-align: top;\n",
       "    }\n",
       "\n",
       "    .dataframe thead th {\n",
       "        text-align: right;\n",
       "    }\n",
       "</style>\n",
       "<table border=\"1\" class=\"dataframe\">\n",
       "  <thead>\n",
       "    <tr style=\"text-align: right;\">\n",
       "      <th></th>\n",
       "      <th>Time</th>\n",
       "      <th>Count</th>\n",
       "      <th>GeometryType</th>\n",
       "      <th>Method</th>\n",
       "    </tr>\n",
       "  </thead>\n",
       "  <tbody>\n",
       "    <tr>\n",
       "      <th>0</th>\n",
       "      <td>0.07921399999999999 s</td>\n",
       "      <td>1000</td>\n",
       "      <td>point</td>\n",
       "      <td>geoms from list</td>\n",
       "    </tr>\n",
       "    <tr>\n",
       "      <th>1</th>\n",
       "      <td>0.0040149999999999995 s</td>\n",
       "      <td>1000</td>\n",
       "      <td>polyline</td>\n",
       "      <td>geoms already in pd.DataFrame, assign by name</td>\n",
       "    </tr>\n",
       "    <tr>\n",
       "      <th>2</th>\n",
       "      <td>0.000971 s</td>\n",
       "      <td>1000</td>\n",
       "      <td>polygon</td>\n",
       "      <td>geoms already in pd.DataFrame, no explicit ass...</td>\n",
       "    </tr>\n",
       "    <tr>\n",
       "      <th>3</th>\n",
       "      <td>0.005013999999999999 s</td>\n",
       "      <td>5000</td>\n",
       "      <td>point</td>\n",
       "      <td>geoms from list</td>\n",
       "    </tr>\n",
       "    <tr>\n",
       "      <th>4</th>\n",
       "      <td>0.007019 s</td>\n",
       "      <td>5000</td>\n",
       "      <td>polyline</td>\n",
       "      <td>geoms already in pd.DataFrame, assign by name</td>\n",
       "    </tr>\n",
       "    <tr>\n",
       "      <th>5</th>\n",
       "      <td>0.003005 s</td>\n",
       "      <td>5000</td>\n",
       "      <td>polygon</td>\n",
       "      <td>geoms already in pd.DataFrame, no explicit ass...</td>\n",
       "    </tr>\n",
       "    <tr>\n",
       "      <th>6</th>\n",
       "      <td>0.007019 s</td>\n",
       "      <td>10000</td>\n",
       "      <td>point</td>\n",
       "      <td>geoms from list</td>\n",
       "    </tr>\n",
       "    <tr>\n",
       "      <th>7</th>\n",
       "      <td>0.013510999999999999 s</td>\n",
       "      <td>10000</td>\n",
       "      <td>polyline</td>\n",
       "      <td>geoms already in pd.DataFrame, assign by name</td>\n",
       "    </tr>\n",
       "    <tr>\n",
       "      <th>8</th>\n",
       "      <td>0.0065249999999999996 s</td>\n",
       "      <td>10000</td>\n",
       "      <td>polygon</td>\n",
       "      <td>geoms already in pd.DataFrame, no explicit ass...</td>\n",
       "    </tr>\n",
       "    <tr>\n",
       "      <th>9</th>\n",
       "      <td>0.010008 s</td>\n",
       "      <td>100000</td>\n",
       "      <td>point</td>\n",
       "      <td>geoms from list</td>\n",
       "    </tr>\n",
       "    <tr>\n",
       "      <th>10</th>\n",
       "      <td>0.11781399999999999 s</td>\n",
       "      <td>100000</td>\n",
       "      <td>polyline</td>\n",
       "      <td>geoms already in pd.DataFrame, assign by name</td>\n",
       "    </tr>\n",
       "    <tr>\n",
       "      <th>11</th>\n",
       "      <td>0.086231 s</td>\n",
       "      <td>100000</td>\n",
       "      <td>polygon</td>\n",
       "      <td>geoms already in pd.DataFrame, no explicit ass...</td>\n",
       "    </tr>\n",
       "    <tr>\n",
       "      <th>12</th>\n",
       "      <td>0.063168 s</td>\n",
       "      <td>200000</td>\n",
       "      <td>point</td>\n",
       "      <td>geoms from list</td>\n",
       "    </tr>\n",
       "    <tr>\n",
       "      <th>13</th>\n",
       "      <td>0.251239 s</td>\n",
       "      <td>200000</td>\n",
       "      <td>polyline</td>\n",
       "      <td>geoms already in pd.DataFrame, assign by name</td>\n",
       "    </tr>\n",
       "    <tr>\n",
       "      <th>14</th>\n",
       "      <td>0.19000599999999998 s</td>\n",
       "      <td>200000</td>\n",
       "      <td>polygon</td>\n",
       "      <td>geoms already in pd.DataFrame, no explicit ass...</td>\n",
       "    </tr>\n",
       "  </tbody>\n",
       "</table>\n",
       "</div>"
      ],
      "text/plain": [
       "                       Time   Count GeometryType  \\\n",
       "0     0.07921399999999999 s    1000        point   \n",
       "1   0.0040149999999999995 s    1000     polyline   \n",
       "2                0.000971 s    1000      polygon   \n",
       "3    0.005013999999999999 s    5000        point   \n",
       "4                0.007019 s    5000     polyline   \n",
       "5                0.003005 s    5000      polygon   \n",
       "6                0.007019 s   10000        point   \n",
       "7    0.013510999999999999 s   10000     polyline   \n",
       "8   0.0065249999999999996 s   10000      polygon   \n",
       "9                0.010008 s  100000        point   \n",
       "10    0.11781399999999999 s  100000     polyline   \n",
       "11               0.086231 s  100000      polygon   \n",
       "12               0.063168 s  200000        point   \n",
       "13               0.251239 s  200000     polyline   \n",
       "14    0.19000599999999998 s  200000      polygon   \n",
       "\n",
       "                                               Method  \n",
       "0                                     geoms from list  \n",
       "1       geoms already in pd.DataFrame, assign by name  \n",
       "2   geoms already in pd.DataFrame, no explicit ass...  \n",
       "3                                     geoms from list  \n",
       "4       geoms already in pd.DataFrame, assign by name  \n",
       "5   geoms already in pd.DataFrame, no explicit ass...  \n",
       "6                                     geoms from list  \n",
       "7       geoms already in pd.DataFrame, assign by name  \n",
       "8   geoms already in pd.DataFrame, no explicit ass...  \n",
       "9                                     geoms from list  \n",
       "10      geoms already in pd.DataFrame, assign by name  \n",
       "11  geoms already in pd.DataFrame, no explicit ass...  \n",
       "12                                    geoms from list  \n",
       "13      geoms already in pd.DataFrame, assign by name  \n",
       "14  geoms already in pd.DataFrame, no explicit ass...  "
      ]
     },
     "execution_count": 17,
     "metadata": {},
     "output_type": "execute_result"
    }
   ],
   "source": [
    "logs = []\n",
    "columns = ['Time', 'Count', 'GeometryType', 'Method']\n",
    "for size in [1000, 5000, 10000, 100000, 200000]:\n",
    "    df = generate_random_df(ncols=3, nrows=5000, random_text=True)\n",
    "    g = generate_random_geometry(count=5000, geom_type=\"point\")\n",
    "    start_time = datetime.datetime.now()\n",
    "    sdf = SpatialDataFrame(data=df, geometry=g)\n",
    "    end = datetime.datetime.now()\n",
    "    logs.append([\"%s s\" % ((end-start_time).microseconds * 1e-6),\n",
    "                 size,\n",
    "                 'point',\n",
    "                 \"geoms from list\"])\n",
    "\n",
    "    df = generate_random_df(ncols=3, nrows=size, random_text=True)\n",
    "    g = generate_random_geometry(count=size)\n",
    "    df['SHAPE'] = g\n",
    "    start_time = datetime.datetime.now()\n",
    "    sdf = SpatialDataFrame(data=df, geometry='SHAPE')\n",
    "    end = datetime.datetime.now()\n",
    "    logs.append([\"%s s\" % ((end-start_time).microseconds * 1e-6),\n",
    "                 size,\n",
    "                 'polyline',\n",
    "                 \"geoms already in pd.DataFrame, assign by name\"])\n",
    "\n",
    "    df = generate_random_df(ncols=3, nrows=size, random_text=True)\n",
    "    g = generate_random_geometry(count=size, geom_type=\"polygon\")\n",
    "    df['SHAPE'] = g\n",
    "    start_time = datetime.datetime.now()\n",
    "    sdf = SpatialDataFrame(data=df)\n",
    "    end = datetime.datetime.now()\n",
    "    logs.append([\"%s s\" % ((end-start_time).microseconds * 1e-6),\n",
    "                 size,\n",
    "                 'polygon',\n",
    "                 \"geoms already in pd.DataFrame, no explicit assignment\"])\n",
    "\n",
    "pd.DataFrame(data=logs, columns=columns)"
   ]
  },
  {
   "cell_type": "code",
   "execution_count": null,
   "metadata": {
    "collapsed": false
   },
   "outputs": [],
   "source": []
  },
  {
   "cell_type": "code",
   "execution_count": 8,
   "metadata": {
    "collapsed": false
   },
   "outputs": [],
   "source": [
    "size = 10\n",
    "df = generate_random_df(ncols=3, nrows=size, random_text=True)\n",
    "g = generate_random_geometry(count=size)"
   ]
  },
  {
   "cell_type": "code",
   "execution_count": 9,
   "metadata": {
    "collapsed": true
   },
   "outputs": [],
   "source": [
    "sdf = SpatialDataFrame(data=df, geometry=g)"
   ]
  },
  {
   "cell_type": "code",
   "execution_count": 11,
   "metadata": {
    "collapsed": false
   },
   "outputs": [
    {
     "ename": "ValueError",
     "evalue": "Length of values does not match length of index",
     "output_type": "error",
     "traceback": [
      "\u001b[1;31m---------------------------------------------------------------------------\u001b[0m",
      "\u001b[1;31mValueError\u001b[0m                                Traceback (most recent call last)",
      "\u001b[1;32m<ipython-input-11-25378b329cd8>\u001b[0m in \u001b[0;36m<module>\u001b[1;34m()\u001b[0m\n\u001b[1;32m----> 1\u001b[1;33m \u001b[0msdf\u001b[0m\u001b[1;33m.\u001b[0m\u001b[0m__feature_set__\u001b[0m\u001b[1;33m\u001b[0m\u001b[0m\n\u001b[0m",
      "\u001b[1;32md:\\svn\\git_hub\\arcgis\\geosaurus_achapkowski_master\\src\\arcgis\\features\\_data\\geodataset\\geodataframe.py\u001b[0m in \u001b[0;36m__feature_set__\u001b[1;34m(self)\u001b[0m\n\u001b[0;32m    236\u001b[0m             \u001b[0mfs\u001b[0m\u001b[1;33m[\u001b[0m\u001b[1;34m'displayFieldName'\u001b[0m\u001b[1;33m]\u001b[0m \u001b[1;33m=\u001b[0m \u001b[0mcols_norm\u001b[0m\u001b[1;33m[\u001b[0m\u001b[0mcols_lower\u001b[0m\u001b[1;33m.\u001b[0m\u001b[0mindex\u001b[0m\u001b[1;33m(\u001b[0m\u001b[1;34m'fid'\u001b[0m\u001b[1;33m)\u001b[0m\u001b[1;33m]\u001b[0m\u001b[1;33m\u001b[0m\u001b[0m\n\u001b[0;32m    237\u001b[0m         \u001b[1;32melse\u001b[0m\u001b[1;33m:\u001b[0m\u001b[1;33m\u001b[0m\u001b[0m\n\u001b[1;32m--> 238\u001b[1;33m             \u001b[0mself\u001b[0m\u001b[1;33m[\u001b[0m\u001b[1;34m'OBJECTID'\u001b[0m\u001b[1;33m]\u001b[0m \u001b[1;33m=\u001b[0m \u001b[0mlist\u001b[0m\u001b[1;33m(\u001b[0m\u001b[0mrange\u001b[0m\u001b[1;33m(\u001b[0m\u001b[1;36m1\u001b[0m\u001b[1;33m,\u001b[0m \u001b[0mself\u001b[0m\u001b[1;33m.\u001b[0m\u001b[0msize\u001b[0m\u001b[1;33m+\u001b[0m\u001b[1;36m1\u001b[0m\u001b[1;33m)\u001b[0m\u001b[1;33m)\u001b[0m\u001b[1;33m\u001b[0m\u001b[0m\n\u001b[0m\u001b[0;32m    239\u001b[0m             \u001b[1;32mreturn\u001b[0m \u001b[0mself\u001b[0m\u001b[1;33m.\u001b[0m\u001b[0m__feature_set__\u001b[0m\u001b[1;33m\u001b[0m\u001b[0m\n\u001b[0;32m    240\u001b[0m         \u001b[1;32mif\u001b[0m \u001b[1;34m'objectIdFieldName'\u001b[0m \u001b[1;32min\u001b[0m \u001b[0mfs\u001b[0m\u001b[1;33m:\u001b[0m\u001b[1;33m\u001b[0m\u001b[0m\n",
      "\u001b[1;32mC:\\Program Files\\ArcGIS\\Pro\\bin\\Python\\envs\\arcgispro-py3\\lib\\site-packages\\pandas\\core\\frame.py\u001b[0m in \u001b[0;36m__setitem__\u001b[1;34m(self, key, value)\u001b[0m\n\u001b[0;32m   2517\u001b[0m         \u001b[1;32melse\u001b[0m\u001b[1;33m:\u001b[0m\u001b[1;33m\u001b[0m\u001b[0m\n\u001b[0;32m   2518\u001b[0m             \u001b[1;31m# set column\u001b[0m\u001b[1;33m\u001b[0m\u001b[1;33m\u001b[0m\u001b[0m\n\u001b[1;32m-> 2519\u001b[1;33m             \u001b[0mself\u001b[0m\u001b[1;33m.\u001b[0m\u001b[0m_set_item\u001b[0m\u001b[1;33m(\u001b[0m\u001b[0mkey\u001b[0m\u001b[1;33m,\u001b[0m \u001b[0mvalue\u001b[0m\u001b[1;33m)\u001b[0m\u001b[1;33m\u001b[0m\u001b[0m\n\u001b[0m\u001b[0;32m   2520\u001b[0m \u001b[1;33m\u001b[0m\u001b[0m\n\u001b[0;32m   2521\u001b[0m     \u001b[1;32mdef\u001b[0m \u001b[0m_setitem_slice\u001b[0m\u001b[1;33m(\u001b[0m\u001b[0mself\u001b[0m\u001b[1;33m,\u001b[0m \u001b[0mkey\u001b[0m\u001b[1;33m,\u001b[0m \u001b[0mvalue\u001b[0m\u001b[1;33m)\u001b[0m\u001b[1;33m:\u001b[0m\u001b[1;33m\u001b[0m\u001b[0m\n",
      "\u001b[1;32mC:\\Program Files\\ArcGIS\\Pro\\bin\\Python\\envs\\arcgispro-py3\\lib\\site-packages\\pandas\\core\\frame.py\u001b[0m in \u001b[0;36m_set_item\u001b[1;34m(self, key, value)\u001b[0m\n\u001b[0;32m   2583\u001b[0m \u001b[1;33m\u001b[0m\u001b[0m\n\u001b[0;32m   2584\u001b[0m         \u001b[0mself\u001b[0m\u001b[1;33m.\u001b[0m\u001b[0m_ensure_valid_index\u001b[0m\u001b[1;33m(\u001b[0m\u001b[0mvalue\u001b[0m\u001b[1;33m)\u001b[0m\u001b[1;33m\u001b[0m\u001b[0m\n\u001b[1;32m-> 2585\u001b[1;33m         \u001b[0mvalue\u001b[0m \u001b[1;33m=\u001b[0m \u001b[0mself\u001b[0m\u001b[1;33m.\u001b[0m\u001b[0m_sanitize_column\u001b[0m\u001b[1;33m(\u001b[0m\u001b[0mkey\u001b[0m\u001b[1;33m,\u001b[0m \u001b[0mvalue\u001b[0m\u001b[1;33m)\u001b[0m\u001b[1;33m\u001b[0m\u001b[0m\n\u001b[0m\u001b[0;32m   2586\u001b[0m         \u001b[0mNDFrame\u001b[0m\u001b[1;33m.\u001b[0m\u001b[0m_set_item\u001b[0m\u001b[1;33m(\u001b[0m\u001b[0mself\u001b[0m\u001b[1;33m,\u001b[0m \u001b[0mkey\u001b[0m\u001b[1;33m,\u001b[0m \u001b[0mvalue\u001b[0m\u001b[1;33m)\u001b[0m\u001b[1;33m\u001b[0m\u001b[0m\n\u001b[0;32m   2587\u001b[0m \u001b[1;33m\u001b[0m\u001b[0m\n",
      "\u001b[1;32mC:\\Program Files\\ArcGIS\\Pro\\bin\\Python\\envs\\arcgispro-py3\\lib\\site-packages\\pandas\\core\\frame.py\u001b[0m in \u001b[0;36m_sanitize_column\u001b[1;34m(self, key, value, broadcast)\u001b[0m\n\u001b[0;32m   2758\u001b[0m \u001b[1;33m\u001b[0m\u001b[0m\n\u001b[0;32m   2759\u001b[0m             \u001b[1;31m# turn me into an ndarray\u001b[0m\u001b[1;33m\u001b[0m\u001b[1;33m\u001b[0m\u001b[0m\n\u001b[1;32m-> 2760\u001b[1;33m             \u001b[0mvalue\u001b[0m \u001b[1;33m=\u001b[0m \u001b[0m_sanitize_index\u001b[0m\u001b[1;33m(\u001b[0m\u001b[0mvalue\u001b[0m\u001b[1;33m,\u001b[0m \u001b[0mself\u001b[0m\u001b[1;33m.\u001b[0m\u001b[0mindex\u001b[0m\u001b[1;33m,\u001b[0m \u001b[0mcopy\u001b[0m\u001b[1;33m=\u001b[0m\u001b[1;32mFalse\u001b[0m\u001b[1;33m)\u001b[0m\u001b[1;33m\u001b[0m\u001b[0m\n\u001b[0m\u001b[0;32m   2761\u001b[0m             \u001b[1;32mif\u001b[0m \u001b[1;32mnot\u001b[0m \u001b[0misinstance\u001b[0m\u001b[1;33m(\u001b[0m\u001b[0mvalue\u001b[0m\u001b[1;33m,\u001b[0m \u001b[1;33m(\u001b[0m\u001b[0mnp\u001b[0m\u001b[1;33m.\u001b[0m\u001b[0mndarray\u001b[0m\u001b[1;33m,\u001b[0m \u001b[0mIndex\u001b[0m\u001b[1;33m)\u001b[0m\u001b[1;33m)\u001b[0m\u001b[1;33m:\u001b[0m\u001b[1;33m\u001b[0m\u001b[0m\n\u001b[0;32m   2762\u001b[0m                 \u001b[1;32mif\u001b[0m \u001b[0misinstance\u001b[0m\u001b[1;33m(\u001b[0m\u001b[0mvalue\u001b[0m\u001b[1;33m,\u001b[0m \u001b[0mlist\u001b[0m\u001b[1;33m)\u001b[0m \u001b[1;32mand\u001b[0m \u001b[0mlen\u001b[0m\u001b[1;33m(\u001b[0m\u001b[0mvalue\u001b[0m\u001b[1;33m)\u001b[0m \u001b[1;33m>\u001b[0m \u001b[1;36m0\u001b[0m\u001b[1;33m:\u001b[0m\u001b[1;33m\u001b[0m\u001b[0m\n",
      "\u001b[1;32mC:\\Program Files\\ArcGIS\\Pro\\bin\\Python\\envs\\arcgispro-py3\\lib\\site-packages\\pandas\\core\\series.py\u001b[0m in \u001b[0;36m_sanitize_index\u001b[1;34m(data, index, copy)\u001b[0m\n\u001b[0;32m   3078\u001b[0m \u001b[1;33m\u001b[0m\u001b[0m\n\u001b[0;32m   3079\u001b[0m     \u001b[1;32mif\u001b[0m \u001b[0mlen\u001b[0m\u001b[1;33m(\u001b[0m\u001b[0mdata\u001b[0m\u001b[1;33m)\u001b[0m \u001b[1;33m!=\u001b[0m \u001b[0mlen\u001b[0m\u001b[1;33m(\u001b[0m\u001b[0mindex\u001b[0m\u001b[1;33m)\u001b[0m\u001b[1;33m:\u001b[0m\u001b[1;33m\u001b[0m\u001b[0m\n\u001b[1;32m-> 3080\u001b[1;33m         \u001b[1;32mraise\u001b[0m \u001b[0mValueError\u001b[0m\u001b[1;33m(\u001b[0m\u001b[1;34m'Length of values does not match length of '\u001b[0m \u001b[1;34m'index'\u001b[0m\u001b[1;33m)\u001b[0m\u001b[1;33m\u001b[0m\u001b[0m\n\u001b[0m\u001b[0;32m   3081\u001b[0m \u001b[1;33m\u001b[0m\u001b[0m\n\u001b[0;32m   3082\u001b[0m     \u001b[1;32mif\u001b[0m \u001b[0misinstance\u001b[0m\u001b[1;33m(\u001b[0m\u001b[0mdata\u001b[0m\u001b[1;33m,\u001b[0m \u001b[0mPeriodIndex\u001b[0m\u001b[1;33m)\u001b[0m\u001b[1;33m:\u001b[0m\u001b[1;33m\u001b[0m\u001b[0m\n",
      "\u001b[1;31mValueError\u001b[0m: Length of values does not match length of index"
     ]
    }
   ],
   "source": [
    "sdf.__feature_set__"
   ]
  },
  {
   "cell_type": "code",
   "execution_count": null,
   "metadata": {
    "collapsed": true
   },
   "outputs": [],
   "source": []
  }
 ],
 "metadata": {
  "kernelspec": {
   "display_name": "Python 3",
   "language": "python",
   "name": "python3"
  },
  "language_info": {
   "codemirror_mode": {
    "name": "ipython",
    "version": 3
   },
   "file_extension": ".py",
   "mimetype": "text/x-python",
   "name": "python",
   "nbconvert_exporter": "python",
   "pygments_lexer": "ipython3",
   "version": "3.5.4"
  }
 },
 "nbformat": 4,
 "nbformat_minor": 2
}
