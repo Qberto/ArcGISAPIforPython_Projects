{
 "cells": [
  {
   "cell_type": "markdown",
   "metadata": {
    "slideshow": {
     "slide_type": "slide"
    }
   },
   "source": [
    "# Clustering"
   ]
  },
  {
   "cell_type": "markdown",
   "metadata": {
    "slideshow": {
     "slide_type": "fragment"
    }
   },
   "source": [
    "Load the required libraries"
   ]
  },
  {
   "cell_type": "code",
   "execution_count": 1,
   "metadata": {
    "collapsed": true,
    "slideshow": {
     "slide_type": "fragment"
    }
   },
   "outputs": [],
   "source": [
    "from arcgis.features import SpatialDataFrame\n",
    "import sklearn\n",
    "import numpy as np\n",
    "import pandas as pd"
   ]
  },
  {
   "cell_type": "markdown",
   "metadata": {
    "slideshow": {
     "slide_type": "subslide"
    }
   },
   "source": [
    "## Loading Spatial Data"
   ]
  },
  {
   "cell_type": "markdown",
   "metadata": {
    "slideshow": {
     "slide_type": "fragment"
    }
   },
   "source": [
    "- Service Endpoints (Feature Layers, Map Services)"
   ]
  },
  {
   "cell_type": "markdown",
   "metadata": {
    "slideshow": {
     "slide_type": "fragment"
    }
   },
   "source": [
    "- Local Feature Classes"
   ]
  },
  {
   "cell_type": "code",
   "execution_count": 2,
   "metadata": {
    "collapsed": true,
    "slideshow": {
     "slide_type": "fragment"
    }
   },
   "outputs": [],
   "source": [
    "sdf = SpatialDataFrame.from_featureclass(r\"./data\\SFCrimeJuly2012\\Crime Events/sf_cartheft.shp\")\n",
    "blocks = SpatialDataFrame.from_featureclass(r\"./data\\SFCrimeJuly2012\\Crime Events/SFCrime_blocks.shp\")"
   ]
  },
  {
   "cell_type": "markdown",
   "metadata": {
    "slideshow": {
     "slide_type": "subslide"
    }
   },
   "source": [
    "## Explore and Discover the Data\n",
    "\n",
    "- plot\n",
    "- map\n",
    "- display records\n",
    "- clean up data"
   ]
  },
  {
   "cell_type": "code",
   "execution_count": 3,
   "metadata": {
    "collapsed": false,
    "slideshow": {
     "slide_type": "subslide"
    }
   },
   "outputs": [
    {
     "data": {
      "text/plain": [
       "Index(['FID', 'IncidntNum', 'X_pr', 'Y_pr', 'Category', 'Descript',\n",
       "       'DayOfWeek', 'Date', 'Time', 'PdDistrict', 'Resolution', 'Location',\n",
       "       'X', 'Y', 'SHAPE'],\n",
       "      dtype='object')"
      ]
     },
     "execution_count": 3,
     "metadata": {},
     "output_type": "execute_result"
    }
   ],
   "source": [
    "sdf.columns"
   ]
  },
  {
   "cell_type": "code",
   "execution_count": 4,
   "metadata": {
    "collapsed": false,
    "slideshow": {
     "slide_type": "fragment"
    }
   },
   "outputs": [
    {
     "data": {
      "text/html": [
       "<div>\n",
       "<style scoped>\n",
       "    .dataframe tbody tr th:only-of-type {\n",
       "        vertical-align: middle;\n",
       "    }\n",
       "\n",
       "    .dataframe tbody tr th {\n",
       "        vertical-align: top;\n",
       "    }\n",
       "\n",
       "    .dataframe thead th {\n",
       "        text-align: right;\n",
       "    }\n",
       "</style>\n",
       "<table border=\"1\" class=\"dataframe\">\n",
       "  <thead>\n",
       "    <tr style=\"text-align: right;\">\n",
       "      <th></th>\n",
       "      <th>FID</th>\n",
       "      <th>IncidntNum</th>\n",
       "      <th>X_pr</th>\n",
       "      <th>Y_pr</th>\n",
       "      <th>Category</th>\n",
       "      <th>Descript</th>\n",
       "      <th>DayOfWeek</th>\n",
       "      <th>Date</th>\n",
       "      <th>Time</th>\n",
       "      <th>PdDistrict</th>\n",
       "      <th>Resolution</th>\n",
       "      <th>Location</th>\n",
       "      <th>X</th>\n",
       "      <th>Y</th>\n",
       "      <th>SHAPE</th>\n",
       "    </tr>\n",
       "  </thead>\n",
       "  <tbody>\n",
       "    <tr>\n",
       "      <th>0</th>\n",
       "      <td>0</td>\n",
       "      <td>120522283</td>\n",
       "      <td>5.983168e+06</td>\n",
       "      <td>2.090432e+06</td>\n",
       "      <td>VEHICLE THEFT</td>\n",
       "      <td>ATTEMPTED STOLEN VEHICLE</td>\n",
       "      <td>Monday</td>\n",
       "      <td>2012-07-02</td>\n",
       "      <td>1899-12-30</td>\n",
       "      <td>TARAVAL</td>\n",
       "      <td>NONE</td>\n",
       "      <td>SKYLINEBLVD HY / JOHNMUIR DR</td>\n",
       "      <td>-122.500220</td>\n",
       "      <td>37.718954</td>\n",
       "      <td>{'spatialReference': {'wkid': 4326, 'latestWki...</td>\n",
       "    </tr>\n",
       "    <tr>\n",
       "      <th>1</th>\n",
       "      <td>1</td>\n",
       "      <td>120520118</td>\n",
       "      <td>6.007012e+06</td>\n",
       "      <td>2.113804e+06</td>\n",
       "      <td>VEHICLE THEFT</td>\n",
       "      <td>STOLEN TRUCK</td>\n",
       "      <td>Sunday</td>\n",
       "      <td>2012-07-01</td>\n",
       "      <td>1899-12-30</td>\n",
       "      <td>NORTHERN</td>\n",
       "      <td>NONE</td>\n",
       "      <td>POLK ST / OLIVE ST</td>\n",
       "      <td>-122.419458</td>\n",
       "      <td>37.784499</td>\n",
       "      <td>{'spatialReference': {'wkid': 4326, 'latestWki...</td>\n",
       "    </tr>\n",
       "  </tbody>\n",
       "</table>\n",
       "</div>"
      ],
      "text/plain": [
       "   FID  IncidntNum          X_pr          Y_pr       Category  \\\n",
       "0    0   120522283  5.983168e+06  2.090432e+06  VEHICLE THEFT   \n",
       "1    1   120520118  6.007012e+06  2.113804e+06  VEHICLE THEFT   \n",
       "\n",
       "                   Descript DayOfWeek       Date       Time PdDistrict  \\\n",
       "0  ATTEMPTED STOLEN VEHICLE    Monday 2012-07-02 1899-12-30    TARAVAL   \n",
       "1              STOLEN TRUCK    Sunday 2012-07-01 1899-12-30   NORTHERN   \n",
       "\n",
       "  Resolution                      Location           X          Y  \\\n",
       "0       NONE  SKYLINEBLVD HY / JOHNMUIR DR -122.500220  37.718954   \n",
       "1       NONE            POLK ST / OLIVE ST -122.419458  37.784499   \n",
       "\n",
       "                                               SHAPE  \n",
       "0  {'spatialReference': {'wkid': 4326, 'latestWki...  \n",
       "1  {'spatialReference': {'wkid': 4326, 'latestWki...  "
      ]
     },
     "execution_count": 4,
     "metadata": {},
     "output_type": "execute_result"
    }
   ],
   "source": [
    "sdf.head(2)"
   ]
  },
  {
   "cell_type": "code",
   "execution_count": 5,
   "metadata": {
    "collapsed": false,
    "slideshow": {
     "slide_type": "subslide"
    }
   },
   "outputs": [
    {
     "data": {
      "text/plain": [
       "VEHICLE THEFT    3384\n",
       "Name: Category, dtype: int64"
      ]
     },
     "execution_count": 5,
     "metadata": {},
     "output_type": "execute_result"
    }
   ],
   "source": [
    "sdf['Category'].value_counts()"
   ]
  },
  {
   "cell_type": "markdown",
   "metadata": {
    "slideshow": {
     "slide_type": "subslide"
    }
   },
   "source": [
    "## Graph Attributes\n",
    "\n",
    "- Use the %matplotlib inline tag with ipython\n",
    "- Pandas and matplotlib support a wide varied of plotting"
   ]
  },
  {
   "cell_type": "markdown",
   "metadata": {
    "slideshow": {
     "slide_type": "fragment"
    }
   },
   "source": [
    "%matplotlib inline"
   ]
  },
  {
   "cell_type": "code",
   "execution_count": 6,
   "metadata": {
    "collapsed": false,
    "slideshow": {
     "slide_type": "subslide"
    }
   },
   "outputs": [
    {
     "data": {
      "text/plain": [
       "<matplotlib.axes._subplots.AxesSubplot at 0x207b214ff98>"
      ]
     },
     "execution_count": 6,
     "metadata": {},
     "output_type": "execute_result"
    }
   ],
   "source": [
    "sdf['DayOfWeek'].value_counts().plot('bar')"
   ]
  },
  {
   "cell_type": "code",
   "execution_count": 7,
   "metadata": {
    "collapsed": false,
    "slideshow": {
     "slide_type": "subslide"
    }
   },
   "outputs": [
    {
     "data": {
      "text/plain": [
       "<matplotlib.axes._subplots.AxesSubplot at 0x207b26c0630>"
      ]
     },
     "execution_count": 7,
     "metadata": {},
     "output_type": "execute_result"
    }
   ],
   "source": [
    "s = sdf['DayOfWeek'].value_counts().to_frame()\n",
    "s.reset_index(inplace=True, drop=False)\n",
    "s[u'quartiles'] = pd.qcut(\n",
    "   s[u'DayOfWeek'],3,labels=[u'0-33%', u'33-66%', u'66-100%'])\n",
    "s\n",
    "s.boxplot(column=u'DayOfWeek', by=u'quartiles')"
   ]
  },
  {
   "cell_type": "markdown",
   "metadata": {
    "slideshow": {
     "slide_type": "subslide"
    }
   },
   "source": [
    "## Plot The Data\n",
    "\n",
    "- Map SpatialDataFrame without publishing"
   ]
  },
  {
   "cell_type": "code",
   "execution_count": 8,
   "metadata": {
    "collapsed": false,
    "slideshow": {
     "slide_type": "subslide"
    }
   },
   "outputs": [],
   "source": [
    "from arcgis.gis import GIS\n",
    "m = GIS().map()\n",
    "m"
   ]
  },
  {
   "cell_type": "code",
   "execution_count": 9,
   "metadata": {
    "collapsed": false,
    "slideshow": {
     "slide_type": "fragment"
    }
   },
   "outputs": [],
   "source": [
    "blocks.plot(kind='map', map_widget=m)\n",
    "sdf.plot(kind='map', map_widget=m)"
   ]
  },
  {
   "cell_type": "markdown",
   "metadata": {
    "slideshow": {
     "slide_type": "slide"
    }
   },
   "source": [
    "## Dealing with Categorical Data\n",
    "\n",
    "- Cannot use text data in formulas\n",
    "- Need to convert the data to numeric values"
   ]
  },
  {
   "cell_type": "markdown",
   "metadata": {
    "slideshow": {
     "slide_type": "fragment"
    }
   },
   "source": [
    "## Use Sklearn!\n",
    "\n",
    "- get_dummies()"
   ]
  },
  {
   "cell_type": "markdown",
   "metadata": {
    "slideshow": {
     "slide_type": "subslide"
    }
   },
   "source": [
    "## Example: Using get_dummies()\n",
    "\n",
    "- creates boolean values 0/1\n",
    "- Column for each string in category"
   ]
  },
  {
   "cell_type": "code",
   "execution_count": 10,
   "metadata": {
    "collapsed": false,
    "slideshow": {
     "slide_type": "fragment"
    }
   },
   "outputs": [],
   "source": [
    "df = sdf.join(pd.get_dummies(sdf['DayOfWeek']))\n",
    "df = df.join(pd.get_dummies(sdf['PdDistrict']))\n",
    "df[['DayOfWeek', \"Monday\", 'Tuesday', 'Wednesday',\n",
    "    'Thursday', 'Friday', \"Saturday\", \"Sunday\"]].head()"
   ]
  },
  {
   "cell_type": "markdown",
   "metadata": {
    "slideshow": {
     "slide_type": "subslide"
    }
   },
   "source": [
    "## Spatial Joins\n",
    "\n",
    "- combine two sets of features based on spatial location\n",
    "- requires ArcPy (as a geomtry engine)"
   ]
  },
  {
   "cell_type": "code",
   "execution_count": 14,
   "metadata": {
    "collapsed": true
   },
   "outputs": [],
   "source": [
    "from arcgis.features._data.geodataset.tools import spatial_join\n",
    "sjoin = spatial_join(df1=df, df2=blocks)"
   ]
  },
  {
   "cell_type": "code",
   "execution_count": 16,
   "metadata": {
    "collapsed": false
   },
   "outputs": [
    {
     "data": {
      "text/plain": [
       "Index(['TARGET_OID', 'JOIN_OID', 'FID_left', 'IncidntNum', 'X_pr', 'Y_pr',\n",
       "       'Category', 'Descript', 'DayOfWeek', 'Date', 'Time', 'PdDistrict',\n",
       "       'Resolution', 'Location', 'X', 'Y', 'SHAPE', 'Friday', 'Monday',\n",
       "       'Saturday', 'Sunday', 'Thursday', 'Tuesday', 'Wednesday', 'BAYVIEW',\n",
       "       'CENTRAL', 'INGLESIDE', 'MISSION', 'NORTHERN', 'PARK', 'RICHMOND',\n",
       "       'SOUTHERN', 'TARAVAL', 'TENDERLOIN', 'FID_right', 'GEO_ID', 'STATE',\n",
       "       'COUNTY', 'TRACT', 'BLKGRP', 'NAME', 'LSAD', 'CENSUSAREA', 'Population',\n",
       "       'GEO_id2', 'GEO_displa', 'Vandalism', 'Robbery', 'Drugs', 'CarTheft'],\n",
       "      dtype='object')"
      ]
     },
     "execution_count": 16,
     "metadata": {},
     "output_type": "execute_result"
    }
   ],
   "source": [
    "sjoin.columns"
   ]
  },
  {
   "cell_type": "code",
   "execution_count": 26,
   "metadata": {
    "collapsed": false,
    "slideshow": {
     "slide_type": "subslide"
    }
   },
   "outputs": [
    {
     "data": {
      "text/plain": [
       "BLKGRP    2\n",
       "Name: 10, dtype: object"
      ]
     },
     "execution_count": 26,
     "metadata": {},
     "output_type": "execute_result"
    }
   ],
   "source": [
    "sjoin.reset_index(drop=True, inplace=True)\n",
    "sjoin.loc[10, ['BLKGRP']]"
   ]
  },
  {
   "cell_type": "markdown",
   "metadata": {
    "slideshow": {
     "slide_type": "slide"
    }
   },
   "source": [
    "## general set of guidelines for spatial regression models\n",
    "\n",
    "1. Build adjacency matrix and define criteria of defining links between geographic units\n",
    "2. Assign weights to these links\n",
    "3. Exploratory analysis - examine relationships and measure spatial autocorrelation\n",
    "4. Run OLS regression and use that to inform the type of spatial regression that will be used\n",
    "5. Run spatial regression"
   ]
  },
  {
   "cell_type": "markdown",
   "metadata": {
    "slideshow": {
     "slide_type": "subslide"
    }
   },
   "source": [
    "### Build Weights (w)"
   ]
  },
  {
   "cell_type": "markdown",
   "metadata": {
    "slideshow": {
     "slide_type": "fragment"
    }
   },
   "source": [
    "- expresses the potential for interaction between observations at each pair i,j of locations"
   ]
  },
  {
   "cell_type": "markdown",
   "metadata": {
    "slideshow": {
     "slide_type": "fragment"
    }
   },
   "source": [
    "#### Three types:\n",
    "\n",
    "1. Contiguity Based Weights\n",
    "2. Distance Based Weights\n",
    "3. Kernel Weights"
   ]
  },
  {
   "cell_type": "code",
   "execution_count": 28,
   "metadata": {
    "collapsed": true,
    "slideshow": {
     "slide_type": "skip"
    }
   },
   "outputs": [],
   "source": [
    "import pysal as ps"
   ]
  },
  {
   "cell_type": "code",
   "execution_count": 32,
   "metadata": {
    "collapsed": false,
    "slideshow": {
     "slide_type": "subslide"
    }
   },
   "outputs": [
    {
     "name": "stderr",
     "output_type": "stream",
     "text": [
      "C:\\Program Files\\ArcGIS\\Pro\\bin\\Python\\envs\\arcgispro-py3\\lib\\site-packages\\pysal\\weights\\weights.py:189: UserWarning: There are 2 disconnected observations\n",
      "  warnings.warn(\"There are %d disconnected observations\" % ni)\n",
      "C:\\Program Files\\ArcGIS\\Pro\\bin\\Python\\envs\\arcgispro-py3\\lib\\site-packages\\pysal\\weights\\weights.py:190: UserWarning: Island ids: 1500000US060750601001, 1500000US060750179021\n",
      "  warnings.warn(\"Island ids: %s\" % ', '.join(str(island) for island in self.islands))\n"
     ]
    }
   ],
   "source": [
    "ook_w = ps.rook_from_shapefile((r\"./data\\SFCrimeJuly2012\\Crime Events/SFCrime_blocks.shp\"), 'GEO_ID')\n",
    "queen_w = ps.queen_from_shapefile((r\"./data\\SFCrimeJuly2012\\Crime Events/SFCrime_blocks.shp\"), 'GEO_ID')"
   ]
  },
  {
   "cell_type": "code",
   "execution_count": 39,
   "metadata": {
    "collapsed": true,
    "slideshow": {
     "slide_type": "subslide"
    }
   },
   "outputs": [],
   "source": [
    "m2 = GIS().map()\n",
    "m2"
   ]
  },
  {
   "cell_type": "code",
   "execution_count": 51,
   "metadata": {
    "collapsed": false,
    "slideshow": {
     "slide_type": "fragment"
    }
   },
   "outputs": [
    {
     "name": "stderr",
     "output_type": "stream",
     "text": [
      "C:\\Program Files\\ArcGIS\\Pro\\bin\\Python\\envs\\arcgispro-py3\\lib\\site-packages\\pysal\\weights\\weights.py:189: UserWarning: There are 2 disconnected observations\n",
      "  warnings.warn(\"There are %d disconnected observations\" % ni)\n",
      "C:\\Program Files\\ArcGIS\\Pro\\bin\\Python\\envs\\arcgispro-py3\\lib\\site-packages\\pysal\\weights\\weights.py:190: UserWarning: Island ids: 242, 303\n",
      "  warnings.warn(\"Island ids: %s\" % ', '.join(str(island) for island in self.islands))\n"
     ]
    }
   ],
   "source": [
    "queen_w.neighbors[0]\n",
    "queen_w = ps.weights.Queen.from_dataframe(blocks, geom_col='SHAPE')\n",
    "blocks.iloc[queen_w.neighbors[1]].plot(kind='map', map_widget=m2)"
   ]
  },
  {
   "cell_type": "markdown",
   "metadata": {
    "slideshow": {
     "slide_type": "subslide"
    }
   },
   "source": [
    "### Identifying Unusual Block Groups Based on Neighbor Counts"
   ]
  },
  {
   "cell_type": "code",
   "execution_count": 66,
   "metadata": {
    "collapsed": false,
    "slideshow": {
     "slide_type": "fragment"
    }
   },
   "outputs": [
    {
     "data": {
      "text/plain": [
       "<matplotlib.axes._subplots.AxesSubplot at 0x207bcef3390>"
      ]
     },
     "execution_count": 66,
     "metadata": {},
     "output_type": "execute_result"
    },
    {
     "data": {
      "image/png": "[encoded data removed]",
      "text/plain": [
       "<matplotlib.figure.Figure at 0x207bce39a20>"
      ]
     },
     "metadata": {},
     "output_type": "display_data"
    }
   ],
   "source": [
    "%matplotlib inline\n",
    "import seaborn as sns\n",
    "import matplotlib.pyplot as plt\n",
    "queen_card = pd.Series(queen_w.cardinalities)\n",
    "sns.distplot(queen_card, bins=25)"
   ]
  },
  {
   "cell_type": "markdown",
   "metadata": {
    "slideshow": {
     "slide_type": "fragment"
    }
   },
   "source": [
    "**There are some island geometries**"
   ]
  },
  {
   "cell_type": "code",
   "execution_count": null,
   "metadata": {
    "collapsed": true
   },
   "outputs": [],
   "source": []
  },
  {
   "cell_type": "code",
   "execution_count": null,
   "metadata": {
    "collapsed": true
   },
   "outputs": [],
   "source": []
  },
  {
   "cell_type": "code",
   "execution_count": null,
   "metadata": {
    "collapsed": true
   },
   "outputs": [],
   "source": []
  },
  {
   "cell_type": "code",
   "execution_count": null,
   "metadata": {
    "collapsed": true
   },
   "outputs": [],
   "source": []
  },
  {
   "cell_type": "code",
   "execution_count": null,
   "metadata": {
    "collapsed": true
   },
   "outputs": [],
   "source": []
  },
  {
   "cell_type": "code",
   "execution_count": null,
   "metadata": {
    "collapsed": true
   },
   "outputs": [],
   "source": []
  },
  {
   "cell_type": "code",
   "execution_count": null,
   "metadata": {
    "collapsed": true
   },
   "outputs": [],
   "source": []
  }
 ],
 "metadata": {
  "celltoolbar": "Slideshow",
  "kernelspec": {
   "display_name": "Python 3",
   "language": "python",
   "name": "python3"
  },
  "language_info": {
   "codemirror_mode": {
    "name": "ipython",
    "version": 3
   },
   "file_extension": ".py",
   "mimetype": "text/x-python",
   "name": "python",
   "nbconvert_exporter": "python",
   "pygments_lexer": "ipython3",
   "version": "3.5.4"
  },
  "widgets": {
   "state": {
    "4956cebd63744f758d845d1dd0699480": {
     "views": [
      {
       "cell_index": 16
      }
     ]
    },
    "8aed4df2a7a343d7b1775d8cd0ac5125": {
     "views": [
      {
       "cell_index": 32
      }
     ]
    }
   },
   "version": "1.2.0"
  }
 },
 "nbformat": 4,
 "nbformat_minor": 2
}
