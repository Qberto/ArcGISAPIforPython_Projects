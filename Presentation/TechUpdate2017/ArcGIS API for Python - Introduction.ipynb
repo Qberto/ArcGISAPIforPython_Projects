{
 "cells": [
  {
   "cell_type": "markdown",
   "metadata": {
    "slideshow": {
     "slide_type": "slide"
    }
   },
   "source": [
    "\n",
    " \n",
    "# <span style=\"color:purple\">ArcGIS API for Python</span>\n",
    "\n",
    "<img src=\"img/python.png\"></img>\n",
    "\n",
    "## Scripting your WebGIS"
   ]
  },
  {
   "cell_type": "code",
   "execution_count": null,
   "metadata": {
    "collapsed": true
   },
   "outputs": [],
   "source": []
  },
  {
   "cell_type": "markdown",
   "metadata": {
    "slideshow": {
     "slide_type": "subslide"
    }
   },
   "source": [
    "### What does the typical GIS team member look like?"
   ]
  },
  {
   "cell_type": "markdown",
   "metadata": {
    "slideshow": {
     "slide_type": "subslide"
    }
   },
   "source": [
    "### Do they look something like this?"
   ]
  },
  {
   "cell_type": "markdown",
   "metadata": {
    "slideshow": {
     "slide_type": "fragment"
    }
   },
   "source": [
    "<img src=\"img/ManyHats.jpg\">"
   ]
  },
  {
   "cell_type": "markdown",
   "metadata": {
    "slideshow": {
     "slide_type": "subslide"
    }
   },
   "source": [
    "### Do they act something like this?\n",
    "\n",
    "<img src=\"img/fires.gif\" align=\"center\">\n",
    "<img src=\"img/exting.gif\" align=\"center\">"
   ]
  },
  {
   "cell_type": "markdown",
   "metadata": {
    "slideshow": {
     "slide_type": "subslide"
    }
   },
   "source": [
    "### Fear not, we have a new capability on our hands..."
   ]
  },
  {
   "cell_type": "markdown",
   "metadata": {
    "slideshow": {
     "slide_type": "subslide"
    }
   },
   "source": [
    "## The <span style=\"color:purple\">ArcGIS API for Python</span> is an exciting new way to interact with a distributed GIS.\n",
    "\n",
    "<img src=\"img/python.png\"></img>\n",
    "\n",
    "## It has the tremendous potential to help every member of an organization's GIS team by introducing automation, adding capabilities, and expanding on what is possible."
   ]
  },
  {
   "cell_type": "markdown",
   "metadata": {
    "slideshow": {
     "slide_type": "subslide"
    }
   },
   "source": [
    "#### If you are a <span style=\"color:blue\">GIS Administrator</span>, you can use the API to automate tasks relating to management of users, groups, and items. Free yourself of monotonous activities."
   ]
  },
  {
   "cell_type": "markdown",
   "metadata": {
    "slideshow": {
     "slide_type": "fragment"
    }
   },
   "source": [
    "#### If you are a <span style=\"color:green\">GIS Content Publisher</span>, you can use the API to set up processes that will automatically publish mass content or easily move content from one Portal to another. Make your content part of a reliable and frequently updated process."
   ]
  },
  {
   "cell_type": "markdown",
   "metadata": {
    "slideshow": {
     "slide_type": "fragment"
    }
   },
   "source": [
    "#### If you are a <span style=\"color:red\">GIS Analyst</span>, you can leverage the API's use of Python and its powerful data analysis libraries. Enrich your analysis with Python's suite of data science capabilities."
   ]
  },
  {
   "cell_type": "markdown",
   "metadata": {
    "slideshow": {
     "slide_type": "fragment"
    }
   },
   "source": [
    "#### If you are a <span style=\"color:Purple\">Developer</span>, you can build dashboards and Jupyter Notebook extensions to customize the capabilities of the API and the tools. Stand up a simple but useful application in minutes."
   ]
  },
  {
   "cell_type": "markdown",
   "metadata": {
    "slideshow": {
     "slide_type": "fragment"
    }
   },
   "source": [
    "#### If you don't even use GIS but you are a <span style=\"color:maroon\">Data Scientist</span> , you can now connect to a GIS and use spatial capabilities to enrich and extend your analysis. See what all this \"GIS\" buzz is about."
   ]
  },
  {
   "cell_type": "markdown",
   "metadata": {
    "slideshow": {
     "slide_type": "slide"
    }
   },
   "source": [
    "### Before we take a look at specific examples, let's align on terminology...\n",
    "\n",
    "## <span style=\"color: green\">Python</span>     |     <span style=\"color: Blue\">Jupyter Notebook</span>     |     <span style=\"color:purple\">ArcGIS API for Python</span>"
   ]
  },
  {
   "cell_type": "markdown",
   "metadata": {
    "slideshow": {
     "slide_type": "subslide"
    }
   },
   "source": [
    "# <span style=\"color:green\">Python</span> \n",
    "\n",
    "#### ~~A family of nonvenomous snakes found in Africa, Asia, and Australia.~~\n",
    "#### A beautiful programming language that emphasizes readibility."
   ]
  },
  {
   "cell_type": "code",
   "execution_count": null,
   "metadata": {
    "collapsed": true,
    "scrolled": true,
    "slideshow": {
     "slide_type": "fragment"
    }
   },
   "outputs": [],
   "source": [
    "import this"
   ]
  },
  {
   "cell_type": "markdown",
   "metadata": {
    "slideshow": {
     "slide_type": "subslide"
    }
   },
   "source": [
    "# <span style=\"color:green\">Python</span> "
   ]
  },
  {
   "cell_type": "markdown",
   "metadata": {
    "slideshow": {
     "slide_type": "-"
    }
   },
   "source": [
    "#### Widely adopted in the GIS community."
   ]
  },
  {
   "cell_type": "markdown",
   "metadata": {
    "slideshow": {
     "slide_type": "-"
    }
   },
   "source": [
    "#### Widely adopted in the Data Science community."
   ]
  },
  {
   "cell_type": "markdown",
   "metadata": {
    "slideshow": {
     "slide_type": "-"
    }
   },
   "source": [
    "#### Widely adopted in the Development community."
   ]
  },
  {
   "cell_type": "markdown",
   "metadata": {
    "slideshow": {
     "slide_type": "-"
    }
   },
   "source": [
    "### Widely adopted everywhere!"
   ]
  },
  {
   "cell_type": "markdown",
   "metadata": {
    "slideshow": {
     "slide_type": "subslide"
    }
   },
   "source": [
    "# <span style=\"color: Blue\">Jupyter Notebook</span>"
   ]
  },
  {
   "cell_type": "markdown",
   "metadata": {
    "slideshow": {
     "slide_type": "fragment"
    }
   },
   "source": [
    "#### Allows Python users to create and share documents containing Live Code in \"cells\":"
   ]
  },
  {
   "cell_type": "code",
   "execution_count": 2,
   "metadata": {},
   "outputs": [
    {
     "name": "stdout",
     "output_type": "stream",
     "text": [
      "Hello FedGIS.\n"
     ]
    }
   ],
   "source": [
    "print(\"Hello FedGIS.\")"
   ]
  },
  {
   "cell_type": "markdown",
   "metadata": {
    "slideshow": {
     "slide_type": "subslide"
    }
   },
   "source": [
    "# <span style=\"color: Blue\">Jupyter Notebook</span>"
   ]
  },
  {
   "cell_type": "markdown",
   "metadata": {
    "slideshow": {
     "slide_type": "-"
    }
   },
   "source": [
    "#### Cells have all the capabilities of an executable command interface..."
   ]
  },
  {
   "cell_type": "code",
   "execution_count": 3,
   "metadata": {
    "collapsed": true,
    "slideshow": {
     "slide_type": "-"
    }
   },
   "outputs": [],
   "source": [
    "def chicken_function():\n",
    "    return egg_function()\n",
    "\n",
    "def egg_function():\n",
    "    return chicken_function()"
   ]
  },
  {
   "cell_type": "code",
   "execution_count": 4,
   "metadata": {
    "scrolled": true
   },
   "outputs": [
    {
     "ename": "RecursionError",
     "evalue": "maximum recursion depth exceeded",
     "output_type": "error",
     "traceback": [
      "\u001b[1;31m---------------------------------------------------------------------------\u001b[0m",
      "\u001b[1;31mRecursionError\u001b[0m                            Traceback (most recent call last)",
      "\u001b[1;32m<ipython-input-4-0305f3f224c9>\u001b[0m in \u001b[0;36m<module>\u001b[1;34m()\u001b[0m\n\u001b[1;32m----> 1\u001b[1;33m \u001b[0mchicken_function\u001b[0m\u001b[1;33m(\u001b[0m\u001b[1;33m)\u001b[0m\u001b[1;33m\u001b[0m\u001b[0m\n\u001b[0m",
      "\u001b[1;32m<ipython-input-3-a89345d36248>\u001b[0m in \u001b[0;36mchicken_function\u001b[1;34m()\u001b[0m\n\u001b[0;32m      1\u001b[0m \u001b[1;32mdef\u001b[0m \u001b[0mchicken_function\u001b[0m\u001b[1;33m(\u001b[0m\u001b[1;33m)\u001b[0m\u001b[1;33m:\u001b[0m\u001b[1;33m\u001b[0m\u001b[0m\n\u001b[1;32m----> 2\u001b[1;33m     \u001b[1;32mreturn\u001b[0m \u001b[0megg_function\u001b[0m\u001b[1;33m(\u001b[0m\u001b[1;33m)\u001b[0m\u001b[1;33m\u001b[0m\u001b[0m\n\u001b[0m\u001b[0;32m      3\u001b[0m \u001b[1;33m\u001b[0m\u001b[0m\n\u001b[0;32m      4\u001b[0m \u001b[1;32mdef\u001b[0m \u001b[0megg_function\u001b[0m\u001b[1;33m(\u001b[0m\u001b[1;33m)\u001b[0m\u001b[1;33m:\u001b[0m\u001b[1;33m\u001b[0m\u001b[0m\n\u001b[0;32m      5\u001b[0m     \u001b[1;32mreturn\u001b[0m \u001b[0mchicken_function\u001b[0m\u001b[1;33m(\u001b[0m\u001b[1;33m)\u001b[0m\u001b[1;33m\u001b[0m\u001b[0m\n",
      "\u001b[1;32m<ipython-input-3-a89345d36248>\u001b[0m in \u001b[0;36megg_function\u001b[1;34m()\u001b[0m\n\u001b[0;32m      3\u001b[0m \u001b[1;33m\u001b[0m\u001b[0m\n\u001b[0;32m      4\u001b[0m \u001b[1;32mdef\u001b[0m \u001b[0megg_function\u001b[0m\u001b[1;33m(\u001b[0m\u001b[1;33m)\u001b[0m\u001b[1;33m:\u001b[0m\u001b[1;33m\u001b[0m\u001b[0m\n\u001b[1;32m----> 5\u001b[1;33m     \u001b[1;32mreturn\u001b[0m \u001b[0mchicken_function\u001b[0m\u001b[1;33m(\u001b[0m\u001b[1;33m)\u001b[0m\u001b[1;33m\u001b[0m\u001b[0m\n\u001b[0m",
      "... last 2 frames repeated, from the frame below ...\n",
      "\u001b[1;32m<ipython-input-3-a89345d36248>\u001b[0m in \u001b[0;36mchicken_function\u001b[1;34m()\u001b[0m\n\u001b[0;32m      1\u001b[0m \u001b[1;32mdef\u001b[0m \u001b[0mchicken_function\u001b[0m\u001b[1;33m(\u001b[0m\u001b[1;33m)\u001b[0m\u001b[1;33m:\u001b[0m\u001b[1;33m\u001b[0m\u001b[0m\n\u001b[1;32m----> 2\u001b[1;33m     \u001b[1;32mreturn\u001b[0m \u001b[0megg_function\u001b[0m\u001b[1;33m(\u001b[0m\u001b[1;33m)\u001b[0m\u001b[1;33m\u001b[0m\u001b[0m\n\u001b[0m\u001b[0;32m      3\u001b[0m \u001b[1;33m\u001b[0m\u001b[0m\n\u001b[0;32m      4\u001b[0m \u001b[1;32mdef\u001b[0m \u001b[0megg_function\u001b[0m\u001b[1;33m(\u001b[0m\u001b[1;33m)\u001b[0m\u001b[1;33m:\u001b[0m\u001b[1;33m\u001b[0m\u001b[0m\n\u001b[0;32m      5\u001b[0m     \u001b[1;32mreturn\u001b[0m \u001b[0mchicken_function\u001b[0m\u001b[1;33m(\u001b[0m\u001b[1;33m)\u001b[0m\u001b[1;33m\u001b[0m\u001b[0m\n",
      "\u001b[1;31mRecursionError\u001b[0m: maximum recursion depth exceeded"
     ]
    }
   ],
   "source": [
    "chicken_function()"
   ]
  },
  {
   "cell_type": "markdown",
   "metadata": {
    "slideshow": {
     "slide_type": "fragment"
    }
   },
   "source": [
    "<img src=\"img/mind_blown.gif\">"
   ]
  },
  {
   "cell_type": "markdown",
   "metadata": {
    "slideshow": {
     "slide_type": "subslide"
    }
   },
   "source": [
    "# <span style=\"color: Blue\">Jupyter Notebook</span>"
   ]
  },
  {
   "cell_type": "markdown",
   "metadata": {
    "slideshow": {
     "slide_type": "-"
    }
   },
   "source": [
    "#### Cells have all the capabilities of an executable command interface..."
   ]
  },
  {
   "cell_type": "code",
   "execution_count": 1,
   "metadata": {
    "collapsed": true,
    "slideshow": {
     "slide_type": "skip"
    }
   },
   "outputs": [],
   "source": [
    "import time\n",
    "def return_best_university(all_universities=None):\n",
    "    print(\"Processing University data...\")\n",
    "    \n",
    "    time.sleep(1)\n",
    "    print(\"...\")\n",
    "    \n",
    "    time.sleep(2)\n",
    "       \n",
    "    print(\"Found corrupt records in data... [Florida State University, University of Georgia]. Cleaning garbage records...\")\n",
    "    \n",
    "    time.sleep(2)\n",
    "    \n",
    "    print(\"Data cleaned. Now performing analysis...\")\n",
    "    \n",
    "    time.sleep(1)\n",
    "    print(\"...\")\n",
    "    time.sleep(1)\n",
    "    print(\"...\")\n",
    "    time.sleep(1)\n",
    "    print(\"...\")\n",
    "    \n",
    "    time.sleep(1)\n",
    "    print(\"Determining final rankings on all possible variables...\")\n",
    "    \n",
    "    time.sleep(2)\n",
    "    \n",
    "    print(\"Solution found...\")\n",
    "    \n",
    "    print(\"Solution: University of Florida\")\n",
    "    return(\"University of Florida\")"
   ]
  },
  {
   "cell_type": "code",
   "execution_count": 5,
   "metadata": {
    "slideshow": {
     "slide_type": "fragment"
    }
   },
   "outputs": [
    {
     "name": "stdout",
     "output_type": "stream",
     "text": [
      "Processing University data...\n",
      "...\n",
      "Found corrupt records in data... [Florida State University, University of Georgia]. Cleaning garbage records...\n",
      "Data cleaned. Now performing analysis...\n",
      "...\n",
      "...\n",
      "...\n",
      "Determining final rankings on all possible variables...\n",
      "Solution found...\n",
      "Solution: University of Florida\n"
     ]
    },
    {
     "data": {
      "text/plain": [
       "'University of Florida'"
      ]
     },
     "execution_count": 5,
     "metadata": {},
     "output_type": "execute_result"
    }
   ],
   "source": [
    "# This function contains extensive analysis of academic rankings and overall good taste\n",
    "return_best_university()"
   ]
  },
  {
   "cell_type": "markdown",
   "metadata": {
    "slideshow": {
     "slide_type": "subslide"
    }
   },
   "source": [
    "# <span style=\"color: Blue\">Jupyter Notebook</span>"
   ]
  },
  {
   "cell_type": "markdown",
   "metadata": {
    "slideshow": {
     "slide_type": "-"
    }
   },
   "source": [
    "#### Allows Python users to create and share documents containing explanatory text & documentation"
   ]
  },
  {
   "cell_type": "markdown",
   "metadata": {
    "slideshow": {
     "slide_type": "fragment"
    }
   },
   "source": [
    "### In fact... this whole presentation was written on a Jupyter Notebook!"
   ]
  },
  {
   "cell_type": "markdown",
   "metadata": {
    "slideshow": {
     "slide_type": "subslide"
    }
   },
   "source": [
    "# <span style=\"color: Blue\">Jupyter Notebook</span>"
   ]
  },
  {
   "cell_type": "markdown",
   "metadata": {
    "slideshow": {
     "slide_type": "-"
    }
   },
   "source": [
    "#### Allows Python users to create and share documents containing visualizations"
   ]
  },
  {
   "cell_type": "code",
   "execution_count": 6,
   "metadata": {
    "slideshow": {
     "slide_type": "fragment"
    }
   },
   "outputs": [
    {
     "data": {
      "text/html": [
       "<div>\n",
       "<style>\n",
       "    .dataframe thead tr:only-child th {\n",
       "        text-align: right;\n",
       "    }\n",
       "\n",
       "    .dataframe thead th {\n",
       "        text-align: left;\n",
       "    }\n",
       "\n",
       "    .dataframe tbody tr th {\n",
       "        vertical-align: top;\n",
       "    }\n",
       "</style>\n",
       "<table border=\"1\" class=\"dataframe\">\n",
       "  <thead>\n",
       "    <tr style=\"text-align: right;\">\n",
       "      <th></th>\n",
       "      <th>A</th>\n",
       "      <th>B</th>\n",
       "      <th>C</th>\n",
       "      <th>D</th>\n",
       "      <th>E</th>\n",
       "      <th>F</th>\n",
       "      <th>G</th>\n",
       "      <th>H</th>\n",
       "      <th>I</th>\n",
       "      <th>J</th>\n",
       "    </tr>\n",
       "  </thead>\n",
       "  <tbody>\n",
       "    <tr>\n",
       "      <th>2013-01-01</th>\n",
       "      <td>-0.907160</td>\n",
       "      <td>0.598891</td>\n",
       "      <td>0.268379</td>\n",
       "      <td>-1.357367</td>\n",
       "      <td>1.124579</td>\n",
       "      <td>0.959147</td>\n",
       "      <td>0.361779</td>\n",
       "      <td>-1.078645</td>\n",
       "      <td>-0.096731</td>\n",
       "      <td>1.745391</td>\n",
       "    </tr>\n",
       "    <tr>\n",
       "      <th>2013-01-02</th>\n",
       "      <td>-0.606378</td>\n",
       "      <td>1.455470</td>\n",
       "      <td>0.087775</td>\n",
       "      <td>2.767302</td>\n",
       "      <td>-0.430668</td>\n",
       "      <td>-1.573610</td>\n",
       "      <td>1.319416</td>\n",
       "      <td>1.423569</td>\n",
       "      <td>0.678898</td>\n",
       "      <td>0.229158</td>\n",
       "    </tr>\n",
       "    <tr>\n",
       "      <th>2013-01-03</th>\n",
       "      <td>3.086340</td>\n",
       "      <td>1.664543</td>\n",
       "      <td>1.229672</td>\n",
       "      <td>1.429835</td>\n",
       "      <td>0.550282</td>\n",
       "      <td>1.091653</td>\n",
       "      <td>-0.152071</td>\n",
       "      <td>2.173504</td>\n",
       "      <td>0.483070</td>\n",
       "      <td>1.033235</td>\n",
       "    </tr>\n",
       "    <tr>\n",
       "      <th>2013-01-04</th>\n",
       "      <td>-3.755005</td>\n",
       "      <td>-0.085720</td>\n",
       "      <td>1.925352</td>\n",
       "      <td>0.059352</td>\n",
       "      <td>-1.309952</td>\n",
       "      <td>0.878401</td>\n",
       "      <td>0.434963</td>\n",
       "      <td>-0.746970</td>\n",
       "      <td>-0.463736</td>\n",
       "      <td>-1.429708</td>\n",
       "    </tr>\n",
       "    <tr>\n",
       "      <th>2013-01-05</th>\n",
       "      <td>0.073519</td>\n",
       "      <td>-1.016756</td>\n",
       "      <td>0.142583</td>\n",
       "      <td>-0.100056</td>\n",
       "      <td>0.096224</td>\n",
       "      <td>0.596006</td>\n",
       "      <td>-1.922145</td>\n",
       "      <td>-0.682998</td>\n",
       "      <td>-0.228656</td>\n",
       "      <td>0.607453</td>\n",
       "    </tr>\n",
       "    <tr>\n",
       "      <th>2013-01-06</th>\n",
       "      <td>-0.734188</td>\n",
       "      <td>-1.372607</td>\n",
       "      <td>0.390529</td>\n",
       "      <td>1.501349</td>\n",
       "      <td>-0.097851</td>\n",
       "      <td>-2.474915</td>\n",
       "      <td>0.679706</td>\n",
       "      <td>0.587010</td>\n",
       "      <td>1.907216</td>\n",
       "      <td>0.113748</td>\n",
       "    </tr>\n",
       "  </tbody>\n",
       "</table>\n",
       "</div>"
      ],
      "text/plain": [
       "                   A         B         C         D         E         F  \\\n",
       "2013-01-01 -0.907160  0.598891  0.268379 -1.357367  1.124579  0.959147   \n",
       "2013-01-02 -0.606378  1.455470  0.087775  2.767302 -0.430668 -1.573610   \n",
       "2013-01-03  3.086340  1.664543  1.229672  1.429835  0.550282  1.091653   \n",
       "2013-01-04 -3.755005 -0.085720  1.925352  0.059352 -1.309952  0.878401   \n",
       "2013-01-05  0.073519 -1.016756  0.142583 -0.100056  0.096224  0.596006   \n",
       "2013-01-06 -0.734188 -1.372607  0.390529  1.501349 -0.097851 -2.474915   \n",
       "\n",
       "                   G         H         I         J  \n",
       "2013-01-01  0.361779 -1.078645 -0.096731  1.745391  \n",
       "2013-01-02  1.319416  1.423569  0.678898  0.229158  \n",
       "2013-01-03 -0.152071  2.173504  0.483070  1.033235  \n",
       "2013-01-04  0.434963 -0.746970 -0.463736 -1.429708  \n",
       "2013-01-05 -1.922145 -0.682998 -0.228656  0.607453  \n",
       "2013-01-06  0.679706  0.587010  1.907216  0.113748  "
      ]
     },
     "execution_count": 6,
     "metadata": {},
     "output_type": "execute_result"
    }
   ],
   "source": [
    "import pandas as pd\n",
    "import numpy as np\n",
    "\n",
    "dates = pd.date_range('20130101', periods=6)\n",
    "dates\n",
    "\n",
    "df = pd.DataFrame(np.random.randn(6,10), index=dates, columns=list('ABCDEFGHIJ'))\n",
    "df"
   ]
  },
  {
   "cell_type": "markdown",
   "metadata": {
    "slideshow": {
     "slide_type": "subslide"
    }
   },
   "source": [
    "# <span style=\"color: Blue\">Jupyter Notebook</span>"
   ]
  },
  {
   "cell_type": "markdown",
   "metadata": {
    "slideshow": {
     "slide_type": "-"
    }
   },
   "source": [
    "#### Allows Python users to create and share documents containing visualizations"
   ]
  },
  {
   "cell_type": "code",
   "execution_count": 7,
   "metadata": {},
   "outputs": [
    {
     "data": {
      "application/vnd.jupyter.widget-view+json": {
       "model_id": "21093aea254e4e76a19ee654d3d6d3ac"
      }
     },
     "metadata": {},
     "output_type": "display_data"
    }
   ],
   "source": [
    "from arcgis.gis import GIS\n",
    "my_gis = GIS()\n",
    "my_gis.map()"
   ]
  },
  {
   "cell_type": "markdown",
   "metadata": {
    "slideshow": {
     "slide_type": "subslide"
    }
   },
   "source": [
    "# <span style=\"color:purple\">ArcGIS API for Python</span>"
   ]
  },
  {
   "cell_type": "markdown",
   "metadata": {},
   "source": [
    "<img src=\"img/APIUsers.PNG\" style=\"width:75%\">"
   ]
  },
  {
   "cell_type": "markdown",
   "metadata": {},
   "source": [
    "An API for your Web GIS."
   ]
  }
 ],
 "metadata": {
  "celltoolbar": "Slideshow",
  "kernelspec": {
   "display_name": "Python 3",
   "language": "python",
   "name": "python3"
  },
  "language_info": {
   "codemirror_mode": {
    "name": "ipython",
    "version": 3
   },
   "file_extension": ".py",
   "mimetype": "text/x-python",
   "name": "python",
   "nbconvert_exporter": "python",
   "pygments_lexer": "ipython3",
   "version": "3.6.1"
  }
 },
 "nbformat": 4,
 "nbformat_minor": 2
}
