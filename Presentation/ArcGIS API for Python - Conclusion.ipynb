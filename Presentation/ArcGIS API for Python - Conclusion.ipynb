{
 "cells": [
  {
   "cell_type": "markdown",
   "metadata": {
    "slideshow": {
     "slide_type": "slide"
    }
   },
   "source": [
    "## <span style=\"color:purple\">ArcGIS API for Python</span>\n",
    "\n",
    "<img src=\"img/python.png\"></img>\n",
    "\n",
    "## In summary..."
   ]
  },
  {
   "cell_type": "markdown",
   "metadata": {
    "slideshow": {
     "slide_type": "slide"
    }
   },
   "source": [
    "### We recognize that being in the world of GIS involves wearing many hats and putting out many fires. \n",
    "\n",
    "<img src=\"img/putting_out_fires.gif\">\n",
    "<img src=\"img/kitchen-fire.gif\">"
   ]
  },
  {
   "cell_type": "markdown",
   "metadata": {
    "slideshow": {
     "slide_type": "slide"
    }
   },
   "source": [
    "## The <span style=\"color:purple\">ArcGIS API for Python</span> is the perfect way to start interacting with, managing, and fulfilling the potential of your distributed GIS.\n",
    "\n",
    "<img src=\"img/python.png\"></img>\n",
    "\n",
    "## Regardless of your role in the organization, there is a workflow where the API can assist. "
   ]
  },
  {
   "cell_type": "markdown",
   "metadata": {
    "slideshow": {
     "slide_type": "slide"
    }
   },
   "source": [
    "<img src=\"img/Users_05_Developer.PNG\">"
   ]
  }
 ],
 "metadata": {
  "celltoolbar": "Slideshow",
  "kernelspec": {
   "display_name": "Python 3",
   "language": "python",
   "name": "python3"
  },
  "language_info": {
   "codemirror_mode": {
    "name": "ipython",
    "version": 3
   },
   "file_extension": ".py",
   "mimetype": "text/x-python",
   "name": "python",
   "nbconvert_exporter": "python",
   "pygments_lexer": "ipython3",
   "version": "3.6.1"
  }
 },
 "nbformat": 4,
 "nbformat_minor": 2
}
