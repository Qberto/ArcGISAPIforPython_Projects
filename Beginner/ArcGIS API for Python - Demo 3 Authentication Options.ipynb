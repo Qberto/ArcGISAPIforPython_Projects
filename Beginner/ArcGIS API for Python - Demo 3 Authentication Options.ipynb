{
 "cells": [
  {
   "cell_type": "markdown",
   "metadata": {},
   "source": [
    "## <span style=\"color:purple\">ArcGIS API for Python</span>\n",
    "\n",
    "<img src=\"img/lock.png\" style=\"width: 50%\"></img>\n",
    "\n",
    "## Demo: Authentication Options"
   ]
  },
  {
   "cell_type": "markdown",
   "metadata": {},
   "source": [
    "The ArcGIS API for Python has a number of ways to authenticate with your web GIS. This demo provides a way to store commonly used Portals and Organizations to quickly authenticate and start working."
   ]
  },
  {
   "cell_type": "code",
   "execution_count": 1,
   "metadata": {
    "collapsed": true
   },
   "outputs": [],
   "source": [
    "# Establish my GIS\n",
    "import arcgis\n",
    "from IPython.display import display\n",
    "import getpass\n",
    "import os"
   ]
  },
  {
   "cell_type": "markdown",
   "metadata": {},
   "source": [
    "I'm going to use a Python dictionary to store the urls and other information for each Web GIS"
   ]
  },
  {
   "cell_type": "code",
   "execution_count": 2,
   "metadata": {
    "collapsed": true
   },
   "outputs": [],
   "source": [
    "portals_dict = {\n",
    "    \"esrifederal_gis\": r\"https://esrifederal.maps.arcgis.com\",\n",
    "    \"natgov_gis\": r\"http://esri-natgov105.eastus.cloudapp.azure.com/arcgis\",\n",
    "    \"dot_gis\": r\"http://dot.esri.com/portal\",\n",
    "    \"dev_gis\": r\"http://govdev.eastus.cloudapp.azure.com/arcgis\",\n",
    "    \"local_gis\": r\"https://anieto.esri.com/arcgis\"\n",
    "}"
   ]
  },
  {
   "cell_type": "markdown",
   "metadata": {},
   "source": [
    "## Authenticating with any Portal"
   ]
  },
  {
   "cell_type": "markdown",
   "metadata": {},
   "source": [
    "This cell establishes the Web GIS that I want to connect to. I don't need to remember a full URL, just a generic name."
   ]
  },
  {
   "cell_type": "code",
   "execution_count": 3,
   "metadata": {
    "collapsed": true
   },
   "outputs": [],
   "source": [
    "gis_url = portals_dict[\"natgov_gis\"]"
   ]
  },
  {
   "cell_type": "markdown",
   "metadata": {},
   "source": [
    "I now need to safely pass my authentication details"
   ]
  },
  {
   "cell_type": "code",
   "execution_count": 4,
   "metadata": {},
   "outputs": [
    {
     "name": "stdout",
     "output_type": "stream",
     "text": [
      "Username: ········\n"
     ]
    }
   ],
   "source": [
    "gis_username = getpass.getpass(prompt=\"Username: \")"
   ]
  },
  {
   "cell_type": "code",
   "execution_count": 5,
   "metadata": {},
   "outputs": [
    {
     "name": "stdout",
     "output_type": "stream",
     "text": [
      "Password: ········\n"
     ]
    }
   ],
   "source": [
    "gis_pw = getpass.getpass(prompt=\"Password: \")"
   ]
  },
  {
   "cell_type": "code",
   "execution_count": 6,
   "metadata": {
    "collapsed": true
   },
   "outputs": [],
   "source": [
    "gis = arcgis.gis.GIS(gis_url, gis_username, gis_pw, verify_cert=False)"
   ]
  },
  {
   "cell_type": "markdown",
   "metadata": {},
   "source": [
    "## Authenticating via Okta\n",
    "\n",
    "If we want to authenticate with an ArcGIS Online organization and an Okta username, use the following snippet:"
   ]
  },
  {
   "cell_type": "code",
   "execution_count": null,
   "metadata": {
    "collapsed": true
   },
   "outputs": [],
   "source": [
    "gis_url = portals_dict[\"esrifederal_gis\"]"
   ]
  },
  {
   "cell_type": "markdown",
   "metadata": {},
   "source": [
    "This cell does something slightly more interesting. \n",
    "\n",
    "In our esrifederal organization, we authenticate using Okta. To allow the API to authenticate I've created an app on that organization and received an App ID. I can then pass this to the GIS method's client_id parameter and authenticate."
   ]
  },
  {
   "cell_type": "code",
   "execution_count": null,
   "metadata": {
    "collapsed": true
   },
   "outputs": [],
   "source": [
    "if gis_url == portals_dict[\"esrifederal_gis\"]:\n",
    "    gis_app_id = getpass.getpass(prompt=\"App ID: \")\n",
    "    print(\"Attempting to log in to '{0}'...\".format(gis_url))\n",
    "    gis = arcgis.gis.GIS(gis_url, client_id=gis_app_id)\n",
    "    print(\"Successfully logged in as: \" + gis.properties.user.username)\n",
    "else:\n",
    "    gis_username = getpass.getpass(prompt=\"Username: \")\n",
    "    gis_pw = getpass.getpass(prompt=\"Password: \")\n",
    "    print(\"Attempting to log in to '{0}'...\".format(gis_url))\n",
    "    gis = arcgis.gis.GIS(gis_url, gis_username, gis_pw, verify_cert=False)\n",
    "    print(\"Successfully logged in as: \" + gis.properties.user.username)"
   ]
  },
  {
   "cell_type": "code",
   "execution_count": null,
   "metadata": {
    "collapsed": true
   },
   "outputs": [],
   "source": [
    "gis.content.search(\"1=1\")"
   ]
  },
  {
   "cell_type": "markdown",
   "metadata": {},
   "source": [
    "### How about that?\n",
    "<img src=\"img/cmdrdata.gif\" align=\"left\" style=\"width: 50%\">"
   ]
  }
 ],
 "metadata": {
  "kernelspec": {
   "display_name": "Python 3",
   "language": "python",
   "name": "python3"
  },
  "language_info": {
   "codemirror_mode": {
    "name": "ipython",
    "version": 3
   },
   "file_extension": ".py",
   "mimetype": "text/x-python",
   "name": "python",
   "nbconvert_exporter": "python",
   "pygments_lexer": "ipython3",
   "version": "3.5.3"
  }
 },
 "nbformat": 4,
 "nbformat_minor": 2
}
