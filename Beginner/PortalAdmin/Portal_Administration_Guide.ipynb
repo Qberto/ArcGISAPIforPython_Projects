{
 "cells": [
  {
   "cell_type": "markdown",
   "metadata": {},
   "source": [
    "The **Portal API for ArcGIS** allows users to perform administration tasks not in the Portal for ArcGIS website.  \n",
    "\n",
    "<br/>\n",
    "\n",
    "### Getting Started\n",
    "The root of this API begins with a well-defined URL called the portal administration root URL.\n",
    "\n",
    "*example: https://webadaptor.domain.com/portal/portaladmin*\n",
    "\n",
    "The **PortalAdminManager** class builds off of a users GIS using this URL pattern and is accessible from the **GIS** when a site is a portal not AGOL."
   ]
  },
  {
   "cell_type": "code",
   "execution_count": 2,
   "metadata": {
    "collapsed": false
   },
   "outputs": [],
   "source": [
    "from arcgis.gis import GIS\n",
    "username = \"admin\"\n",
    "password = \"********\"\n",
    "gis = GIS(\n",
    "    'https://agsapipor1.esri.com/portal', \n",
    "    username, \n",
    "    password,\n",
    "    verify_cert=False)\n",
    "portaladmin = gis.portaladmin"
   ]
  },
  {
   "cell_type": "markdown",
   "metadata": {},
   "source": [
    "The **PortalAdminManager** class provides the entry way into the Portal Administration API for Portal.  Off the root class, administrators can do the following:\n",
    "\n",
    "- Create Sites\n",
    "- Export/Import a Portal Site\n",
    "- Join Site\n",
    "- Get the Site's Status\n",
    "- Unregister a machine\n",
    "\n",
    "The additional functionality is subdivided into logical groupings:\n",
    "\n",
    "- **System** - This resource is an umbrella for a collection of system-wide resources for your portal. This resource provides access to the ArcGIS Web Adaptor configuration, portal directories, database management server, indexing capabilities, license information, and the properties of your portal.\n",
    "- **Security** - The security resource is the root of all the security configurations and operations in the portal. Through this resource, you can change the identity providers and the authentication mode for your portal.\n",
    "- **Federation** - This resource returns information about the ArcGIS Servers registered with Portal for ArcGIS.\n",
    "- **Logs** - Logs are records written by various components of the portal. You can query the logs, clean the logs, and edit log settings.\n",
    "\n",
    "<br/>"
   ]
  },
  {
   "cell_type": "markdown",
   "metadata": {},
   "source": [
    "#### Logs\n",
    "\n",
    "Logs provides debugging and other important information for administrators.  Here an administrator can clean, edit, or query the site's logs.\n",
    "\n",
    "##### Accessing the log class:"
   ]
  },
  {
   "cell_type": "code",
   "execution_count": 4,
   "metadata": {
    "collapsed": true
   },
   "outputs": [],
   "source": [
    "logs = portaladmin.logs"
   ]
  },
  {
   "cell_type": "markdown",
   "metadata": {},
   "source": [
    "##### Example: Query the logs on Portal\n",
    "From time to time, issues may arise with a local portal, and logs files will hold the key.  Administrators can access the logs using the **query** operation on the API."
   ]
  },
  {
   "cell_type": "code",
   "execution_count": 7,
   "metadata": {
    "collapsed": true
   },
   "outputs": [],
   "source": [
    "import datetime\n",
    "query = logs.query(\n",
    "    start_time=datetime.datetime.now() - datetime.timedelta(days=17))"
   ]
  },
  {
   "cell_type": "markdown",
   "metadata": {},
   "source": [
    "The above example will grab all portal messages and return them back to the administrator for the last **17** days.\n",
    "<br/>\n",
    "The longer your Portal for ArcGIS is up, there is a chance that log files can be very large.  If this occurs, users can clean the sites logs by invoking **clean** on the Logs class.\n",
    "\n",
    "##### Example: Cleaning up log files:"
   ]
  },
  {
   "cell_type": "code",
   "execution_count": 9,
   "metadata": {
    "collapsed": false
   },
   "outputs": [
    {
     "data": {
      "text/plain": [
       "True"
      ]
     },
     "execution_count": 9,
     "metadata": {},
     "output_type": "execute_result"
    }
   ],
   "source": [
    "logs.clean()"
   ]
  },
  {
   "cell_type": "markdown",
   "metadata": {},
   "source": [
    "#### Federation\n",
    "\n",
    "Local Portals rely on ArcGIS Server for hosting and a variety of other functionality.  That is why it is extremely important to know if servers are up and everything is running as expected to ensure a rich WebGIS experience.\n",
    "\n",
    "##### Accessing the federation class:"
   ]
  },
  {
   "cell_type": "code",
   "execution_count": 10,
   "metadata": {
    "collapsed": true
   },
   "outputs": [],
   "source": [
    "federation = portaladmin.federation"
   ]
  },
  {
   "cell_type": "markdown",
   "metadata": {},
   "source": [
    "##### Example Finding Problem Servers"
   ]
  },
  {
   "cell_type": "code",
   "execution_count": 11,
   "metadata": {
    "collapsed": true
   },
   "outputs": [],
   "source": [
    "result = federation.validate_all()\n",
    "for res in result['serversStatus']:\n",
    "    if res['status'] != \"success\":\n",
    "        print([res['serverId'], res['messages']])   "
   ]
  },
  {
   "cell_type": "markdown",
   "metadata": {},
   "source": [
    "If a server is down, or has a problem, the example above will print out the error message.  \n",
    "\n",
    "#### Security\n",
    "\n",
    "The security resource is the root of all the security configurations and operations in the portal. Through this resource, you can change the identity providers and the authentication mode for your portal.\n",
    "\n",
    "Here administrators can access infomation about:\n",
    "\n",
    "- OAuth Application\n",
    "- Enterprise Groups\n",
    "- Enterprise Users\n",
    "- SSL Certificates\n",
    "- Get Token Information\n",
    "- Get/Update Site Security Configuration\n",
    "\n",
    "##### Accessing the security class"
   ]
  },
  {
   "cell_type": "code",
   "execution_count": 12,
   "metadata": {
    "collapsed": true
   },
   "outputs": [],
   "source": [
    "security = portaladmin.security"
   ]
  },
  {
   "cell_type": "markdown",
   "metadata": {},
   "source": [
    "##### Accessing OAuth\n",
    "OAuth resource contains a set of operations that update the OAuth2-specific properties of registered applications in Portal for ArcGIS.\n"
   ]
  },
  {
   "cell_type": "code",
   "execution_count": 39,
   "metadata": {
    "collapsed": true
   },
   "outputs": [],
   "source": [
    "oauth = security.oauth"
   ]
  },
  {
   "cell_type": "markdown",
   "metadata": {},
   "source": [
    "##### Token Configuration\n",
    "This resource represents the token configuration within your portal. Use the set property on the **tokens** operation to change the configuration properties of the token service."
   ]
  },
  {
   "cell_type": "code",
   "execution_count": 16,
   "metadata": {
    "collapsed": false
   },
   "outputs": [],
   "source": [
    "token = security.tokens"
   ]
  },
  {
   "cell_type": "markdown",
   "metadata": {},
   "source": [
    "##### SSL Certificates\n",
    "\n",
    "This resource lists all the certificates (self-signed and CA-signed) created for the portal machine. This resource also list the certificates currently configured with the portal. The portal securely stores these certificates inside a key store.\n",
    "\n",
    "Before you enable SSL on your portal, you need to generate certificates and get them signed by a trusted certificate authority (CA). For your convenience, the portal is capable of generating self-signed certificates that can be used during development or staging. However, it is critical that you obtain CA-signed certificates when standing up a production server.\n",
    "\n",
    "In order to get a certificate signed by a CA, you need to generate a CSR (certificate signing request) and then submit it to your CA. The CA will sign your certificate request which can then be imported into the server by using the import signed certificate operation.\n",
    "\n",
    "##### Accessing the SSL Certificates"
   ]
  },
  {
   "cell_type": "code",
   "execution_count": 18,
   "metadata": {
    "collapsed": true
   },
   "outputs": [],
   "source": [
    "ssl = security.ssl"
   ]
  },
  {
   "cell_type": "markdown",
   "metadata": {},
   "source": [
    "Sometimes sites need to have certificates delete, updated, or added .  The **ssl** property will give access to do just that.\n",
    "\n",
    "##### Example: Delete Certifcate By Name"
   ]
  },
  {
   "cell_type": "code",
   "execution_count": 19,
   "metadata": {
    "collapsed": true
   },
   "outputs": [],
   "source": [
    "certificates = ssl.certificates\n",
    "for cert in certificates:\n",
    "    if cert['Alias name'].lower() == \"expired\":\n",
    "        cert.delete()\n",
    "        break"
   ]
  },
  {
   "cell_type": "markdown",
   "metadata": {},
   "source": [
    "#### Enterprise Groups\n",
    "\n",
    "The groups resource is an umbrella for operations to manage enterprise groups within the portal. The resource returns the total number of groups in the system.\n",
    "As an Administrator, you can Search Enterprise Groups, Refresh Group Membership, Get Users Within Enterprise Group, and Get Enterprise Groups For User.\n",
    "\n",
    "__ *Note: the groups are not groups in Portal rather groups in Active Directory or other similar user products.* __\n",
    "\n",
    "#### Enterprise Users\n",
    "The users resource is an umbrella for operations to manage members within Portal for ArcGIS. The resource returns the total number of members in the system.\n",
    "As an administrator, you can register enterprise accounts in your portal instance by using the Create User operation. When automatic sign-in for users is disabled in the security configuration, registered enterprise accounts can sign in as members of the portal. This gives you full control on all the accounts within a portal instance.\n",
    "\n",
    "#### Accessing Enterprise Groups"
   ]
  },
  {
   "cell_type": "code",
   "execution_count": 23,
   "metadata": {
    "collapsed": true
   },
   "outputs": [],
   "source": [
    "groups = security.groups"
   ]
  },
  {
   "cell_type": "markdown",
   "metadata": {},
   "source": [
    "#### Accessing Enterprise Users"
   ]
  },
  {
   "cell_type": "code",
   "execution_count": 24,
   "metadata": {
    "collapsed": true
   },
   "outputs": [],
   "source": [
    "users = security.enterpriseusers"
   ]
  },
  {
   "cell_type": "markdown",
   "metadata": {},
   "source": [
    "##### Example Searching Enterprise Groups\n",
    "This operation searches groups in the configured enterprise group store. You can narrow down the search using the *query* parameter."
   ]
  },
  {
   "cell_type": "code",
   "execution_count": null,
   "metadata": {
    "collapsed": false
   },
   "outputs": [],
   "source": [
    "results = groups.search(query=\"publishers\")"
   ]
  },
  {
   "cell_type": "markdown",
   "metadata": {},
   "source": [
    "### System\n",
    "This resource provides access to the ArcGIS Web Adaptor configuration, portal directories, database management server, indexing capabilities, license information, and the properties of your portal.\n",
    "\n",
    "#### Accessing the system class"
   ]
  },
  {
   "cell_type": "code",
   "execution_count": 25,
   "metadata": {
    "collapsed": true
   },
   "outputs": [],
   "source": [
    "system = portaladmin.system"
   ]
  },
  {
   "cell_type": "markdown",
   "metadata": {},
   "source": [
    "#### Database\n",
    "The database resource represents the database management system (DBMS) that contains all of the portal's configuration and relationship rules. This resource also returns the name and version of the database server currently running in the portal.\n",
    "You can use the Update Database Account operation to edit the administrative database account that is used by components within the portal to communicate with the database server."
   ]
  },
  {
   "cell_type": "code",
   "execution_count": 30,
   "metadata": {
    "collapsed": false
   },
   "outputs": [
    {
     "data": {
      "text/plain": [
       "{'adminAccount': 'admin',\n",
       " 'name': 'gwdb',\n",
       " 'version': 'psql (PostgreSQL) 9.3.12'}"
      ]
     },
     "execution_count": 30,
     "metadata": {},
     "output_type": "execute_result"
    }
   ],
   "source": [
    "database = system.database"
   ]
  },
  {
   "cell_type": "markdown",
   "metadata": {},
   "source": [
    "#### Directories\n",
    "\n",
    "The directories resource is a collection of directories that are used by the portal to store and manage content. Beginning at 10.2.1, Portal for ArcGIS supports five types of directories:\n",
    "Content directory—The content directory contains the data associated with every item in the portal.\n",
    "- **Database** directory—The built-in security store and sharing rules are stored in a Database server that places files in the database directory.\n",
    "- **Temporary** directory—The temporary directory is used as a scratch workspace for all the portal's runtime components.\n",
    "- **Index** directory—The index directory contains all the indexes associated with the content in the portal. The indexes are used for quick retrieval of information and for querying purposes.\n",
    "- **Logs** directory—Errors and warnings are written to text files in the log file directory. Each day, if new errors or warnings are encountered, a new log file is created.\n",
    "If you would like to change the path for a directory, you can use the edit operation on the directory object.\n",
    "\n",
    "##### Accessing the directories"
   ]
  },
  {
   "cell_type": "code",
   "execution_count": 32,
   "metadata": {
    "collapsed": false
   },
   "outputs": [],
   "source": [
    "directories = system.directories"
   ]
  },
  {
   "cell_type": "markdown",
   "metadata": {},
   "source": [
    "##### Accessing an individual directory"
   ]
  },
  {
   "cell_type": "code",
   "execution_count": 35,
   "metadata": {
    "collapsed": false
   },
   "outputs": [
    {
     "name": "stdout",
     "output_type": "stream",
     "text": [
      "{\"type\":\"fileStore\",\"provider\":\"FileSystem\",\"connectionString\":\"txfL1Ma_fryXmqsmyNt8Zfm4UEuNL79E-qaf8WbGB-8.\",\"isConnectionStringEncrypted\":true}\n"
     ]
    }
   ],
   "source": [
    "directory = directories[0]\n",
    "print(directory.physicalPath)"
   ]
  },
  {
   "cell_type": "markdown",
   "metadata": {},
   "source": [
    "### Indexes\n",
    "\n",
    "The indexer resource contains connection information to the default indexing service.\n",
    "\n",
    "The **System** class allows administrators to check on an re-index a portal site."
   ]
  },
  {
   "cell_type": "code",
   "execution_count": 37,
   "metadata": {
    "collapsed": false
   },
   "outputs": [
    {
     "data": {
      "text/plain": [
       "{'indexes': [{'databaseCount': 41, 'indexCount': 41, 'name': 'users'},\n",
       "  {'databaseCount': 262, 'indexCount': 262, 'name': 'groups'},\n",
       "  {'databaseCount': 7091, 'indexCount': 7091, 'name': 'search'}]}"
      ]
     },
     "execution_count": 37,
     "metadata": {},
     "output_type": "execute_result"
    }
   ],
   "source": [
    "system.index_status"
   ]
  },
  {
   "cell_type": "markdown",
   "metadata": {},
   "source": [
    "#### Reindexing Users"
   ]
  },
  {
   "cell_type": "code",
   "execution_count": 38,
   "metadata": {
    "collapsed": false
   },
   "outputs": [
    {
     "data": {
      "text/plain": [
       "True"
      ]
     },
     "execution_count": 38,
     "metadata": {},
     "output_type": "execute_result"
    }
   ],
   "source": [
    "system.reindex(mode=\"USER_MODE\")"
   ]
  },
  {
   "cell_type": "markdown",
   "metadata": {},
   "source": [
    "### License\n",
    "Portal for ArcGIS requires a valid license to function correctly. This resource returns the current status of the license.\n",
    "\n",
    "As of 10.2.1, Portal for ArcGIS enforces the license by checking the number of registered members and comparing it with the maximum number of members authorized by the license. Contact Esri Customer Service if you have questions about license levels or expiration properties.\n",
    "\n",
    "Starting at 10.5, Portal for ArcGIS enforces two levels of membership for licensing to define sets of privileges for registered members and their assigned roles."
   ]
  },
  {
   "cell_type": "code",
   "execution_count": 41,
   "metadata": {
    "collapsed": true
   },
   "outputs": [],
   "source": [
    "licenses = system.licenses"
   ]
  },
  {
   "cell_type": "code",
   "execution_count": 42,
   "metadata": {
    "collapsed": false
   },
   "outputs": [
    {
     "data": {
      "text/plain": [
       "Licenses([('maximumRegisteredMembers', 75),\n",
       "          ('isValid', True),\n",
       "          ('features',\n",
       "           [{'currentRegisteredMembers': 0,\n",
       "             'displayName': 'Portal for ArcGIS',\n",
       "             'expiration': 1508223600000,\n",
       "             'isValid': True,\n",
       "             'level': '1',\n",
       "             'maximumRegisteredMembers': 25,\n",
       "             'name': 'esriPortalLvl1',\n",
       "             'version': '10.5'},\n",
       "            {'currentRegisteredMembers': 3,\n",
       "             'displayName': 'Portal for ArcGIS',\n",
       "             'expiration': 1508223600000,\n",
       "             'isValid': True,\n",
       "             'level': '2',\n",
       "             'maximumRegisteredMembers': 50,\n",
       "             'name': 'esriPortalLvl2',\n",
       "             'version': '10.5'}]),\n",
       "          ('expiration', 1508223600000),\n",
       "          ('currentRegisteredMembers', 3)])"
      ]
     },
     "execution_count": 42,
     "metadata": {},
     "output_type": "execute_result"
    }
   ],
   "source": [
    "licenses"
   ]
  },
  {
   "cell_type": "markdown",
   "metadata": {},
   "source": [
    "In addition to basic license management, entitlement licenses can be looked up and updated.\n",
    "\n",
    "#### Example looking up Portal entitles of ArcGIS Pro"
   ]
  },
  {
   "cell_type": "code",
   "execution_count": 43,
   "metadata": {
    "collapsed": false
   },
   "outputs": [
    {
     "data": {
      "text/plain": [
       "{'appId': 'arcgisprodesktop',\n",
       " 'itemId': 'd4a332a0be784dd2be53cec0a35e0859',\n",
       " 'queue': []}"
      ]
     },
     "execution_count": 43,
     "metadata": {},
     "output_type": "execute_result"
    }
   ],
   "source": [
    "licenses.entitlements(app=\"arcgisprodesktop\")"
   ]
  },
  {
   "cell_type": "markdown",
   "metadata": {},
   "source": [
    "#### Web Adaptors\n",
    "\n",
    "The Web Adaptors resource lists the ArcGIS Web Adaptor configured with your portal. You can configure the Web Adaptor by using its configuration web page or the command line utility provided with the installation."
   ]
  },
  {
   "cell_type": "code",
   "execution_count": 44,
   "metadata": {
    "collapsed": true
   },
   "outputs": [],
   "source": [
    "wa = system.web_adaptors"
   ]
  },
  {
   "cell_type": "markdown",
   "metadata": {},
   "source": [
    "##### Accessing individual adaptors"
   ]
  },
  {
   "cell_type": "code",
   "execution_count": 49,
   "metadata": {
    "collapsed": false
   },
   "outputs": [
    {
     "name": "stdout",
     "output_type": "stream",
     "text": [
      "10.49.52.67\n"
     ]
    }
   ],
   "source": [
    "adaptor = wa.adaptors[0]\n",
    "print(adaptor.machineIP)"
   ]
  },
  {
   "cell_type": "markdown",
   "metadata": {},
   "source": [
    "#### Languages\n",
    " Controls which languages will appear in portal content search results. Use the Update languages operation to modify which languages' content will be available.\n",
    " \n",
    "##### Accessing the languages"
   ]
  },
  {
   "cell_type": "code",
   "execution_count": 50,
   "metadata": {
    "collapsed": true
   },
   "outputs": [],
   "source": [
    "lang = system.languages"
   ]
  },
  {
   "cell_type": "markdown",
   "metadata": {},
   "source": [
    "### FAQ:\n",
    "1. Who is the portaladmin API designed for?\n",
    "The portaladmin API is designed for administrators of local portal sites.\n",
    "2. What is the portaladmin API?\n",
    "The portaladmin API of the Python API for ArcGIS is a collection of tools that operated on administration tasks not exposed by the Portal for ArcGIS website.\n"
   ]
  },
  {
   "cell_type": "code",
   "execution_count": null,
   "metadata": {
    "collapsed": true
   },
   "outputs": [],
   "source": []
  }
 ],
 "metadata": {
  "kernelspec": {
   "display_name": "Python 3",
   "language": "python",
   "name": "python3"
  },
  "language_info": {
   "codemirror_mode": {
    "name": "ipython",
    "version": 3
   },
   "file_extension": ".py",
   "mimetype": "text/x-python",
   "name": "python",
   "nbconvert_exporter": "python",
   "pygments_lexer": "ipython3",
   "version": "3.5.3"
  }
 },
 "nbformat": 4,
 "nbformat_minor": 2
}
