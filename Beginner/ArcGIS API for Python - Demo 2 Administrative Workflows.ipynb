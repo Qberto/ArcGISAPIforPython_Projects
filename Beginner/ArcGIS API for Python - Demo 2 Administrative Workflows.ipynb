{
 "cells": [
  {
   "cell_type": "markdown",
   "metadata": {
    "slideshow": {
     "slide_type": "slide"
    }
   },
   "source": [
    "# <span style=\"color:purple\">ArcGIS API for Python</span>\n",
    "\n",
    "<img src=\"img/Users_02_Admin.PNG\" style=\"width:75%\"></img>\n",
    "\n",
    "## Demo: Administrative Management of Users, Roles & Groups"
   ]
  },
  {
   "cell_type": "markdown",
   "metadata": {},
   "source": [
    "### Are you frustrated with all the manual administration of users, groups, and items you have to do on your web GIS?\n",
    "\n",
    "<img src=\"img/tangled_cables.jpg\" style=\"width:100%\"></img>"
   ]
  },
  {
   "cell_type": "markdown",
   "metadata": {},
   "source": [
    "### Fear no more! \n",
    "\n",
    "### In this demo, we will go over a few workflows to show how the ArcGIS API can help administrators of Web GIS."
   ]
  },
  {
   "cell_type": "markdown",
   "metadata": {},
   "source": [
    "Let's import a few modules. We are importing getpass to provide the GIS object with a password in a safe manner."
   ]
  },
  {
   "cell_type": "code",
   "execution_count": 1,
   "metadata": {
    "collapsed": true
   },
   "outputs": [],
   "source": [
    "from arcgis.gis import *\n",
    "from getpass import getpass\n",
    "from IPython.display import display"
   ]
  },
  {
   "cell_type": "markdown",
   "metadata": {},
   "source": [
    "Let's call our GIS object and pass a local Portal."
   ]
  },
  {
   "cell_type": "code",
   "execution_count": 2,
   "metadata": {},
   "outputs": [
    {
     "name": "stdout",
     "output_type": "stream",
     "text": [
      "········\n"
     ]
    }
   ],
   "source": [
    "password = getpass()\n",
    "gis = GIS(\"https://govdev.eastus.cloudapp.azure.com/arcgis/home/index.html\", \"anieto\", password, verify_cert=False)"
   ]
  },
  {
   "cell_type": "markdown",
   "metadata": {},
   "source": [
    "### Querying for users"
   ]
  },
  {
   "cell_type": "markdown",
   "metadata": {},
   "source": [
    "Let's run a full query for listed users:"
   ]
  },
  {
   "cell_type": "code",
   "execution_count": 3,
   "metadata": {
    "scrolled": true
   },
   "outputs": [
    {
     "data": {
      "text/plain": [
       "[<User username:anieto>,\n",
       " <User username:brandon.might>,\n",
       " <User username:brandon.strohl>,\n",
       " <User username:bstayer>,\n",
       " <User username:dattaway>,\n",
       " <User username:esri_boundaries>,\n",
       " <User username:esri_demographics>,\n",
       " <User username:esri_livingatlas>,\n",
       " <User username:esri_nav>,\n",
       " <User username:IndianaDOT_User>,\n",
       " <User username:jeffrey.beal>,\n",
       " <User username:jon.nystrom>,\n",
       " <User username:juhen.yoon>,\n",
       " <User username:julia.hink>,\n",
       " <User username:lana.lau>,\n",
       " <User username:OhioDOT_User>,\n",
       " <User username:PortalAdmin>,\n",
       " <User username:rjavaraman>,\n",
       " <User username:saady.palma>,\n",
       " <User username:sarah.nieto>,\n",
       " <User username:shawn.howell>,\n",
       " <User username:system_publisher>,\n",
       " <User username:timothy.drager>,\n",
       " <User username:tom.oaks>]"
      ]
     },
     "execution_count": 3,
     "metadata": {},
     "output_type": "execute_result"
    }
   ],
   "source": [
    "gis.users.search()"
   ]
  },
  {
   "cell_type": "markdown",
   "metadata": {},
   "source": [
    "Filter your user search..."
   ]
  },
  {
   "cell_type": "code",
   "execution_count": 4,
   "metadata": {},
   "outputs": [
    {
     "data": {
      "text/plain": [
       "[<User username:anieto>, <User username:sarah.nieto>]"
      ]
     },
     "execution_count": 4,
     "metadata": {},
     "output_type": "execute_result"
    }
   ],
   "source": [
    "gis.users.search(\"nieto\")"
   ]
  },
  {
   "cell_type": "markdown",
   "metadata": {},
   "source": [
    "You can also use wildcards in the search:"
   ]
  },
  {
   "cell_type": "code",
   "execution_count": 5,
   "metadata": {},
   "outputs": [
    {
     "data": {
      "text/plain": [
       "[<User username:PortalAdmin>, <User username:saady.palma>]"
      ]
     },
     "execution_count": 5,
     "metadata": {},
     "output_type": "execute_result"
    }
   ],
   "source": [
    "gis.users.search(\"p*\")"
   ]
  },
  {
   "cell_type": "markdown",
   "metadata": {},
   "source": [
    "Let's search for my colleague, Patrick O'Brien"
   ]
  },
  {
   "cell_type": "code",
   "execution_count": 6,
   "metadata": {},
   "outputs": [
    {
     "data": {
      "text/plain": [
       "[]"
      ]
     },
     "execution_count": 6,
     "metadata": {},
     "output_type": "execute_result"
    }
   ],
   "source": [
    "gis.users.search(\"pobrien\")"
   ]
  },
  {
   "cell_type": "markdown",
   "metadata": {},
   "source": [
    "### Create a new user"
   ]
  },
  {
   "cell_type": "markdown",
   "metadata": {},
   "source": [
    "Users can be created through the API"
   ]
  },
  {
   "cell_type": "code",
   "execution_count": 7,
   "metadata": {},
   "outputs": [
    {
     "data": {
      "text/html": [
       "<div class=\"9item_container\" style=\"height: auto; overflow: hidden; border: 1px solid #cfcfcf; border-radius: 2px; background: #f6fafa; line-height: 1.21429em; padding: 10px;\">\n",
       "                    <div class=\"item_left\" style=\"width: 210px; float: left;\">\n",
       "                       <a href='https://govdev.eastus.cloudapp.azure.com/arcgis/home/user.html?user=pobrien' target='_blank'>\n",
       "                        <img src='https://govdev.eastus.cloudapp.azure.com/arcgis/home/js/arcgisonline/css/images/no-user-thumb.jpg' class=\"itemThumbnail\">\n",
       "                       </a>\n",
       "                    </div>\n",
       "\n",
       "                    <div class=\"item_right\" style=\"float: none; width: auto; overflow: hidden;\">\n",
       "                        <a href='https://govdev.eastus.cloudapp.azure.com/arcgis/home/user.html?user=pobrien' target='_blank'><b>Patrick O'Brien</b>\n",
       "                        </a>\n",
       "                        <br/><br/><b>Bio</b>: None\n",
       "                        <br/><b>First Name</b>: Patrick\n",
       "                        <br/><b>Last Name</b>: O'Brien\n",
       "                        <br/><b>Username</b>: pobrien\n",
       "                        <br/><b>Joined</b>: September 13, 2017\n",
       "\n",
       "                    </div>\n",
       "                </div>\n",
       "                "
      ],
      "text/plain": [
       "<User username:pobrien>"
      ]
     },
     "execution_count": 7,
     "metadata": {},
     "output_type": "execute_result"
    }
   ],
   "source": [
    "patrick = gis.users.create(username = \"pobrien\", \n",
    "                           password = \"Password1!\",\n",
    "                           firstname = \"Patrick\",\n",
    "                           lastname = \"O'Brien\",\n",
    "                           email = \"pobrien@esri.com\",\n",
    "                           role = \"org_user\")\n",
    "patrick"
   ]
  },
  {
   "cell_type": "markdown",
   "metadata": {},
   "source": [
    "This variable is now a \"user\" object"
   ]
  },
  {
   "cell_type": "code",
   "execution_count": 8,
   "metadata": {},
   "outputs": [
    {
     "data": {
      "text/plain": [
       "arcgis.gis.User"
      ]
     },
     "execution_count": 8,
     "metadata": {},
     "output_type": "execute_result"
    }
   ],
   "source": [
    "type(patrick)"
   ]
  },
  {
   "cell_type": "markdown",
   "metadata": {},
   "source": [
    "Use intellisense to see all the options you have available with user objects."
   ]
  },
  {
   "cell_type": "code",
   "execution_count": 9,
   "metadata": {
    "scrolled": true
   },
   "outputs": [
    {
     "data": {
      "text/plain": [
       "True"
      ]
     },
     "execution_count": 9,
     "metadata": {},
     "output_type": "execute_result"
    }
   ],
   "source": [
    "patrick.delete()"
   ]
  },
  {
   "cell_type": "markdown",
   "metadata": {},
   "source": [
    "### Querying for groups"
   ]
  },
  {
   "cell_type": "code",
   "execution_count": 10,
   "metadata": {},
   "outputs": [
    {
     "data": {
      "text/plain": [
       "[<Group title:\"Esri Boundary Layers\" owner:esri_boundaries>,\n",
       " <Group title:\"Esri Demographic Layers\" owner:esri_demographics>,\n",
       " <Group title:\"Featured Maps and Apps\" owner:PortalAdmin>,\n",
       " <Group title:\"Florida DOT\" owner:PortalAdmin>,\n",
       " <Group title:\"Indiana DOT\" owner:PortalAdmin>,\n",
       " <Group title:\"Living Atlas\" owner:esri_livingatlas>,\n",
       " <Group title:\"Living Atlas Analysis Layers\" owner:esri_livingatlas>,\n",
       " <Group title:\"Navigator Maps\" owner:esri_nav>,\n",
       " <Group title:\"Ohio DOT\" owner:PortalAdmin>,\n",
       " <Group title:\"Solution Engineers\" owner:anieto>,\n",
       " <Group title:\"USDOT - FHWA - Federal Lands Highway\" owner:anieto>]"
      ]
     },
     "execution_count": 10,
     "metadata": {},
     "output_type": "execute_result"
    }
   ],
   "source": [
    "gis.groups.search()"
   ]
  },
  {
   "cell_type": "markdown",
   "metadata": {},
   "source": [
    "Let's create the group"
   ]
  },
  {
   "cell_type": "code",
   "execution_count": 12,
   "metadata": {
    "scrolled": true
   },
   "outputs": [],
   "source": [
    "# create groups\n",
    "se_group = gis.groups.create(\"Solution Engineer Demo\", \"SE; Team\")"
   ]
  },
  {
   "cell_type": "markdown",
   "metadata": {},
   "source": [
    "This is a \"group\" object"
   ]
  },
  {
   "cell_type": "code",
   "execution_count": 13,
   "metadata": {
    "scrolled": true
   },
   "outputs": [
    {
     "data": {
      "text/html": [
       "<div class=\"9item_container\" style=\"height: auto; overflow: hidden; border: 1px solid #cfcfcf; border-radius: 2px; background: #f6fafa; line-height: 1.21429em; padding: 10px;\">\n",
       "                    <div class=\"item_left\" style=\"width: 210px; float: left;\">\n",
       "                       <a href='https://govdev.eastus.cloudapp.azure.com/arcgis/home/group.html?id=28c452a4eb52441985ce235f8430a969' target='_blank'>\n",
       "                        <img src='https://govdev.eastus.cloudapp.azure.com/arcgis/home/images/group-no-image.png' class=\"itemThumbnail\">\n",
       "                       </a>\n",
       "                    </div>\n",
       "\n",
       "                    <div class=\"item_right\" style=\"float: none; width: auto; overflow: hidden;\">\n",
       "                        <a href='https://govdev.eastus.cloudapp.azure.com/arcgis/home/group.html?id=28c452a4eb52441985ce235f8430a969' target='_blank'><b>Solution Engineer Demo</b>\n",
       "                        </a>\n",
       "                        <br/>\n",
       "                        <br/><b>Summary</b>: None\n",
       "                        <br/><b>Description</b>: None\n",
       "                        <br/><b>Owner</b>: anieto\n",
       "                        <br/><b>Created</b>: September 13, 2017\n",
       "\n",
       "                    </div>\n",
       "                </div>\n",
       "                "
      ],
      "text/plain": [
       "<Group title:\"Solution Engineer Demo\" owner:anieto>"
      ]
     },
     "execution_count": 13,
     "metadata": {},
     "output_type": "execute_result"
    }
   ],
   "source": [
    "se_group"
   ]
  },
  {
   "cell_type": "code",
   "execution_count": 14,
   "metadata": {},
   "outputs": [
    {
     "data": {
      "text/plain": [
       "arcgis.gis.Group"
      ]
     },
     "execution_count": 14,
     "metadata": {},
     "output_type": "execute_result"
    }
   ],
   "source": [
    "type(se_group)"
   ]
  },
  {
   "cell_type": "markdown",
   "metadata": {},
   "source": [
    "Like the user object, it has methods we can call on it"
   ]
  },
  {
   "cell_type": "code",
   "execution_count": null,
   "metadata": {
    "collapsed": true
   },
   "outputs": [],
   "source": [
    "se_group."
   ]
  },
  {
   "cell_type": "markdown",
   "metadata": {},
   "source": [
    "## So we know how to query, create, and delete users... now what?"
   ]
  },
  {
   "cell_type": "markdown",
   "metadata": {},
   "source": [
    "# I got an idea!\n",
    "\n",
    "<img src=\"img/idea.gif\">\n",
    "\n",
    "\n",
    "## I want to create a group for the Solution Engineers and I want to add every solution engineer in the DC office to it. \n",
    "## I also want to add this to multiple portals and ArcGIS Online organizations that the DC office is responsible for! \n",
    "## Also, I want to do this fast enough to have everyone be able to create demos ahead of FedGIS."
   ]
  },
  {
   "cell_type": "markdown",
   "metadata": {},
   "source": [
    "<img src=\"img/tangled_cables.jpg\" style=\"width:100%\"></img>"
   ]
  },
  {
   "cell_type": "markdown",
   "metadata": {},
   "source": [
    "## Have no fear! The ArcGIS API for Python is here to help."
   ]
  },
  {
   "cell_type": "markdown",
   "metadata": {},
   "source": [
    "# Step 1: Use a file containing your solution engineer information to batch create users. This can be repeated for however many portals/organizations you need."
   ]
  },
  {
   "cell_type": "code",
   "execution_count": 15,
   "metadata": {
    "collapsed": true
   },
   "outputs": [],
   "source": [
    "# Solution Engineer File\n",
    "se_info_excel = \"data/SolutionEngineers_UserList.xlsx\""
   ]
  },
  {
   "cell_type": "markdown",
   "metadata": {},
   "source": [
    "We're going to import the pandas library to quickly get the data from the excel"
   ]
  },
  {
   "cell_type": "code",
   "execution_count": 16,
   "metadata": {
    "collapsed": true
   },
   "outputs": [],
   "source": [
    "import pandas as pd"
   ]
  },
  {
   "cell_type": "code",
   "execution_count": 17,
   "metadata": {},
   "outputs": [
    {
     "data": {
      "text/html": [
       "<div>\n",
       "<style>\n",
       "    .dataframe thead tr:only-child th {\n",
       "        text-align: right;\n",
       "    }\n",
       "\n",
       "    .dataframe thead th {\n",
       "        text-align: left;\n",
       "    }\n",
       "\n",
       "    .dataframe tbody tr th {\n",
       "        vertical-align: top;\n",
       "    }\n",
       "</style>\n",
       "<table border=\"1\" class=\"dataframe\">\n",
       "  <thead>\n",
       "    <tr style=\"text-align: right;\">\n",
       "      <th></th>\n",
       "      <th>username</th>\n",
       "      <th>firstname</th>\n",
       "      <th>lastname</th>\n",
       "      <th>email</th>\n",
       "      <th>role</th>\n",
       "    </tr>\n",
       "  </thead>\n",
       "  <tbody>\n",
       "    <tr>\n",
       "      <th>0</th>\n",
       "      <td>scecilio</td>\n",
       "      <td>Scott</td>\n",
       "      <td>Cecilio</td>\n",
       "      <td>scecilio@esri.com</td>\n",
       "      <td>org_user</td>\n",
       "    </tr>\n",
       "    <tr>\n",
       "      <th>1</th>\n",
       "      <td>jfry</td>\n",
       "      <td>John</td>\n",
       "      <td>Fry</td>\n",
       "      <td>jfry@esri.com</td>\n",
       "      <td>org_user</td>\n",
       "    </tr>\n",
       "    <tr>\n",
       "      <th>2</th>\n",
       "      <td>kharrigan</td>\n",
       "      <td>Ken</td>\n",
       "      <td>Harrigan</td>\n",
       "      <td>kharrigan@esri.com</td>\n",
       "      <td>org_user</td>\n",
       "    </tr>\n",
       "    <tr>\n",
       "      <th>3</th>\n",
       "      <td>ggonzales</td>\n",
       "      <td>Gil</td>\n",
       "      <td>Gonzales</td>\n",
       "      <td>ggonzales@esri.com</td>\n",
       "      <td>org_user</td>\n",
       "    </tr>\n",
       "    <tr>\n",
       "      <th>4</th>\n",
       "      <td>jbauer</td>\n",
       "      <td>Jim</td>\n",
       "      <td>Bauer</td>\n",
       "      <td>jbauer@esri.com</td>\n",
       "      <td>org_user</td>\n",
       "    </tr>\n",
       "    <tr>\n",
       "      <th>5</th>\n",
       "      <td>rbernstein</td>\n",
       "      <td>Renee</td>\n",
       "      <td>Bernstein</td>\n",
       "      <td>rbernstein@esri.com</td>\n",
       "      <td>org_user</td>\n",
       "    </tr>\n",
       "    <tr>\n",
       "      <th>6</th>\n",
       "      <td>tquink</td>\n",
       "      <td>Tyson</td>\n",
       "      <td>Quink</td>\n",
       "      <td>tquink@esri.com</td>\n",
       "      <td>org_user</td>\n",
       "    </tr>\n",
       "    <tr>\n",
       "      <th>7</th>\n",
       "      <td>dbaird</td>\n",
       "      <td>Darren</td>\n",
       "      <td>Baird</td>\n",
       "      <td>dbaird@esri.com</td>\n",
       "      <td>org_user</td>\n",
       "    </tr>\n",
       "    <tr>\n",
       "      <th>8</th>\n",
       "      <td>mwalther</td>\n",
       "      <td>Milq</td>\n",
       "      <td>Walther-Rodriguez</td>\n",
       "      <td>mwalther@esri.com</td>\n",
       "      <td>org_user</td>\n",
       "    </tr>\n",
       "    <tr>\n",
       "      <th>9</th>\n",
       "      <td>klevy</td>\n",
       "      <td>Kate</td>\n",
       "      <td>Levy</td>\n",
       "      <td>klevy@esri.com</td>\n",
       "      <td>org_user</td>\n",
       "    </tr>\n",
       "  </tbody>\n",
       "</table>\n",
       "</div>"
      ],
      "text/plain": [
       "     username firstname           lastname                email      role\n",
       "0    scecilio     Scott            Cecilio    scecilio@esri.com  org_user\n",
       "1        jfry      John                Fry        jfry@esri.com  org_user\n",
       "2   kharrigan       Ken           Harrigan   kharrigan@esri.com  org_user\n",
       "3   ggonzales       Gil           Gonzales   ggonzales@esri.com  org_user\n",
       "4      jbauer       Jim              Bauer      jbauer@esri.com  org_user\n",
       "5  rbernstein     Renee          Bernstein  rbernstein@esri.com  org_user\n",
       "6      tquink     Tyson              Quink      tquink@esri.com  org_user\n",
       "7      dbaird    Darren              Baird      dbaird@esri.com  org_user\n",
       "8    mwalther      Milq  Walther-Rodriguez    mwalther@esri.com  org_user\n",
       "9       klevy      Kate               Levy       klevy@esri.com  org_user"
      ]
     },
     "execution_count": 17,
     "metadata": {},
     "output_type": "execute_result"
    }
   ],
   "source": [
    "se_dataframe = pd.read_excel(se_info_excel)\n",
    "se_dataframe"
   ]
  },
  {
   "cell_type": "code",
   "execution_count": 18,
   "metadata": {},
   "outputs": [
    {
     "name": "stdout",
     "output_type": "stream",
     "text": [
      "Creating user scecilio...\n",
      "Creating user jfry...\n",
      "Creating user kharrigan...\n",
      "Creating user ggonzales...\n",
      "Creating user jbauer...\n",
      "Creating user rbernstein...\n",
      "Creating user tquink...\n",
      "Creating user dbaird...\n",
      "Creating user mwalther...\n",
      "Creating user klevy...\n"
     ]
    }
   ],
   "source": [
    "# Create an empty list that will hold our usernames for all Solution Engineers\n",
    "se_users_list = []\n",
    "se_userobjects_list = []\n",
    "dummy_password = \"GoGators4Eva\"\n",
    "\n",
    "# Iterate on each record of the team info file, and create a user for it\n",
    "for index, row in se_dataframe.iterrows():\n",
    "    # Read from the record\n",
    "    username = row['username']\n",
    "    firstname = row['firstname']\n",
    "    lastname = row['lastname']\n",
    "    email = row['email']\n",
    "    role = row['role']\n",
    "    \n",
    "    print(\"Creating user {0}...\".format(username))\n",
    "    se_users_list.append(username)\n",
    "    \n",
    "    se_user = gis.users.create(username=username,\n",
    "                               password=dummy_password,\n",
    "                               firstname=firstname,\n",
    "                               lastname=lastname,\n",
    "                               email=email,\n",
    "                               role=role)\n",
    "    \n",
    "    se_userobjects_list.append(se_user)"
   ]
  },
  {
   "cell_type": "code",
   "execution_count": 19,
   "metadata": {},
   "outputs": [
    {
     "data": {
      "text/plain": [
       "['scecilio',\n",
       " 'jfry',\n",
       " 'kharrigan',\n",
       " 'ggonzales',\n",
       " 'jbauer',\n",
       " 'rbernstein',\n",
       " 'tquink',\n",
       " 'dbaird',\n",
       " 'mwalther',\n",
       " 'klevy']"
      ]
     },
     "execution_count": 19,
     "metadata": {},
     "output_type": "execute_result"
    }
   ],
   "source": [
    "se_users_list"
   ]
  },
  {
   "cell_type": "code",
   "execution_count": 20,
   "metadata": {},
   "outputs": [
    {
     "data": {
      "text/plain": [
       "[<User username:scecilio>,\n",
       " <User username:jfry>,\n",
       " <User username:kharrigan>,\n",
       " <User username:ggonzales>,\n",
       " <User username:jbauer>,\n",
       " <User username:rbernstein>,\n",
       " <User username:tquink>,\n",
       " <User username:dbaird>,\n",
       " <User username:mwalther>,\n",
       " <User username:klevy>]"
      ]
     },
     "execution_count": 20,
     "metadata": {},
     "output_type": "execute_result"
    }
   ],
   "source": [
    "se_userobjects_list"
   ]
  },
  {
   "cell_type": "code",
   "execution_count": 21,
   "metadata": {
    "scrolled": true
   },
   "outputs": [
    {
     "data": {
      "text/html": [
       "<div class=\"9item_container\" style=\"height: auto; overflow: hidden; border: 1px solid #cfcfcf; border-radius: 2px; background: #f6fafa; line-height: 1.21429em; padding: 10px;\">\n",
       "                    <div class=\"item_left\" style=\"width: 210px; float: left;\">\n",
       "                       <a href='https://govdev.eastus.cloudapp.azure.com/arcgis/home/user.html?user=scecilio' target='_blank'>\n",
       "                        <img src='https://govdev.eastus.cloudapp.azure.com/arcgis/home/js/arcgisonline/css/images/no-user-thumb.jpg' class=\"itemThumbnail\">\n",
       "                       </a>\n",
       "                    </div>\n",
       "\n",
       "                    <div class=\"item_right\" style=\"float: none; width: auto; overflow: hidden;\">\n",
       "                        <a href='https://govdev.eastus.cloudapp.azure.com/arcgis/home/user.html?user=scecilio' target='_blank'><b>Scott Cecilio</b>\n",
       "                        </a>\n",
       "                        <br/><br/><b>Bio</b>: None\n",
       "                        <br/><b>First Name</b>: Scott\n",
       "                        <br/><b>Last Name</b>: Cecilio\n",
       "                        <br/><b>Username</b>: scecilio\n",
       "                        <br/><b>Joined</b>: September 13, 2017\n",
       "\n",
       "                    </div>\n",
       "                </div>\n",
       "                "
      ],
      "text/plain": [
       "<User username:scecilio>"
      ]
     },
     "metadata": {},
     "output_type": "display_data"
    },
    {
     "data": {
      "text/html": [
       "<div class=\"9item_container\" style=\"height: auto; overflow: hidden; border: 1px solid #cfcfcf; border-radius: 2px; background: #f6fafa; line-height: 1.21429em; padding: 10px;\">\n",
       "                    <div class=\"item_left\" style=\"width: 210px; float: left;\">\n",
       "                       <a href='https://govdev.eastus.cloudapp.azure.com/arcgis/home/user.html?user=jfry' target='_blank'>\n",
       "                        <img src='https://govdev.eastus.cloudapp.azure.com/arcgis/home/js/arcgisonline/css/images/no-user-thumb.jpg' class=\"itemThumbnail\">\n",
       "                       </a>\n",
       "                    </div>\n",
       "\n",
       "                    <div class=\"item_right\" style=\"float: none; width: auto; overflow: hidden;\">\n",
       "                        <a href='https://govdev.eastus.cloudapp.azure.com/arcgis/home/user.html?user=jfry' target='_blank'><b>John Fry</b>\n",
       "                        </a>\n",
       "                        <br/><br/><b>Bio</b>: None\n",
       "                        <br/><b>First Name</b>: John\n",
       "                        <br/><b>Last Name</b>: Fry\n",
       "                        <br/><b>Username</b>: jfry\n",
       "                        <br/><b>Joined</b>: September 13, 2017\n",
       "\n",
       "                    </div>\n",
       "                </div>\n",
       "                "
      ],
      "text/plain": [
       "<User username:jfry>"
      ]
     },
     "metadata": {},
     "output_type": "display_data"
    },
    {
     "data": {
      "text/html": [
       "<div class=\"9item_container\" style=\"height: auto; overflow: hidden; border: 1px solid #cfcfcf; border-radius: 2px; background: #f6fafa; line-height: 1.21429em; padding: 10px;\">\n",
       "                    <div class=\"item_left\" style=\"width: 210px; float: left;\">\n",
       "                       <a href='https://govdev.eastus.cloudapp.azure.com/arcgis/home/user.html?user=kharrigan' target='_blank'>\n",
       "                        <img src='https://govdev.eastus.cloudapp.azure.com/arcgis/home/js/arcgisonline/css/images/no-user-thumb.jpg' class=\"itemThumbnail\">\n",
       "                       </a>\n",
       "                    </div>\n",
       "\n",
       "                    <div class=\"item_right\" style=\"float: none; width: auto; overflow: hidden;\">\n",
       "                        <a href='https://govdev.eastus.cloudapp.azure.com/arcgis/home/user.html?user=kharrigan' target='_blank'><b>Ken Harrigan</b>\n",
       "                        </a>\n",
       "                        <br/><br/><b>Bio</b>: None\n",
       "                        <br/><b>First Name</b>: Ken\n",
       "                        <br/><b>Last Name</b>: Harrigan\n",
       "                        <br/><b>Username</b>: kharrigan\n",
       "                        <br/><b>Joined</b>: September 13, 2017\n",
       "\n",
       "                    </div>\n",
       "                </div>\n",
       "                "
      ],
      "text/plain": [
       "<User username:kharrigan>"
      ]
     },
     "metadata": {},
     "output_type": "display_data"
    },
    {
     "data": {
      "text/html": [
       "<div class=\"9item_container\" style=\"height: auto; overflow: hidden; border: 1px solid #cfcfcf; border-radius: 2px; background: #f6fafa; line-height: 1.21429em; padding: 10px;\">\n",
       "                    <div class=\"item_left\" style=\"width: 210px; float: left;\">\n",
       "                       <a href='https://govdev.eastus.cloudapp.azure.com/arcgis/home/user.html?user=ggonzales' target='_blank'>\n",
       "                        <img src='https://govdev.eastus.cloudapp.azure.com/arcgis/home/js/arcgisonline/css/images/no-user-thumb.jpg' class=\"itemThumbnail\">\n",
       "                       </a>\n",
       "                    </div>\n",
       "\n",
       "                    <div class=\"item_right\" style=\"float: none; width: auto; overflow: hidden;\">\n",
       "                        <a href='https://govdev.eastus.cloudapp.azure.com/arcgis/home/user.html?user=ggonzales' target='_blank'><b>Gil Gonzales</b>\n",
       "                        </a>\n",
       "                        <br/><br/><b>Bio</b>: None\n",
       "                        <br/><b>First Name</b>: Gil\n",
       "                        <br/><b>Last Name</b>: Gonzales\n",
       "                        <br/><b>Username</b>: ggonzales\n",
       "                        <br/><b>Joined</b>: September 13, 2017\n",
       "\n",
       "                    </div>\n",
       "                </div>\n",
       "                "
      ],
      "text/plain": [
       "<User username:ggonzales>"
      ]
     },
     "metadata": {},
     "output_type": "display_data"
    },
    {
     "data": {
      "text/html": [
       "<div class=\"9item_container\" style=\"height: auto; overflow: hidden; border: 1px solid #cfcfcf; border-radius: 2px; background: #f6fafa; line-height: 1.21429em; padding: 10px;\">\n",
       "                    <div class=\"item_left\" style=\"width: 210px; float: left;\">\n",
       "                       <a href='https://govdev.eastus.cloudapp.azure.com/arcgis/home/user.html?user=jbauer' target='_blank'>\n",
       "                        <img src='https://govdev.eastus.cloudapp.azure.com/arcgis/home/js/arcgisonline/css/images/no-user-thumb.jpg' class=\"itemThumbnail\">\n",
       "                       </a>\n",
       "                    </div>\n",
       "\n",
       "                    <div class=\"item_right\" style=\"float: none; width: auto; overflow: hidden;\">\n",
       "                        <a href='https://govdev.eastus.cloudapp.azure.com/arcgis/home/user.html?user=jbauer' target='_blank'><b>Jim Bauer</b>\n",
       "                        </a>\n",
       "                        <br/><br/><b>Bio</b>: None\n",
       "                        <br/><b>First Name</b>: Jim\n",
       "                        <br/><b>Last Name</b>: Bauer\n",
       "                        <br/><b>Username</b>: jbauer\n",
       "                        <br/><b>Joined</b>: September 13, 2017\n",
       "\n",
       "                    </div>\n",
       "                </div>\n",
       "                "
      ],
      "text/plain": [
       "<User username:jbauer>"
      ]
     },
     "metadata": {},
     "output_type": "display_data"
    },
    {
     "data": {
      "text/html": [
       "<div class=\"9item_container\" style=\"height: auto; overflow: hidden; border: 1px solid #cfcfcf; border-radius: 2px; background: #f6fafa; line-height: 1.21429em; padding: 10px;\">\n",
       "                    <div class=\"item_left\" style=\"width: 210px; float: left;\">\n",
       "                       <a href='https://govdev.eastus.cloudapp.azure.com/arcgis/home/user.html?user=rbernstein' target='_blank'>\n",
       "                        <img src='https://govdev.eastus.cloudapp.azure.com/arcgis/home/js/arcgisonline/css/images/no-user-thumb.jpg' class=\"itemThumbnail\">\n",
       "                       </a>\n",
       "                    </div>\n",
       "\n",
       "                    <div class=\"item_right\" style=\"float: none; width: auto; overflow: hidden;\">\n",
       "                        <a href='https://govdev.eastus.cloudapp.azure.com/arcgis/home/user.html?user=rbernstein' target='_blank'><b>Renee Bernstein</b>\n",
       "                        </a>\n",
       "                        <br/><br/><b>Bio</b>: None\n",
       "                        <br/><b>First Name</b>: Renee\n",
       "                        <br/><b>Last Name</b>: Bernstein\n",
       "                        <br/><b>Username</b>: rbernstein\n",
       "                        <br/><b>Joined</b>: September 13, 2017\n",
       "\n",
       "                    </div>\n",
       "                </div>\n",
       "                "
      ],
      "text/plain": [
       "<User username:rbernstein>"
      ]
     },
     "metadata": {},
     "output_type": "display_data"
    },
    {
     "data": {
      "text/html": [
       "<div class=\"9item_container\" style=\"height: auto; overflow: hidden; border: 1px solid #cfcfcf; border-radius: 2px; background: #f6fafa; line-height: 1.21429em; padding: 10px;\">\n",
       "                    <div class=\"item_left\" style=\"width: 210px; float: left;\">\n",
       "                       <a href='https://govdev.eastus.cloudapp.azure.com/arcgis/home/user.html?user=tquink' target='_blank'>\n",
       "                        <img src='https://govdev.eastus.cloudapp.azure.com/arcgis/home/js/arcgisonline/css/images/no-user-thumb.jpg' class=\"itemThumbnail\">\n",
       "                       </a>\n",
       "                    </div>\n",
       "\n",
       "                    <div class=\"item_right\" style=\"float: none; width: auto; overflow: hidden;\">\n",
       "                        <a href='https://govdev.eastus.cloudapp.azure.com/arcgis/home/user.html?user=tquink' target='_blank'><b>Tyson Quink</b>\n",
       "                        </a>\n",
       "                        <br/><br/><b>Bio</b>: None\n",
       "                        <br/><b>First Name</b>: Tyson\n",
       "                        <br/><b>Last Name</b>: Quink\n",
       "                        <br/><b>Username</b>: tquink\n",
       "                        <br/><b>Joined</b>: September 13, 2017\n",
       "\n",
       "                    </div>\n",
       "                </div>\n",
       "                "
      ],
      "text/plain": [
       "<User username:tquink>"
      ]
     },
     "metadata": {},
     "output_type": "display_data"
    },
    {
     "data": {
      "text/html": [
       "<div class=\"9item_container\" style=\"height: auto; overflow: hidden; border: 1px solid #cfcfcf; border-radius: 2px; background: #f6fafa; line-height: 1.21429em; padding: 10px;\">\n",
       "                    <div class=\"item_left\" style=\"width: 210px; float: left;\">\n",
       "                       <a href='https://govdev.eastus.cloudapp.azure.com/arcgis/home/user.html?user=dbaird' target='_blank'>\n",
       "                        <img src='https://govdev.eastus.cloudapp.azure.com/arcgis/home/js/arcgisonline/css/images/no-user-thumb.jpg' class=\"itemThumbnail\">\n",
       "                       </a>\n",
       "                    </div>\n",
       "\n",
       "                    <div class=\"item_right\" style=\"float: none; width: auto; overflow: hidden;\">\n",
       "                        <a href='https://govdev.eastus.cloudapp.azure.com/arcgis/home/user.html?user=dbaird' target='_blank'><b>Darren Baird</b>\n",
       "                        </a>\n",
       "                        <br/><br/><b>Bio</b>: None\n",
       "                        <br/><b>First Name</b>: Darren\n",
       "                        <br/><b>Last Name</b>: Baird\n",
       "                        <br/><b>Username</b>: dbaird\n",
       "                        <br/><b>Joined</b>: September 13, 2017\n",
       "\n",
       "                    </div>\n",
       "                </div>\n",
       "                "
      ],
      "text/plain": [
       "<User username:dbaird>"
      ]
     },
     "metadata": {},
     "output_type": "display_data"
    },
    {
     "data": {
      "text/html": [
       "<div class=\"9item_container\" style=\"height: auto; overflow: hidden; border: 1px solid #cfcfcf; border-radius: 2px; background: #f6fafa; line-height: 1.21429em; padding: 10px;\">\n",
       "                    <div class=\"item_left\" style=\"width: 210px; float: left;\">\n",
       "                       <a href='https://govdev.eastus.cloudapp.azure.com/arcgis/home/user.html?user=mwalther' target='_blank'>\n",
       "                        <img src='https://govdev.eastus.cloudapp.azure.com/arcgis/home/js/arcgisonline/css/images/no-user-thumb.jpg' class=\"itemThumbnail\">\n",
       "                       </a>\n",
       "                    </div>\n",
       "\n",
       "                    <div class=\"item_right\" style=\"float: none; width: auto; overflow: hidden;\">\n",
       "                        <a href='https://govdev.eastus.cloudapp.azure.com/arcgis/home/user.html?user=mwalther' target='_blank'><b>Milq Walther-Rodriguez</b>\n",
       "                        </a>\n",
       "                        <br/><br/><b>Bio</b>: None\n",
       "                        <br/><b>First Name</b>: Milq\n",
       "                        <br/><b>Last Name</b>: Walther-Rodriguez\n",
       "                        <br/><b>Username</b>: mwalther\n",
       "                        <br/><b>Joined</b>: September 13, 2017\n",
       "\n",
       "                    </div>\n",
       "                </div>\n",
       "                "
      ],
      "text/plain": [
       "<User username:mwalther>"
      ]
     },
     "metadata": {},
     "output_type": "display_data"
    },
    {
     "data": {
      "text/html": [
       "<div class=\"9item_container\" style=\"height: auto; overflow: hidden; border: 1px solid #cfcfcf; border-radius: 2px; background: #f6fafa; line-height: 1.21429em; padding: 10px;\">\n",
       "                    <div class=\"item_left\" style=\"width: 210px; float: left;\">\n",
       "                       <a href='https://govdev.eastus.cloudapp.azure.com/arcgis/home/user.html?user=klevy' target='_blank'>\n",
       "                        <img src='https://govdev.eastus.cloudapp.azure.com/arcgis/home/js/arcgisonline/css/images/no-user-thumb.jpg' class=\"itemThumbnail\">\n",
       "                       </a>\n",
       "                    </div>\n",
       "\n",
       "                    <div class=\"item_right\" style=\"float: none; width: auto; overflow: hidden;\">\n",
       "                        <a href='https://govdev.eastus.cloudapp.azure.com/arcgis/home/user.html?user=klevy' target='_blank'><b>Kate Levy</b>\n",
       "                        </a>\n",
       "                        <br/><br/><b>Bio</b>: None\n",
       "                        <br/><b>First Name</b>: Kate\n",
       "                        <br/><b>Last Name</b>: Levy\n",
       "                        <br/><b>Username</b>: klevy\n",
       "                        <br/><b>Joined</b>: September 13, 2017\n",
       "\n",
       "                    </div>\n",
       "                </div>\n",
       "                "
      ],
      "text/plain": [
       "<User username:klevy>"
      ]
     },
     "metadata": {},
     "output_type": "display_data"
    }
   ],
   "source": [
    "for usr_obj in se_userobjects_list:\n",
    "    display(usr_obj)"
   ]
  },
  {
   "cell_type": "markdown",
   "metadata": {},
   "source": [
    "Now we use the list of solution engineer usernames to add it to the Solution Engineers group using its object's method"
   ]
  },
  {
   "cell_type": "code",
   "execution_count": 22,
   "metadata": {},
   "outputs": [
    {
     "data": {
      "text/plain": [
       "{'notAdded': []}"
      ]
     },
     "execution_count": 22,
     "metadata": {},
     "output_type": "execute_result"
    }
   ],
   "source": [
    "se_group.add_users(se_users_list)"
   ]
  },
  {
   "cell_type": "code",
   "execution_count": 23,
   "metadata": {},
   "outputs": [
    {
     "data": {
      "text/plain": [
       "{'admins': ['anieto'],\n",
       " 'owner': 'anieto',\n",
       " 'users': ['klevy',\n",
       "  'jfry',\n",
       "  'mwalther',\n",
       "  'scecilio',\n",
       "  'ggonzales',\n",
       "  'rbernstein',\n",
       "  'jbauer',\n",
       "  'kharrigan',\n",
       "  'tquink',\n",
       "  'dbaird']}"
      ]
     },
     "execution_count": 23,
     "metadata": {},
     "output_type": "execute_result"
    }
   ],
   "source": [
    "se_group.get_members()"
   ]
  },
  {
   "cell_type": "markdown",
   "metadata": {},
   "source": [
    "# Ruh Roh!\n",
    "\n",
    "<img src=\"img/tenor.gif\">\n",
    "\n",
    "\n",
    "## We found out that we have to remove every user from every Portal and ArcGIS Online organization we added them to.\n",
    "\n",
    "## We also have to do it fast and leave everything nice and tidy!"
   ]
  },
  {
   "cell_type": "markdown",
   "metadata": {},
   "source": [
    "<img src=\"img/tangled_cables.jpg\" style=\"width:100%\"></img>"
   ]
  },
  {
   "cell_type": "markdown",
   "metadata": {},
   "source": [
    "## Have no fear! The ArcGIS API for Python is here to help."
   ]
  },
  {
   "cell_type": "markdown",
   "metadata": {},
   "source": [
    "We're going to use the list of user objects to call their delete method and clean up after ourselves. \n",
    "\n",
    "Hint: This is also the way I clean up after my own self for this demo!"
   ]
  },
  {
   "cell_type": "code",
   "execution_count": 24,
   "metadata": {},
   "outputs": [
    {
     "data": {
      "text/plain": [
       "{'notRemoved': []}"
      ]
     },
     "execution_count": 24,
     "metadata": {},
     "output_type": "execute_result"
    }
   ],
   "source": [
    "se_group.remove_users(se_users_list)"
   ]
  },
  {
   "cell_type": "code",
   "execution_count": 25,
   "metadata": {
    "scrolled": true
   },
   "outputs": [
    {
     "name": "stdout",
     "output_type": "stream",
     "text": [
      "Removing user scecilio...\n",
      "Removing user jfry...\n",
      "Removing user kharrigan...\n",
      "Removing user ggonzales...\n",
      "Removing user jbauer...\n",
      "Removing user rbernstein...\n",
      "Removing user tquink...\n",
      "Removing user dbaird...\n",
      "Removing user mwalther...\n",
      "Removing user klevy...\n"
     ]
    }
   ],
   "source": [
    "for user_obj in se_userobjects_list:\n",
    "    print(\"Removing user {0}...\".format(user_obj.username))\n",
    "    user_obj.delete()"
   ]
  },
  {
   "cell_type": "markdown",
   "metadata": {},
   "source": [
    "#### You could also quickly create a script that takes a threshold for the last login date for each user, and removes the user if they have not signed in recently enough.\n",
    "\n",
    "#### ... or if you want to be nice, you can use the smtplib library in Python to send them a warning e-mail."
   ]
  },
  {
   "cell_type": "markdown",
   "metadata": {},
   "source": [
    "### How about that?\n",
    "<img src=\"img/cmdrdata.gif\" align=\"left\" style=\"width: 50%\">"
   ]
  }
 ],
 "metadata": {
  "kernelspec": {
   "display_name": "Python 3",
   "language": "python",
   "name": "python3"
  },
  "language_info": {
   "codemirror_mode": {
    "name": "ipython",
    "version": 3
   },
   "file_extension": ".py",
   "mimetype": "text/x-python",
   "name": "python",
   "nbconvert_exporter": "python",
   "pygments_lexer": "ipython3",
   "version": "3.6.1"
  }
 },
 "nbformat": 4,
 "nbformat_minor": 2
}
