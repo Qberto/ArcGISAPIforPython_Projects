{
 "cells": [
  {
   "cell_type": "markdown",
   "metadata": {},
   "source": [
    "### Authenticate to the GIS"
   ]
  },
  {
   "cell_type": "code",
   "execution_count": 14,
   "metadata": {
    "collapsed": true
   },
   "outputs": [],
   "source": [
    "# Establish my GIS\n",
    "import arcgis\n",
    "from IPython.display import display\n",
    "import getpass\n",
    "import os\n",
    "import pandas as pd"
   ]
  },
  {
   "cell_type": "code",
   "execution_count": 2,
   "metadata": {
    "collapsed": true
   },
   "outputs": [],
   "source": [
    "portals_dict = {\n",
    "    \"esrifederal_gis\": r\"https://esrifederal.maps.arcgis.com\",\n",
    "    \"natgov_gis\": r\"http://esri-natgov105.eastus.cloudapp.azure.com/arcgis\",\n",
    "    \"dot_gis\": r\"http://dot.esri.com/portal\",\n",
    "    \"dev_gis\": r\"http://govdev.eastus.cloudapp.azure.com/arcgis\",\n",
    "    \"local_gis\": r\"https://anieto.esri.com/arcgis\"\n",
    "}"
   ]
  },
  {
   "cell_type": "code",
   "execution_count": 6,
   "metadata": {
    "collapsed": true
   },
   "outputs": [],
   "source": [
    "gis_url = portals_dict[\"dev_gis\"]"
   ]
  },
  {
   "cell_type": "code",
   "execution_count": 7,
   "metadata": {},
   "outputs": [
    {
     "name": "stdout",
     "output_type": "stream",
     "text": [
      "Username: ········\n"
     ]
    }
   ],
   "source": [
    "gis_username = getpass.getpass(prompt=\"Username: \")"
   ]
  },
  {
   "cell_type": "code",
   "execution_count": 8,
   "metadata": {},
   "outputs": [
    {
     "name": "stdout",
     "output_type": "stream",
     "text": [
      "Password: ········\n"
     ]
    }
   ],
   "source": [
    "gis_pw = getpass.getpass(prompt=\"Password: \")"
   ]
  },
  {
   "cell_type": "code",
   "execution_count": 9,
   "metadata": {
    "collapsed": true
   },
   "outputs": [],
   "source": [
    "gis = arcgis.gis.GIS(gis_url, gis_username, gis_pw, verify_cert=False)"
   ]
  },
  {
   "cell_type": "markdown",
   "metadata": {},
   "source": [
    "### Build my user object and user name lists"
   ]
  },
  {
   "cell_type": "code",
   "execution_count": 11,
   "metadata": {
    "scrolled": true
   },
   "outputs": [
    {
     "data": {
      "text/plain": [
       "[<User username:anieto>,\n",
       " <User username:brandon.might>,\n",
       " <User username:brandon.strohl>,\n",
       " <User username:bstayer>,\n",
       " <User username:dattaway>,\n",
       " <User username:esri_boundaries>,\n",
       " <User username:esri_demographics>,\n",
       " <User username:esri_livingatlas>,\n",
       " <User username:esri_nav>,\n",
       " <User username:IndianaDOT_User>,\n",
       " <User username:jeffrey.beal>,\n",
       " <User username:jon.nystrom>,\n",
       " <User username:juhen.yoon>,\n",
       " <User username:julia.hink>,\n",
       " <User username:lana.lau>,\n",
       " <User username:OhioDOT_User>,\n",
       " <User username:PortalAdmin>,\n",
       " <User username:rjavaraman>,\n",
       " <User username:saady.palma>,\n",
       " <User username:sarah.nieto>,\n",
       " <User username:shawn.howell>,\n",
       " <User username:system_publisher>,\n",
       " <User username:timothy.drager>,\n",
       " <User username:tom.oaks>]"
      ]
     },
     "execution_count": 11,
     "metadata": {},
     "output_type": "execute_result"
    }
   ],
   "source": [
    "userobj_list = gis.users.search()\n",
    "userobj_list"
   ]
  },
  {
   "cell_type": "code",
   "execution_count": 13,
   "metadata": {
    "scrolled": true
   },
   "outputs": [
    {
     "data": {
      "text/plain": [
       "['anieto',\n",
       " 'brandon.might',\n",
       " 'brandon.strohl',\n",
       " 'bstayer',\n",
       " 'dattaway',\n",
       " 'esri_boundaries',\n",
       " 'esri_demographics',\n",
       " 'esri_livingatlas',\n",
       " 'esri_nav',\n",
       " 'IndianaDOT_User',\n",
       " 'jeffrey.beal',\n",
       " 'jon.nystrom',\n",
       " 'juhen.yoon',\n",
       " 'julia.hink',\n",
       " 'lana.lau',\n",
       " 'OhioDOT_User',\n",
       " 'PortalAdmin',\n",
       " 'rjavaraman',\n",
       " 'saady.palma',\n",
       " 'sarah.nieto',\n",
       " 'shawn.howell',\n",
       " 'system_publisher',\n",
       " 'timothy.drager',\n",
       " 'tom.oaks']"
      ]
     },
     "execution_count": 13,
     "metadata": {},
     "output_type": "execute_result"
    }
   ],
   "source": [
    "usernames_list = [user.username for user in gis.users.search()]\n",
    "usernames_list"
   ]
  },
  {
   "cell_type": "markdown",
   "metadata": {},
   "source": [
    "### Create a Pandas dataframe "
   ]
  },
  {
   "cell_type": "code",
   "execution_count": 15,
   "metadata": {
    "collapsed": true
   },
   "outputs": [],
   "source": [
    "df = pd.DataFrame()"
   ]
  },
  {
   "cell_type": "code",
   "execution_count": 16,
   "metadata": {
    "collapsed": true
   },
   "outputs": [],
   "source": [
    "df['usernames'] = usernames_list"
   ]
  },
  {
   "cell_type": "code",
   "execution_count": 17,
   "metadata": {
    "scrolled": true
   },
   "outputs": [
    {
     "data": {
      "text/html": [
       "<div>\n",
       "<style>\n",
       "    .dataframe thead tr:only-child th {\n",
       "        text-align: right;\n",
       "    }\n",
       "\n",
       "    .dataframe thead th {\n",
       "        text-align: left;\n",
       "    }\n",
       "\n",
       "    .dataframe tbody tr th {\n",
       "        vertical-align: top;\n",
       "    }\n",
       "</style>\n",
       "<table border=\"1\" class=\"dataframe\">\n",
       "  <thead>\n",
       "    <tr style=\"text-align: right;\">\n",
       "      <th></th>\n",
       "      <th>usernames</th>\n",
       "    </tr>\n",
       "  </thead>\n",
       "  <tbody>\n",
       "    <tr>\n",
       "      <th>0</th>\n",
       "      <td>anieto</td>\n",
       "    </tr>\n",
       "    <tr>\n",
       "      <th>1</th>\n",
       "      <td>brandon.might</td>\n",
       "    </tr>\n",
       "    <tr>\n",
       "      <th>2</th>\n",
       "      <td>brandon.strohl</td>\n",
       "    </tr>\n",
       "    <tr>\n",
       "      <th>3</th>\n",
       "      <td>bstayer</td>\n",
       "    </tr>\n",
       "    <tr>\n",
       "      <th>4</th>\n",
       "      <td>dattaway</td>\n",
       "    </tr>\n",
       "    <tr>\n",
       "      <th>5</th>\n",
       "      <td>esri_boundaries</td>\n",
       "    </tr>\n",
       "    <tr>\n",
       "      <th>6</th>\n",
       "      <td>esri_demographics</td>\n",
       "    </tr>\n",
       "    <tr>\n",
       "      <th>7</th>\n",
       "      <td>esri_livingatlas</td>\n",
       "    </tr>\n",
       "    <tr>\n",
       "      <th>8</th>\n",
       "      <td>esri_nav</td>\n",
       "    </tr>\n",
       "    <tr>\n",
       "      <th>9</th>\n",
       "      <td>IndianaDOT_User</td>\n",
       "    </tr>\n",
       "    <tr>\n",
       "      <th>10</th>\n",
       "      <td>jeffrey.beal</td>\n",
       "    </tr>\n",
       "    <tr>\n",
       "      <th>11</th>\n",
       "      <td>jon.nystrom</td>\n",
       "    </tr>\n",
       "    <tr>\n",
       "      <th>12</th>\n",
       "      <td>juhen.yoon</td>\n",
       "    </tr>\n",
       "    <tr>\n",
       "      <th>13</th>\n",
       "      <td>julia.hink</td>\n",
       "    </tr>\n",
       "    <tr>\n",
       "      <th>14</th>\n",
       "      <td>lana.lau</td>\n",
       "    </tr>\n",
       "    <tr>\n",
       "      <th>15</th>\n",
       "      <td>OhioDOT_User</td>\n",
       "    </tr>\n",
       "    <tr>\n",
       "      <th>16</th>\n",
       "      <td>PortalAdmin</td>\n",
       "    </tr>\n",
       "    <tr>\n",
       "      <th>17</th>\n",
       "      <td>rjavaraman</td>\n",
       "    </tr>\n",
       "    <tr>\n",
       "      <th>18</th>\n",
       "      <td>saady.palma</td>\n",
       "    </tr>\n",
       "    <tr>\n",
       "      <th>19</th>\n",
       "      <td>sarah.nieto</td>\n",
       "    </tr>\n",
       "    <tr>\n",
       "      <th>20</th>\n",
       "      <td>shawn.howell</td>\n",
       "    </tr>\n",
       "    <tr>\n",
       "      <th>21</th>\n",
       "      <td>system_publisher</td>\n",
       "    </tr>\n",
       "    <tr>\n",
       "      <th>22</th>\n",
       "      <td>timothy.drager</td>\n",
       "    </tr>\n",
       "    <tr>\n",
       "      <th>23</th>\n",
       "      <td>tom.oaks</td>\n",
       "    </tr>\n",
       "  </tbody>\n",
       "</table>\n",
       "</div>"
      ],
      "text/plain": [
       "            usernames\n",
       "0              anieto\n",
       "1       brandon.might\n",
       "2      brandon.strohl\n",
       "3             bstayer\n",
       "4            dattaway\n",
       "5     esri_boundaries\n",
       "6   esri_demographics\n",
       "7    esri_livingatlas\n",
       "8            esri_nav\n",
       "9     IndianaDOT_User\n",
       "10       jeffrey.beal\n",
       "11        jon.nystrom\n",
       "12         juhen.yoon\n",
       "13         julia.hink\n",
       "14           lana.lau\n",
       "15       OhioDOT_User\n",
       "16        PortalAdmin\n",
       "17         rjavaraman\n",
       "18        saady.palma\n",
       "19        sarah.nieto\n",
       "20       shawn.howell\n",
       "21   system_publisher\n",
       "22     timothy.drager\n",
       "23           tom.oaks"
      ]
     },
     "execution_count": 17,
     "metadata": {},
     "output_type": "execute_result"
    }
   ],
   "source": [
    "pd.DataFrame()"
   ]
  },
  {
   "cell_type": "code",
   "execution_count": null,
   "metadata": {
    "collapsed": true
   },
   "outputs": [],
   "source": []
  }
 ],
 "metadata": {
  "kernelspec": {
   "display_name": "Python 3",
   "language": "python",
   "name": "python3"
  },
  "language_info": {
   "codemirror_mode": {
    "name": "ipython",
    "version": 3
   },
   "file_extension": ".py",
   "mimetype": "text/x-python",
   "name": "python",
   "nbconvert_exporter": "python",
   "pygments_lexer": "ipython3",
   "version": "3.6.1"
  }
 },
 "nbformat": 4,
 "nbformat_minor": 2
}
