{
 "cells": [
  {
   "cell_type": "code",
   "execution_count": 22,
   "metadata": {
    "collapsed": true
   },
   "outputs": [],
   "source": [
    "import numpy as np\n",
    "import cv2\n",
    "import time\n",
    "import requests\n",
    "import threading\n",
    "from threading import Thread, Event, ThreadError"
   ]
  },
  {
   "cell_type": "code",
   "execution_count": 25,
   "metadata": {},
   "outputs": [
    {
     "name": "stdout",
     "output_type": "stream",
     "text": [
      "camera initialised\n",
      "camera stream started\n"
     ]
    },
    {
     "name": "stderr",
     "output_type": "stream",
     "text": [
      "Exception in thread Thread-6:\n",
      "Traceback (most recent call last):\n",
      "  File \"C:\\Program Files\\Anaconda3\\lib\\threading.py\", line 914, in _bootstrap_inner\n",
      "    self.run()\n",
      "  File \"C:\\Program Files\\Anaconda3\\lib\\threading.py\", line 862, in run\n",
      "    self._target(*self._args, **self._kwargs)\n",
      "  File \"<ipython-input-25-d3d14a959307>\", line 19, in run\n",
      "    bytes+=self.stream.raw.read(1024)\n",
      "TypeError: Can't convert 'bytes' object to str implicitly\n",
      "\n"
     ]
    }
   ],
   "source": [
    "class Cam():\n",
    "\n",
    "    def __init__(self, url):\n",
    "    \n",
    "        self.stream = requests.get(url, stream=True)\n",
    "        self.thread_cancelled = False\n",
    "        self.thread = Thread(target=self.run)\n",
    "        print(\"camera initialised\")\n",
    "\n",
    "    \n",
    "    def start(self):\n",
    "        self.thread.start()\n",
    "        print(\"camera stream started\")\n",
    "    \n",
    "    def run(self):\n",
    "        bytes=''\n",
    "        while not self.thread_cancelled:\n",
    "            try:\n",
    "                bytes+=self.stream.raw.read(1024)\n",
    "                a = bytes.find('\\xff\\xd8')\n",
    "                b = bytes.find('\\xff\\xd9')\n",
    "                if a!=-1 and b!=-1:\n",
    "                    jpg = bytes[a:b+2]\n",
    "                    bytes= bytes[b+2:]\n",
    "                    img = cv2.imdecode(np.fromstring(jpg, dtype=np.uint8),cv2.IMREAD_COLOR)\n",
    "                    cv2.imshow('cam',img)\n",
    "                    if cv2.waitKey(1) ==27:\n",
    "                        exit(0)\n",
    "            except ThreadError:\n",
    "                self.thread_cancelled = True\n",
    "        \n",
    "        \n",
    "    def is_running(self):\n",
    "        return self.thread.isAlive()\n",
    "      \n",
    "    \n",
    "    def shut_down(self):\n",
    "        self.thread_cancelled = True\n",
    "        #block while waiting for thread to terminate\n",
    "        while self.thread.isAlive():\n",
    "            time.sleep(1)\n",
    "        return True\n",
    "\n",
    "  \n",
    "    \n",
    "if __name__ == \"__main__\":\n",
    "    url = 'http://ie.trafficland.com/v1.0/700/full?system=trafficland-www&pubtoken=ad465d1741517b42a094f14809ff94c6143a96294a7bcc0512a5c4a6a4bdc7fd&refreshRate=2000&cache=86044'\n",
    "    cam = Cam(url)\n",
    "    cam.start()"
   ]
  },
  {
   "cell_type": "code",
   "execution_count": null,
   "metadata": {
    "collapsed": true
   },
   "outputs": [],
   "source": []
  }
 ],
 "metadata": {
  "anaconda-cloud": {},
  "kernelspec": {
   "display_name": "Python [default]",
   "language": "python",
   "name": "python3"
  },
  "language_info": {
   "codemirror_mode": {
    "name": "ipython",
    "version": 3
   },
   "file_extension": ".py",
   "mimetype": "text/x-python",
   "name": "python",
   "nbconvert_exporter": "python",
   "pygments_lexer": "ipython3",
   "version": "3.5.4"
  }
 },
 "nbformat": 4,
 "nbformat_minor": 1
}
